{
 "cells": [
  {
   "cell_type": "code",
   "execution_count": 1,
   "id": "initial_id",
   "metadata": {
    "ExecuteTime": {
     "end_time": "2024-12-30T09:54:16.436006Z",
     "start_time": "2024-12-30T09:54:16.431179Z"
    },
    "collapsed": true
   },
   "outputs": [],
   "source": [
    "import pandas as pd\n",
    "import os\n",
    "\n",
    "folder = '../data'"
   ]
  },
  {
   "cell_type": "code",
   "execution_count": 2,
   "id": "67ea7139e5372774",
   "metadata": {
    "ExecuteTime": {
     "end_time": "2024-12-30T09:34:21.503285Z",
     "start_time": "2024-12-30T09:34:21.493158Z"
    }
   },
   "outputs": [
    {
     "data": {
      "text/plain": [
       "'../data'"
      ]
     },
     "execution_count": 2,
     "metadata": {},
     "output_type": "execute_result"
    }
   ],
   "source": [
    "folder"
   ]
  },
  {
   "cell_type": "code",
   "execution_count": 13,
   "id": "ba56bb7c16199455",
   "metadata": {
    "ExecuteTime": {
     "end_time": "2024-12-30T09:34:31.094182Z",
     "start_time": "2024-12-30T09:34:31.081946Z"
    }
   },
   "outputs": [
    {
     "name": "stdout",
     "output_type": "stream",
     "text": [
      "     Unnamed: 0.1  Unnamed: 0                                      Question  \\\n",
      "0             0.0         0.0                     Q[교환/반품] 상품을 교환/반품하고 싶어요.   \n",
      "1             1.0         1.0                Q[반품] 상품의 포장을 훼손했는데 반품할 수 있나요?   \n",
      "2             2.0         2.0                Q[교환/반품] 교환/반품이 가능한 기준은 무엇인가요?   \n",
      "3             3.0         3.0                       Q[반품비] 반품 비용은 누가 부담하나요?   \n",
      "4             4.0         4.0                  Q[교환/반품] 교환/반품 신청을 철회하고 싶어요.   \n",
      "..            ...         ...                                           ...   \n",
      "304          75.0        75.0  Q[배송] 배송 및 회수 요청사항에 소화전/EPS실/TPS실을 지정해도 되나요?   \n",
      "305          76.0        76.0     Q[배송지] 한 번에 같이 구매한 상품의 배송지를 각각 설정할 수 있나요?   \n",
      "306          77.0        77.0       Q[새벽배송] 새벽배송의 수령 방법과 문자 알림 시간을 바꾸고 싶어요.   \n",
      "307          78.0        78.0       Q[배송지] 상품 결제 후 상품준비중 이라고 하는데 배송지 변경되나요?   \n",
      "308          79.0        79.0               Q[배송] 쿠팡 배송차량의 문제는 어디에 말하면 되나요?   \n",
      "\n",
      "                                                Answer  keywords  count  \n",
      "0    교환 및 반품은 사용하지 않은 상품에 한하여 가능하며 고객님께서 마이쿠팡을 통해 직...    CANCEL      0  \n",
      "1    상품의 포장도 상품의 가치 중 하나로 인정받는 상품이 있습니다. 이러한 상품의 포장...    CANCEL      0  \n",
      "2    미사용 상품에 한하여 교환/반품이 가능합니다. 상품을 회수한 후 검수 단계에서 문제...    CANCEL      0  \n",
      "3    귀책사유에 따라 반품 비용의 부담 주체가 다릅니다. 상품 불량/파손/오배송 등 판매...    CANCEL      0  \n",
      "4    교환/반품할 상품이 아직 회수되지 않았거나 교환 받을 상품이 아직 발송되지 않은 경...    CANCEL      0  \n",
      "..                                                 ...       ...    ...  \n",
      "304  아니요. 화재예방 소방시설 설치/유지 및 안전 관리에 관한 법률(제10조)에 따라 ...  DELIVERY      0  \n",
      "305  아니요. 한 주문번호 당 배송지는 한 곳만 설정이 가능합니다. \\n 상품을 각각 다...  DELIVERY      0  \n",
      "306  다음의 방법을 통해 새벽배송의 수령 방법과 문자 알림 시간을 변경할 수 있습니다. ...  DELIVERY      0  \n",
      "307  로켓배송 상품만 주문하셨다면 상품을 준비하는 중에도 배송지 변경이 가능합니다.\\n ...  DELIVERY      0  \n",
      "308  쿠팡 배송차량의 사고 과속 주차 문제 등으로 확인이 필요할 시 고객님의 주소지 및 ...  DELIVERY      0  \n",
      "\n",
      "[309 rows x 6 columns]\n"
     ]
    }
   ],
   "source": [
    "df = pd.DataFrame()\n",
    "\n",
    "# 빈 리스트로 CSV 파일 데이터를 저장할 공간 준비\n",
    "df_list = []\n",
    "\n",
    "# main - sub 연결 없이 - 하나의 sub가 다양한 main에서 쓰이기 때문에 mapping하지 않고 그냥 다 합침\n",
    "for file in os.listdir(folder):\n",
    "    df = pd.read_csv(f\"../data/{file}\", encoding='utf-8-sig')  # 각 CSV 파일을 DataFrame으로 읽기\n",
    "    df_list.append(df)  # 읽은 DataFrame을 리스트에 추가\n",
    "\n",
    "# 모든 DataFrame을 하나로 합치기\n",
    "final_df = pd.concat(df_list, ignore_index=True)  # ignore_index=True로 인덱스 초기화\n",
    "\n",
    "# 결과 DataFrame 출력\n",
    "print(final_df)"
   ]
  },
  {
   "cell_type": "code",
   "execution_count": 14,
   "id": "b325a896230f3cb8",
   "metadata": {
    "ExecuteTime": {
     "end_time": "2024-12-30T09:34:32.709091Z",
     "start_time": "2024-12-30T09:34:32.688899Z"
    }
   },
   "outputs": [
    {
     "data": {
      "text/html": [
       "<div>\n",
       "<style scoped>\n",
       "    .dataframe tbody tr th:only-of-type {\n",
       "        vertical-align: middle;\n",
       "    }\n",
       "\n",
       "    .dataframe tbody tr th {\n",
       "        vertical-align: top;\n",
       "    }\n",
       "\n",
       "    .dataframe thead th {\n",
       "        text-align: right;\n",
       "    }\n",
       "</style>\n",
       "<table border=\"1\" class=\"dataframe\">\n",
       "  <thead>\n",
       "    <tr style=\"text-align: right;\">\n",
       "      <th></th>\n",
       "      <th>Unnamed: 0.1</th>\n",
       "      <th>Unnamed: 0</th>\n",
       "      <th>Question</th>\n",
       "      <th>Answer</th>\n",
       "      <th>keywords</th>\n",
       "      <th>count</th>\n",
       "    </tr>\n",
       "  </thead>\n",
       "  <tbody>\n",
       "    <tr>\n",
       "      <th>0</th>\n",
       "      <td>0.0</td>\n",
       "      <td>0.0</td>\n",
       "      <td>Q[교환/반품] 상품을 교환/반품하고 싶어요.</td>\n",
       "      <td>교환 및 반품은 사용하지 않은 상품에 한하여 가능하며 고객님께서 마이쿠팡을 통해 직...</td>\n",
       "      <td>CANCEL</td>\n",
       "      <td>0</td>\n",
       "    </tr>\n",
       "    <tr>\n",
       "      <th>1</th>\n",
       "      <td>1.0</td>\n",
       "      <td>1.0</td>\n",
       "      <td>Q[반품] 상품의 포장을 훼손했는데 반품할 수 있나요?</td>\n",
       "      <td>상품의 포장도 상품의 가치 중 하나로 인정받는 상품이 있습니다. 이러한 상품의 포장...</td>\n",
       "      <td>CANCEL</td>\n",
       "      <td>0</td>\n",
       "    </tr>\n",
       "    <tr>\n",
       "      <th>2</th>\n",
       "      <td>2.0</td>\n",
       "      <td>2.0</td>\n",
       "      <td>Q[교환/반품] 교환/반품이 가능한 기준은 무엇인가요?</td>\n",
       "      <td>미사용 상품에 한하여 교환/반품이 가능합니다. 상품을 회수한 후 검수 단계에서 문제...</td>\n",
       "      <td>CANCEL</td>\n",
       "      <td>0</td>\n",
       "    </tr>\n",
       "    <tr>\n",
       "      <th>3</th>\n",
       "      <td>3.0</td>\n",
       "      <td>3.0</td>\n",
       "      <td>Q[반품비] 반품 비용은 누가 부담하나요?</td>\n",
       "      <td>귀책사유에 따라 반품 비용의 부담 주체가 다릅니다. 상품 불량/파손/오배송 등 판매...</td>\n",
       "      <td>CANCEL</td>\n",
       "      <td>0</td>\n",
       "    </tr>\n",
       "    <tr>\n",
       "      <th>4</th>\n",
       "      <td>4.0</td>\n",
       "      <td>4.0</td>\n",
       "      <td>Q[교환/반품] 교환/반품 신청을 철회하고 싶어요.</td>\n",
       "      <td>교환/반품할 상품이 아직 회수되지 않았거나 교환 받을 상품이 아직 발송되지 않은 경...</td>\n",
       "      <td>CANCEL</td>\n",
       "      <td>0</td>\n",
       "    </tr>\n",
       "  </tbody>\n",
       "</table>\n",
       "</div>"
      ],
      "text/plain": [
       "   Unnamed: 0.1  Unnamed: 0                        Question  \\\n",
       "0           0.0         0.0       Q[교환/반품] 상품을 교환/반품하고 싶어요.   \n",
       "1           1.0         1.0  Q[반품] 상품의 포장을 훼손했는데 반품할 수 있나요?   \n",
       "2           2.0         2.0  Q[교환/반품] 교환/반품이 가능한 기준은 무엇인가요?   \n",
       "3           3.0         3.0         Q[반품비] 반품 비용은 누가 부담하나요?   \n",
       "4           4.0         4.0    Q[교환/반품] 교환/반품 신청을 철회하고 싶어요.   \n",
       "\n",
       "                                              Answer keywords  count  \n",
       "0  교환 및 반품은 사용하지 않은 상품에 한하여 가능하며 고객님께서 마이쿠팡을 통해 직...   CANCEL      0  \n",
       "1  상품의 포장도 상품의 가치 중 하나로 인정받는 상품이 있습니다. 이러한 상품의 포장...   CANCEL      0  \n",
       "2  미사용 상품에 한하여 교환/반품이 가능합니다. 상품을 회수한 후 검수 단계에서 문제...   CANCEL      0  \n",
       "3  귀책사유에 따라 반품 비용의 부담 주체가 다릅니다. 상품 불량/파손/오배송 등 판매...   CANCEL      0  \n",
       "4  교환/반품할 상품이 아직 회수되지 않았거나 교환 받을 상품이 아직 발송되지 않은 경...   CANCEL      0  "
      ]
     },
     "execution_count": 14,
     "metadata": {},
     "output_type": "execute_result"
    }
   ],
   "source": [
    "final_df.head()"
   ]
  },
  {
   "cell_type": "code",
   "execution_count": 16,
   "id": "23d2a49a",
   "metadata": {},
   "outputs": [
    {
     "ename": "KeyError",
     "evalue": "\"['Unnamed: 0.1', 'Unnamed: 0'] not found in axis\"",
     "output_type": "error",
     "traceback": [
      "\u001b[0;31m---------------------------------------------------------------------------\u001b[0m",
      "\u001b[0;31mKeyError\u001b[0m                                  Traceback (most recent call last)",
      "Cell \u001b[0;32mIn[16], line 1\u001b[0m\n\u001b[0;32m----> 1\u001b[0m \u001b[43mfinal_df\u001b[49m\u001b[38;5;241;43m.\u001b[39;49m\u001b[43mdrop\u001b[49m\u001b[43m(\u001b[49m\u001b[43mcolumns\u001b[49m\u001b[38;5;241;43m=\u001b[39;49m\u001b[43m[\u001b[49m\u001b[38;5;124;43m'\u001b[39;49m\u001b[38;5;124;43mUnnamed: 0.1\u001b[39;49m\u001b[38;5;124;43m'\u001b[39;49m\u001b[43m,\u001b[49m\u001b[43m \u001b[49m\u001b[38;5;124;43m'\u001b[39;49m\u001b[38;5;124;43mUnnamed: 0\u001b[39;49m\u001b[38;5;124;43m'\u001b[39;49m\u001b[43m]\u001b[49m\u001b[43m,\u001b[49m\u001b[43m \u001b[49m\u001b[43minplace\u001b[49m\u001b[38;5;241;43m=\u001b[39;49m\u001b[38;5;28;43;01mTrue\u001b[39;49;00m\u001b[43m)\u001b[49m\n\u001b[1;32m      2\u001b[0m \u001b[38;5;28mprint\u001b[39m(final_df)\n",
      "File \u001b[0;32m~/miniconda3/envs/llm-env/lib/python3.10/site-packages/pandas/core/frame.py:5581\u001b[0m, in \u001b[0;36mDataFrame.drop\u001b[0;34m(self, labels, axis, index, columns, level, inplace, errors)\u001b[0m\n\u001b[1;32m   5433\u001b[0m \u001b[38;5;28;01mdef\u001b[39;00m \u001b[38;5;21mdrop\u001b[39m(\n\u001b[1;32m   5434\u001b[0m     \u001b[38;5;28mself\u001b[39m,\n\u001b[1;32m   5435\u001b[0m     labels: IndexLabel \u001b[38;5;241m|\u001b[39m \u001b[38;5;28;01mNone\u001b[39;00m \u001b[38;5;241m=\u001b[39m \u001b[38;5;28;01mNone\u001b[39;00m,\n\u001b[0;32m   (...)\u001b[0m\n\u001b[1;32m   5442\u001b[0m     errors: IgnoreRaise \u001b[38;5;241m=\u001b[39m \u001b[38;5;124m\"\u001b[39m\u001b[38;5;124mraise\u001b[39m\u001b[38;5;124m\"\u001b[39m,\n\u001b[1;32m   5443\u001b[0m ) \u001b[38;5;241m-\u001b[39m\u001b[38;5;241m>\u001b[39m DataFrame \u001b[38;5;241m|\u001b[39m \u001b[38;5;28;01mNone\u001b[39;00m:\n\u001b[1;32m   5444\u001b[0m \u001b[38;5;250m    \u001b[39m\u001b[38;5;124;03m\"\"\"\u001b[39;00m\n\u001b[1;32m   5445\u001b[0m \u001b[38;5;124;03m    Drop specified labels from rows or columns.\u001b[39;00m\n\u001b[1;32m   5446\u001b[0m \n\u001b[0;32m   (...)\u001b[0m\n\u001b[1;32m   5579\u001b[0m \u001b[38;5;124;03m            weight  1.0     0.8\u001b[39;00m\n\u001b[1;32m   5580\u001b[0m \u001b[38;5;124;03m    \"\"\"\u001b[39;00m\n\u001b[0;32m-> 5581\u001b[0m     \u001b[38;5;28;01mreturn\u001b[39;00m \u001b[38;5;28;43msuper\u001b[39;49m\u001b[43m(\u001b[49m\u001b[43m)\u001b[49m\u001b[38;5;241;43m.\u001b[39;49m\u001b[43mdrop\u001b[49m\u001b[43m(\u001b[49m\n\u001b[1;32m   5582\u001b[0m \u001b[43m        \u001b[49m\u001b[43mlabels\u001b[49m\u001b[38;5;241;43m=\u001b[39;49m\u001b[43mlabels\u001b[49m\u001b[43m,\u001b[49m\n\u001b[1;32m   5583\u001b[0m \u001b[43m        \u001b[49m\u001b[43maxis\u001b[49m\u001b[38;5;241;43m=\u001b[39;49m\u001b[43maxis\u001b[49m\u001b[43m,\u001b[49m\n\u001b[1;32m   5584\u001b[0m \u001b[43m        \u001b[49m\u001b[43mindex\u001b[49m\u001b[38;5;241;43m=\u001b[39;49m\u001b[43mindex\u001b[49m\u001b[43m,\u001b[49m\n\u001b[1;32m   5585\u001b[0m \u001b[43m        \u001b[49m\u001b[43mcolumns\u001b[49m\u001b[38;5;241;43m=\u001b[39;49m\u001b[43mcolumns\u001b[49m\u001b[43m,\u001b[49m\n\u001b[1;32m   5586\u001b[0m \u001b[43m        \u001b[49m\u001b[43mlevel\u001b[49m\u001b[38;5;241;43m=\u001b[39;49m\u001b[43mlevel\u001b[49m\u001b[43m,\u001b[49m\n\u001b[1;32m   5587\u001b[0m \u001b[43m        \u001b[49m\u001b[43minplace\u001b[49m\u001b[38;5;241;43m=\u001b[39;49m\u001b[43minplace\u001b[49m\u001b[43m,\u001b[49m\n\u001b[1;32m   5588\u001b[0m \u001b[43m        \u001b[49m\u001b[43merrors\u001b[49m\u001b[38;5;241;43m=\u001b[39;49m\u001b[43merrors\u001b[49m\u001b[43m,\u001b[49m\n\u001b[1;32m   5589\u001b[0m \u001b[43m    \u001b[49m\u001b[43m)\u001b[49m\n",
      "File \u001b[0;32m~/miniconda3/envs/llm-env/lib/python3.10/site-packages/pandas/core/generic.py:4788\u001b[0m, in \u001b[0;36mNDFrame.drop\u001b[0;34m(self, labels, axis, index, columns, level, inplace, errors)\u001b[0m\n\u001b[1;32m   4786\u001b[0m \u001b[38;5;28;01mfor\u001b[39;00m axis, labels \u001b[38;5;129;01min\u001b[39;00m axes\u001b[38;5;241m.\u001b[39mitems():\n\u001b[1;32m   4787\u001b[0m     \u001b[38;5;28;01mif\u001b[39;00m labels \u001b[38;5;129;01mis\u001b[39;00m \u001b[38;5;129;01mnot\u001b[39;00m \u001b[38;5;28;01mNone\u001b[39;00m:\n\u001b[0;32m-> 4788\u001b[0m         obj \u001b[38;5;241m=\u001b[39m \u001b[43mobj\u001b[49m\u001b[38;5;241;43m.\u001b[39;49m\u001b[43m_drop_axis\u001b[49m\u001b[43m(\u001b[49m\u001b[43mlabels\u001b[49m\u001b[43m,\u001b[49m\u001b[43m \u001b[49m\u001b[43maxis\u001b[49m\u001b[43m,\u001b[49m\u001b[43m \u001b[49m\u001b[43mlevel\u001b[49m\u001b[38;5;241;43m=\u001b[39;49m\u001b[43mlevel\u001b[49m\u001b[43m,\u001b[49m\u001b[43m \u001b[49m\u001b[43merrors\u001b[49m\u001b[38;5;241;43m=\u001b[39;49m\u001b[43merrors\u001b[49m\u001b[43m)\u001b[49m\n\u001b[1;32m   4790\u001b[0m \u001b[38;5;28;01mif\u001b[39;00m inplace:\n\u001b[1;32m   4791\u001b[0m     \u001b[38;5;28mself\u001b[39m\u001b[38;5;241m.\u001b[39m_update_inplace(obj)\n",
      "File \u001b[0;32m~/miniconda3/envs/llm-env/lib/python3.10/site-packages/pandas/core/generic.py:4830\u001b[0m, in \u001b[0;36mNDFrame._drop_axis\u001b[0;34m(self, labels, axis, level, errors, only_slice)\u001b[0m\n\u001b[1;32m   4828\u001b[0m         new_axis \u001b[38;5;241m=\u001b[39m axis\u001b[38;5;241m.\u001b[39mdrop(labels, level\u001b[38;5;241m=\u001b[39mlevel, errors\u001b[38;5;241m=\u001b[39merrors)\n\u001b[1;32m   4829\u001b[0m     \u001b[38;5;28;01melse\u001b[39;00m:\n\u001b[0;32m-> 4830\u001b[0m         new_axis \u001b[38;5;241m=\u001b[39m \u001b[43maxis\u001b[49m\u001b[38;5;241;43m.\u001b[39;49m\u001b[43mdrop\u001b[49m\u001b[43m(\u001b[49m\u001b[43mlabels\u001b[49m\u001b[43m,\u001b[49m\u001b[43m \u001b[49m\u001b[43merrors\u001b[49m\u001b[38;5;241;43m=\u001b[39;49m\u001b[43merrors\u001b[49m\u001b[43m)\u001b[49m\n\u001b[1;32m   4831\u001b[0m     indexer \u001b[38;5;241m=\u001b[39m axis\u001b[38;5;241m.\u001b[39mget_indexer(new_axis)\n\u001b[1;32m   4833\u001b[0m \u001b[38;5;66;03m# Case for non-unique axis\u001b[39;00m\n\u001b[1;32m   4834\u001b[0m \u001b[38;5;28;01melse\u001b[39;00m:\n",
      "File \u001b[0;32m~/miniconda3/envs/llm-env/lib/python3.10/site-packages/pandas/core/indexes/base.py:7070\u001b[0m, in \u001b[0;36mIndex.drop\u001b[0;34m(self, labels, errors)\u001b[0m\n\u001b[1;32m   7068\u001b[0m \u001b[38;5;28;01mif\u001b[39;00m mask\u001b[38;5;241m.\u001b[39many():\n\u001b[1;32m   7069\u001b[0m     \u001b[38;5;28;01mif\u001b[39;00m errors \u001b[38;5;241m!=\u001b[39m \u001b[38;5;124m\"\u001b[39m\u001b[38;5;124mignore\u001b[39m\u001b[38;5;124m\"\u001b[39m:\n\u001b[0;32m-> 7070\u001b[0m         \u001b[38;5;28;01mraise\u001b[39;00m \u001b[38;5;167;01mKeyError\u001b[39;00m(\u001b[38;5;124mf\u001b[39m\u001b[38;5;124m\"\u001b[39m\u001b[38;5;132;01m{\u001b[39;00mlabels[mask]\u001b[38;5;241m.\u001b[39mtolist()\u001b[38;5;132;01m}\u001b[39;00m\u001b[38;5;124m not found in axis\u001b[39m\u001b[38;5;124m\"\u001b[39m)\n\u001b[1;32m   7071\u001b[0m     indexer \u001b[38;5;241m=\u001b[39m indexer[\u001b[38;5;241m~\u001b[39mmask]\n\u001b[1;32m   7072\u001b[0m \u001b[38;5;28;01mreturn\u001b[39;00m \u001b[38;5;28mself\u001b[39m\u001b[38;5;241m.\u001b[39mdelete(indexer)\n",
      "\u001b[0;31mKeyError\u001b[0m: \"['Unnamed: 0.1', 'Unnamed: 0'] not found in axis\""
     ]
    }
   ],
   "source": [
    "final_df.drop(columns=['Unnamed: 0.1', 'Unnamed: 0'], inplace=True)"
   ]
  },
  {
   "cell_type": "code",
   "execution_count": 17,
   "id": "51013bf0",
   "metadata": {},
   "outputs": [
    {
     "name": "stdout",
     "output_type": "stream",
     "text": [
      "                         Question  \\\n",
      "0       Q[교환/반품] 상품을 교환/반품하고 싶어요.   \n",
      "1  Q[반품] 상품의 포장을 훼손했는데 반품할 수 있나요?   \n",
      "2  Q[교환/반품] 교환/반품이 가능한 기준은 무엇인가요?   \n",
      "3         Q[반품비] 반품 비용은 누가 부담하나요?   \n",
      "4    Q[교환/반품] 교환/반품 신청을 철회하고 싶어요.   \n",
      "\n",
      "                                              Answer keywords  count  \n",
      "0  교환 및 반품은 사용하지 않은 상품에 한하여 가능하며 고객님께서 마이쿠팡을 통해 직...   CANCEL      0  \n",
      "1  상품의 포장도 상품의 가치 중 하나로 인정받는 상품이 있습니다. 이러한 상품의 포장...   CANCEL      0  \n",
      "2  미사용 상품에 한하여 교환/반품이 가능합니다. 상품을 회수한 후 검수 단계에서 문제...   CANCEL      0  \n",
      "3  귀책사유에 따라 반품 비용의 부담 주체가 다릅니다. 상품 불량/파손/오배송 등 판매...   CANCEL      0  \n",
      "4  교환/반품할 상품이 아직 회수되지 않았거나 교환 받을 상품이 아직 발송되지 않은 경...   CANCEL      0  \n"
     ]
    }
   ],
   "source": [
    "print(final_df.head())"
   ]
  },
  {
   "cell_type": "code",
   "execution_count": 20,
   "id": "3e8f8af9",
   "metadata": {},
   "outputs": [],
   "source": [
    "final_df.to_csv(\"../data/final_qa_list.csv\")"
   ]
  },
  {
   "cell_type": "code",
   "execution_count": 21,
   "id": "19e20e1d",
   "metadata": {},
   "outputs": [
    {
     "data": {
      "text/html": [
       "<div>\n",
       "<style scoped>\n",
       "    .dataframe tbody tr th:only-of-type {\n",
       "        vertical-align: middle;\n",
       "    }\n",
       "\n",
       "    .dataframe tbody tr th {\n",
       "        vertical-align: top;\n",
       "    }\n",
       "\n",
       "    .dataframe thead th {\n",
       "        text-align: right;\n",
       "    }\n",
       "</style>\n",
       "<table border=\"1\" class=\"dataframe\">\n",
       "  <thead>\n",
       "    <tr style=\"text-align: right;\">\n",
       "      <th></th>\n",
       "      <th>Unnamed: 0</th>\n",
       "      <th>Question</th>\n",
       "      <th>Answer</th>\n",
       "      <th>keywords</th>\n",
       "      <th>count</th>\n",
       "    </tr>\n",
       "  </thead>\n",
       "  <tbody>\n",
       "    <tr>\n",
       "      <th>0</th>\n",
       "      <td>0</td>\n",
       "      <td>Q[교환/반품] 상품을 교환/반품하고 싶어요.</td>\n",
       "      <td>교환 및 반품은 사용하지 않은 상품에 한하여 가능하며 고객님께서 마이쿠팡을 통해 직...</td>\n",
       "      <td>CANCEL</td>\n",
       "      <td>0</td>\n",
       "    </tr>\n",
       "    <tr>\n",
       "      <th>1</th>\n",
       "      <td>1</td>\n",
       "      <td>Q[반품] 상품의 포장을 훼손했는데 반품할 수 있나요?</td>\n",
       "      <td>상품의 포장도 상품의 가치 중 하나로 인정받는 상품이 있습니다. 이러한 상품의 포장...</td>\n",
       "      <td>CANCEL</td>\n",
       "      <td>0</td>\n",
       "    </tr>\n",
       "    <tr>\n",
       "      <th>2</th>\n",
       "      <td>2</td>\n",
       "      <td>Q[교환/반품] 교환/반품이 가능한 기준은 무엇인가요?</td>\n",
       "      <td>미사용 상품에 한하여 교환/반품이 가능합니다. 상품을 회수한 후 검수 단계에서 문제...</td>\n",
       "      <td>CANCEL</td>\n",
       "      <td>0</td>\n",
       "    </tr>\n",
       "    <tr>\n",
       "      <th>3</th>\n",
       "      <td>3</td>\n",
       "      <td>Q[반품비] 반품 비용은 누가 부담하나요?</td>\n",
       "      <td>귀책사유에 따라 반품 비용의 부담 주체가 다릅니다. 상품 불량/파손/오배송 등 판매...</td>\n",
       "      <td>CANCEL</td>\n",
       "      <td>0</td>\n",
       "    </tr>\n",
       "    <tr>\n",
       "      <th>4</th>\n",
       "      <td>4</td>\n",
       "      <td>Q[교환/반품] 교환/반품 신청을 철회하고 싶어요.</td>\n",
       "      <td>교환/반품할 상품이 아직 회수되지 않았거나 교환 받을 상품이 아직 발송되지 않은 경...</td>\n",
       "      <td>CANCEL</td>\n",
       "      <td>0</td>\n",
       "    </tr>\n",
       "  </tbody>\n",
       "</table>\n",
       "</div>"
      ],
      "text/plain": [
       "   Unnamed: 0                        Question  \\\n",
       "0           0       Q[교환/반품] 상품을 교환/반품하고 싶어요.   \n",
       "1           1  Q[반품] 상품의 포장을 훼손했는데 반품할 수 있나요?   \n",
       "2           2  Q[교환/반품] 교환/반품이 가능한 기준은 무엇인가요?   \n",
       "3           3         Q[반품비] 반품 비용은 누가 부담하나요?   \n",
       "4           4    Q[교환/반품] 교환/반품 신청을 철회하고 싶어요.   \n",
       "\n",
       "                                              Answer keywords  count  \n",
       "0  교환 및 반품은 사용하지 않은 상품에 한하여 가능하며 고객님께서 마이쿠팡을 통해 직...   CANCEL      0  \n",
       "1  상품의 포장도 상품의 가치 중 하나로 인정받는 상품이 있습니다. 이러한 상품의 포장...   CANCEL      0  \n",
       "2  미사용 상품에 한하여 교환/반품이 가능합니다. 상품을 회수한 후 검수 단계에서 문제...   CANCEL      0  \n",
       "3  귀책사유에 따라 반품 비용의 부담 주체가 다릅니다. 상품 불량/파손/오배송 등 판매...   CANCEL      0  \n",
       "4  교환/반품할 상품이 아직 회수되지 않았거나 교환 받을 상품이 아직 발송되지 않은 경...   CANCEL      0  "
      ]
     },
     "execution_count": 21,
     "metadata": {},
     "output_type": "execute_result"
    }
   ],
   "source": [
    "final_check_df = pd.read_csv(\"../data/final_qa_list.csv\")\n",
    "\n",
    "final_check_df.head()"
   ]
  }
 ],
 "metadata": {
  "kernelspec": {
   "display_name": "llm-env",
   "language": "python",
   "name": "python3"
  },
  "language_info": {
   "codemirror_mode": {
    "name": "ipython",
    "version": 3
   },
   "file_extension": ".py",
   "mimetype": "text/x-python",
   "name": "python",
   "nbconvert_exporter": "python",
   "pygments_lexer": "ipython3",
   "version": "3.10.0"
  }
 },
 "nbformat": 4,
 "nbformat_minor": 5
}
