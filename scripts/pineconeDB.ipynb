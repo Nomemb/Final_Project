{
 "cells": [
  {
   "cell_type": "code",
   "execution_count": null,
   "id": "initial_id",
   "metadata": {
    "ExecuteTime": {
     "end_time": "2024-12-18T05:16:58.088720Z",
     "start_time": "2024-12-18T05:16:55.790626Z"
    },
    "collapsed": true
   },
   "outputs": [],
   "source": [
    "%pip install pandas langchain langchain-core langchain-community langchain-text-splitters langchain-openai langchain-pinecone docx2txt langchain_upstage"
   ]
  },
  {
   "cell_type": "code",
   "execution_count": 1,
   "id": "4f6218586b0a150d",
   "metadata": {},
   "outputs": [
    {
     "data": {
      "text/plain": [
       "True"
      ]
     },
     "execution_count": 1,
     "metadata": {},
     "output_type": "execute_result"
    }
   ],
   "source": [
    "import os \n",
    "import dotenv \n",
    "\n",
    "dotenv.load_dotenv()"
   ]
  },
  {
   "cell_type": "code",
   "execution_count": 2,
   "id": "10da07f7226e7b6",
   "metadata": {
    "ExecuteTime": {
     "end_time": "2025-01-04T01:09:00.377569Z",
     "start_time": "2025-01-04T01:08:58.775239Z"
    }
   },
   "outputs": [],
   "source": [
    "import os\n",
    "import pandas as pd\n",
    "from langchain_upstage import UpstageEmbeddings\n",
    "from langchain_text_splitters import RecursiveCharacterTextSplitter\n",
    "from langchain_community.document_loaders.csv_loader import CSVLoader\n",
    "from pprint import pprint\n",
    "\n",
    "# GPT_API_KEY = os.environ.get(\"OPENAI_API_KEY\")\n",
    "UPSTAGE_API_KEY = os.environ.get(\"UPSTAGE_API_KEY\")\n",
    "PINECONE_API_KEY = os.environ.get(\"PINECONE_API_KEY\")\n",
    "\n",
    "text_splitter = RecursiveCharacterTextSplitter(\n",
    "    chunk_size=1500,\n",
    "    chunk_overlap=200,\n",
    ")"
   ]
  },
  {
   "cell_type": "code",
   "execution_count": 3,
   "id": "c493976160090709",
   "metadata": {
    "ExecuteTime": {
     "end_time": "2024-12-30T10:01:56.718761Z",
     "start_time": "2024-12-30T10:01:56.704649Z"
    }
   },
   "outputs": [],
   "source": [
    "folder_path = '../data'"
   ]
  },
  {
   "cell_type": "code",
   "execution_count": null,
   "id": "86175e1843b29943",
   "metadata": {
    "ExecuteTime": {
     "end_time": "2024-12-30T10:02:01.024673Z",
     "start_time": "2024-12-30T10:02:01.000327Z"
    }
   },
   "outputs": [],
   "source": [
    "document_list = []\n",
    "\n",
    "for file in os.listdir(folder_path):\n",
    "    print(file)\n",
    "    temp_loader = CSVLoader(file_path=f\"{folder_path}/{file}\", encoding='utf-8-sig')\n",
    "    temp_document_list = temp_loader.load_and_split(text_splitter=text_splitter)\n",
    "    \n",
    "    document_list.extend(temp_document_list)\n",
    "\n",
    "print(len(document_list))"
   ]
  },
  {
   "cell_type": "code",
   "execution_count": 5,
   "id": "7719061b6dab8d39",
   "metadata": {
    "ExecuteTime": {
     "end_time": "2025-01-04T01:09:06.448010Z",
     "start_time": "2025-01-04T01:09:05.936470Z"
    }
   },
   "outputs": [],
   "source": [
    "# Upstage 에서 제공하는 Embedding Model을 활용\n",
    "embedding = UpstageEmbeddings(model=\"solar-embedding-1-large\",\n",
    "                              api_key=UPSTAGE_API_KEY)"
   ]
  },
  {
   "cell_type": "code",
   "execution_count": 3,
   "id": "5888d34b4e41a2d8",
   "metadata": {
    "ExecuteTime": {
     "end_time": "2025-01-04T01:09:11.978940Z",
     "start_time": "2025-01-04T01:09:11.524428Z"
    }
   },
   "outputs": [],
   "source": [
    "from langchain_pinecone import PineconeVectorStore\n",
    "\n",
    "index_name = 'upstage-index'"
   ]
  },
  {
   "cell_type": "code",
   "execution_count": null,
   "id": "23399523e40f7306",
   "metadata": {},
   "outputs": [],
   "source": [
    "# DB 처음 만들 때\n",
    "database = PineconeVectorStore.from_documents(document_list, embedding, index_name=index_name)"
   ]
  },
  {
   "cell_type": "code",
   "execution_count": 6,
   "id": "3e740ffcf8368014",
   "metadata": {
    "ExecuteTime": {
     "end_time": "2025-01-04T01:09:15.404288Z",
     "start_time": "2025-01-04T01:09:13.088429Z"
    }
   },
   "outputs": [],
   "source": [
    "# 만들어 놓은 DB가 있을 때\n",
    "database = PineconeVectorStore.from_existing_index(index_name=index_name, embedding=embedding)"
   ]
  },
  {
   "cell_type": "markdown",
   "id": "41e7d72561431bf2",
   "metadata": {},
   "source": [
    "# Vectorstore 유사도 검색"
   ]
  },
  {
   "cell_type": "code",
   "execution_count": 11,
   "id": "e86e50ac276f7496",
   "metadata": {
    "ExecuteTime": {
     "end_time": "2025-01-04T01:41:19.846034Z",
     "start_time": "2025-01-04T01:41:17.991659Z"
    }
   },
   "outputs": [
    {
     "name": "stdout",
     "output_type": "stream",
     "text": [
      "* [SIM=0.498854] : 8\n",
      "Question: Q[결제수단] 이미 주문했는데 결제 수단을 변경할 수 있나요?\n",
      "Answer: 아니요. 상품을 주문/결제한 후에는 결제 수단 변경이 불가합니다. 상품이 아직 배송 전이라면 주문목록에서 주문을 취소한 후 원하는 결제 수단으로 다시 주문/결제해 주시기 바랍니다. 상품이 이미 배송을 시작했다면 배송 완료 후 반품을 접수해 주시기 바랍니다. 단 상품 배송 이후 단순 변심으로 반품할 경우 왕복 배송비가 부과될 수 있습니다.\n",
      " 주문 취소하기\n",
      "마이쿠팡 → 주문목록 → 상품선택 → [주문취소] \n",
      "이후 각 단계에 해당하는 항목을 선택하여 취소를 완료합니다.\n",
      " 쿠페이 결제수단 관리하기\n",
      "마이쿠팡 → 결제수단∙쿠페이 → [결제수단 관리] \n",
      "이후 원하는 결제수단을 등록 및 삭제합니다.\n",
      " 단순 변심 반품 비용 (클릭)\n",
      "keywords: ORDER\n",
      "count: 0 [{'row': 8.0, 'source': '../data/ORDER_main_qna_list.csv'}]\n",
      "* [SIM=0.498439] : 9\n",
      "Question: Q[취소 철회] 주문취소 신청을 철회(취소)하고 싶어요.\n",
      "Answer: 배송 상품은 주문을 취소하면 바로 결제 취소가 적용되어 이후 주문취소를 철회(취소) 할 수 없습니다. 이미 주문취소를 하셨다면 재구매를 부탁드립니다.\n",
      "keywords: CANCEL\n",
      "count: 0 [{'row': 9.0, 'source': '../data/CANCEL_main_qna_list.csv'}]\n",
      "* [SIM=0.484393] : 44\n",
      "Question: Q[취소] 신용카드로 결제한 주문을 취소했는데 카드대금이 청구되었습니다.\n",
      "Answer: 신용카드로 결제한 주문을 취소하면 신용카드 승인 취소도 자동으로 진행됩니다. 그런데 만약 취소한 주문에 대해 카드대금 청구를 받으셨다면 이는 주문이 취소되기 전에 카드사에서 이미 청구서를 작성했기 때문입니다. 이 경우 청구된 카드대금이 취소되기까지는 특정 시간이 소요되며 이는 각 카드사마다 다릅니다. 매입된 카드 승인의 취소는 카드사와 결제대행사의 확인 절차를 거치는 관계로 보통 주문취소 후 평일 기준 3~7일 정도가 소요됩니다. (주말 및 공휴일 제외) 보다 자세한 환불 방법과 환불 일자를 확인하고 싶으시다면 해당 카드사로 직접 문의해 주시기 바랍니다.\n",
      "keywords: CANCEL\n",
      "count: 0 [{'row': 44.0, 'source': '../data/CANCEL_main_qna_list.csv'}]\n"
     ]
    }
   ],
   "source": [
    "query = ('결제 후 주문 취소가 가능한가요?')\n",
    "\n",
    "results = database.similarity_search_with_score(query=query, k=3)\n",
    "for doc, score in results:\n",
    "    print(f\"* [SIM={score:3f}] {doc.page_content} [{doc.metadata}]\")\n",
    "    "
   ]
  },
  {
   "cell_type": "markdown",
   "id": "f9e6e31fe66017cf",
   "metadata": {},
   "source": [
    "# LLM 질의 테스트"
   ]
  },
  {
   "cell_type": "code",
   "execution_count": null,
   "id": "704519ae",
   "metadata": {},
   "outputs": [],
   "source": [
    "%pip install langchain_google_genai"
   ]
  },
  {
   "cell_type": "code",
   "execution_count": 7,
   "id": "35eeee402a11d206",
   "metadata": {
    "ExecuteTime": {
     "end_time": "2025-01-04T01:50:56.945106Z",
     "start_time": "2025-01-04T01:50:51.756239Z"
    }
   },
   "outputs": [],
   "source": [
    "from langchain.prompts import ChatPromptTemplate\n",
    "from langchain_google_genai import ChatGoogleGenerativeAI\n",
    "from langchain_core.output_parsers import StrOutputParser\n",
    "from langchain_core.runnables import RunnablePassthrough\n",
    "\n",
    "# ChatGoogleGenerativeAI 언어 모델을 초기화합니다.\n",
    "model = ChatGoogleGenerativeAI(\n",
    "    model=\"gemini-1.5-flash-latest\",  # 사용할 모델을 지정합니다.\n",
    ")\n",
    "\n",
    "retriever = database.as_retriever(\n",
    "    search_type=\"mmr\", search_kwargs={\"k\": 3, \"fetch_k\": 5}\n",
    ")\n",
    "\n",
    "template = \"\"\"\n",
    "[context]: {context}\n",
    "---\n",
    "[질의]: {query}\n",
    "\n",
    "7년 이상의 경력을 가진 상담사라고 생각하고, 위의 [context] 정보 내에서 [질의]에 대해 상담사 입장에서 사용자가 만족할 수 있을 정도로 성의있게 답해주세요.\n",
    "최대한 문장을 쉼표로 끊어서 대답하기 보다는 온점으로 문장을 끊어주세요. \n",
    "문장의 마무리는 '~요' 보다는 '~다'로 끝나는 쪽이 전문적으로 보입니다.\n",
    "\n",
    "또한, 상담사는 가능한 선에서 직접 확인+안내+해결을 도와주는 직원이므로 직접 확인 후 해결까지 돕는 방향으로 작성해 주세요.\n",
    "그리고, 사용자의 편의를 위해 서비스 특성 상 쿠션어를 사용하시면 좋습니다.\n",
    "쿠션어의 예시는 다음과 같습니다.\n",
    "예시)\n",
    "불편을 드려 죄송합니다.\n",
    "번거로우시겠지만~\n",
    "~하는 점 양해 부탁드립니다.\n",
    "~할 예정입니다.\n",
    "~를 부탁드립니다.\n",
    "\n",
    "위 사항들을 종합해서 2~3줄로 상담사가 활용하기 좋게 대본을 만들어 주세요.\n",
    "\n",
    "만약, 조건별로 안내 내용이 다른 경우\n",
    "1차 응대 (양해멘트 or 1차 안내 등) + 정보 확인 멘트로 대본을 구성하면 됩니다.\n",
    "정보 확인 멘트는 \"정확한 상담을 위해 주문하신 주문 번호 확인 부탁드립니다.\" 입니다.\n",
    "문서의 아래에 각 조건별 대응 방법을 기술해 주세요.\n",
    "\n",
    "단, 제일 중요한 것은 [context] 정보에 없는 내용을 답해서는 안됩니다. [context]에 정보가 없거나 문서들의 유사성이 0.3보다 낮게 떨어질 경우, \"문의주신 내용은 확인이 필요하여 지금 답변드리기 어려울 것 같습니다. 번거로우시겠지만 확인 후에 다시 연락드려도 괜찮을까요?\" 라고 답해주세요.\n",
    "\"\"\"\n",
    "\n",
    "prompt = ChatPromptTemplate.from_template(template)\n",
    "\n",
    "llm = ChatGoogleGenerativeAI(model=\"gemini-1.5-flash\", temperature=0)\n",
    "\n",
    "def merge_pages(pages):\n",
    "    merged = \"\\n\\n\".join(page.page_content for page in pages)\n",
    "    return merged\n",
    "\n",
    "chain = (\n",
    "    {\"query\": RunnablePassthrough(), \"context\": retriever | merge_pages}\n",
    "    | prompt\n",
    "    | llm\n",
    "    | StrOutputParser()\n",
    ")"
   ]
  },
  {
   "cell_type": "code",
   "execution_count": null,
   "id": "459a9902",
   "metadata": {},
   "outputs": [],
   "source": [
    "%pip install langchain_ollama"
   ]
  },
  {
   "cell_type": "code",
   "execution_count": 12,
   "id": "2f1ed011",
   "metadata": {},
   "outputs": [
    {
     "name": "stdout",
     "output_type": "stream",
     "text": [
      "query:  결제 후 주문 취소가 가능한가요?\n",
      "================================================================================\n",
      "Answer : 네, 고객님.\n",
      " 결제 후 주문 취소 가능 여부는 상품 배송 여부에 따라 달라집니다.\n",
      " 배송 전이라면 주문 취소가 가능하지만, 배송이 시작된 경우에는 취소가 어려울 수 있습니다.\n",
      " 정확한 상담을 위해 주문하신 주문 번호 확인 부탁드립니다.\n",
      " 주문번호 확인 후, 취소 가능 여부와 절차를 안내해 드리겠습니다.\n",
      "\n",
      "\n",
      "\n",
      "**조건별 대응 방법**\n",
      "\n",
      "* **배송 전:** 고객님의 주문번호를 확인하여 주문 취소를 진행해 드립니다.\n",
      " 취소 완료 후 결제 취소까지는 카드사별로 3~7일(주말 및 공휴일 제외) 정도 소요될 수 있다는 점 양해 부탁드립니다.\n",
      "\n",
      "\n",
      "* **배송 중 또는 배송 완료:** 상품 배송이 시작되었거나 완료된 경우, 주문 취소는 불가능합니다.\n",
      " 단순 변심으로 인한 반품을 원하시면 배송 완료 후 반품 접수를 도와드리겠습니다.\n",
      " 이 경우 왕복 배송비가 부과될 수 있다는 점 미리 안내드립니다.\n",
      "\n",
      "\n",
      "* **주문 취소 철회 요청:** 이미 주문 취소를 진행하셨다면, 취소를 철회할 수 없습니다.\n",
      " 다시 구매를 원하시면 새롭게 주문해주시면 됩니다.\n",
      "\n",
      "\n",
      "* **결제 수단 변경 요청:** 주문/결제 후에는 결제 수단 변경이 불가능합니다.\n",
      " 배송 전이라면 주문 취소 후 원하는 결제 수단으로 재주문하셔야 합니다.\n",
      "\n",
      "\n",
      "\n",
      ".\n"
     ]
    }
   ],
   "source": [
    "print(\"query: \", query)\n",
    "print(\"=\" * 80)\n",
    "answer = chain.invoke(query).replace('  ', ' ').split('.')\n",
    "print(\"Answer : \", end='')\n",
    "for ans in answer:\n",
    "    print(ans + '.')"
   ]
  },
  {
   "cell_type": "markdown",
   "id": "23b8c78d",
   "metadata": {},
   "source": [
    "#### Ollama 버전 "
   ]
  },
  {
   "cell_type": "code",
   "execution_count": 13,
   "id": "fec51959",
   "metadata": {},
   "outputs": [],
   "source": [
    "from langchain.prompts import ChatPromptTemplate\n",
    "from langchain_google_genai import ChatGoogleGenerativeAI\n",
    "from langchain_core.output_parsers import StrOutputParser\n",
    "from langchain_core.runnables import RunnablePassthrough\n",
    "from langchain_ollama import ChatOllama\n",
    "\n",
    "# ChatGoogleGenerativeAI 언어 모델을 초기화합니다.\n",
    "llm = ChatOllama(\n",
    "    model=\"llama3.1:8b\",  # 사용할 모델을 지정합니다.\n",
    ")\n",
    "\n",
    "retriever = database.as_retriever(\n",
    "    search_type=\"mmr\", search_kwargs={\"k\": 3, \"fetch_k\": 5}\n",
    ")\n",
    "\n",
    "template = \"\"\"\n",
    "[context]: {context}\n",
    "---\n",
    "[질의]: {query}\n",
    "\n",
    "7년 이상의 경력을 가진 상담사라고 생각하고, 위의 [context] 정보 내에서 [질의]에 대해 상담사 입장에서 사용자가 만족할 수 있을 정도로 성의있게 답해주세요.\n",
    "최대한 문장을 쉼표로 끊어서 대답하기 보다는 온점으로 문장을 끊어주세요. \n",
    "문장의 마무리는 '~요' 보다는 '~다'로 끝나는 쪽이 전문적으로 보입니다.\n",
    "\n",
    "또한, 상담사는 가능한 선에서 직접 확인+안내+해결을 도와주는 직원이므로 직접 확인 후 해결까지 돕는 방향으로 작성해 주세요.\n",
    "그리고, 사용자의 편의를 위해 서비스 특성 상 쿠션어를 사용하시면 좋습니다.\n",
    "쿠션어의 예시는 다음과 같습니다.\n",
    "예시)\n",
    "불편을 드려 죄송합니다.\n",
    "번거로우시겠지만~\n",
    "~하는 점 양해 부탁드립니다.\n",
    "~할 예정입니다.\n",
    "~를 부탁드립니다.\n",
    "\n",
    "위 사항들을 종합해서 2~3줄로 상담사가 활용하기 좋게 대본을 만들어 주세요.\n",
    "\n",
    "만약, 조건별로 안내 내용이 다른 경우\n",
    "1차 응대 (양해멘트 or 1차 안내 등) + 정보 확인 멘트로 대본을 구성하면 됩니다.\n",
    "정보 확인 멘트는 \"정확한 상담을 위해 주문하신 주문 번호 확인 부탁드립니다.\" 입니다.\n",
    "문서의 아래에 각 조건별 대응 방법을 기술해 주세요.\n",
    "\n",
    "단, 제일 중요한 것은 [context] 정보에 없는 내용을 답해서는 안됩니다. [context]에 정보가 없거나 문서들의 유사성이 0.2 이하로 떨어질 경우, \"문의주신 내용은 확인이 필요하여 지금 답변드리기 어려울 것 같습니다. 번거로우시겠지만 확인 후에 다시 연락드려도 괜찮을까요?\" 라고 답해주세요.\n",
    "\"\"\"\n",
    "\n",
    "prompt = ChatPromptTemplate.from_template(template)\n",
    "\n",
    "# llm = ChatGoogleGenerativeAI(model=\"gemini-1.5-flash\", temperature=0)\n",
    "\n",
    "def merge_pages(pages):\n",
    "    merged = \"\\n\\n\".join(page.page_content for page in pages)\n",
    "    return merged\n",
    "\n",
    "chain = (\n",
    "    {\"query\": RunnablePassthrough(), \"context\": retriever | merge_pages}\n",
    "    | prompt\n",
    "    | llm\n",
    "    | StrOutputParser()\n",
    ")"
   ]
  },
  {
   "cell_type": "code",
   "execution_count": 14,
   "id": "832b8ecf",
   "metadata": {},
   "outputs": [
    {
     "name": "stdout",
     "output_type": "stream",
     "text": [
      "query:  결제 후 주문 취소가 가능한가요?\n",
      "================================================================================\n",
      "Answer : 대본: \n",
      "\n",
      "\"결제 후 주문 취소가 가능한가요? 불편을 드려 죄송합니다.\n",
      " 주문 상태를 확인한 결과, 아직 배송 전이라면订单 취소 후 원하는 결제 수단으로 다시 주문/결제해 주시기 바랍니다.\n",
      " 상품이 이미 배송을 시작했다면 배송 완료 후 반품을 접수해 주시기 바랍니다.\n",
      " 단, 상품 배송 이후 단순 변심으로 반품할 경우 왕복 배송비가 부과될 수 있습니다.\n",
      "\"\n",
      "\n",
      "조건별 대응:\n",
      "\n",
      "1.\n",
      " **주문 상태에 따라 주문 취소 가능 여부 확인**: \n",
      "  *  아직 배송 전이라면 : \n",
      "    +  \"결제 후 주문 취소는 가능한가요?\"\n",
      "    +  \"불편을 드려 죄송합니다.\n",
      " 주문 상태를 확인한 결과, 아직 배송 전입니다.\n",
      "\"\n",
      "    +  \"이미 주문을 취소하실 수 있습니다.\n",
      " 주문목록에서 주문을 취소하고 원하는 결제 수단으로 다시 주문/결제해 주시기 바랍니다.\n",
      "\"\n",
      "  *  이미배송을 시작했다면 : \n",
      "    +  \"주문 상태를 확인한 결과, 이미 배송을 시작했습니다.\n",
      "\"\n",
      "    +  \"배송 완료 후 반품을 접수하실 수 있습니다.\n",
      " 단, 상품 배송 이후 단순 변심으로 반품할 경우 왕복 배송비가 부과될 수 있습니다.\n",
      "\".\n"
     ]
    }
   ],
   "source": [
    "print(\"query: \", query)\n",
    "print(\"=\" * 80)\n",
    "answer = chain.invoke(query).replace('  ', ' ').split('.')\n",
    "print(\"Answer : \", end='')\n",
    "for ans in answer:\n",
    "    print(ans + '.')"
   ]
  }
 ],
 "metadata": {
  "kernelspec": {
   "display_name": "llm-env",
   "language": "python",
   "name": "python3"
  },
  "language_info": {
   "codemirror_mode": {
    "name": "ipython",
    "version": 3
   },
   "file_extension": ".py",
   "mimetype": "text/x-python",
   "name": "python",
   "nbconvert_exporter": "python",
   "pygments_lexer": "ipython3",
   "version": "3.10.0"
  }
 },
 "nbformat": 4,
 "nbformat_minor": 5
}
