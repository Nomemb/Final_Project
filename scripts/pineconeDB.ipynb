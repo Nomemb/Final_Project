{
 "cells": [
  {
   "cell_type": "code",
   "execution_count": null,
   "id": "initial_id",
   "metadata": {
    "ExecuteTime": {
<<<<<<< HEAD
     "end_time": "2024-12-18T05:16:58.088720Z",
     "start_time": "2024-12-18T05:16:55.790626Z"
    },
    "collapsed": true
=======
     "end_time": "2025-01-04T06:31:59.018855Z",
     "start_time": "2025-01-04T06:31:56.103248Z"
    }
>>>>>>> 8083ffe9410fa0bac71058cb60578e936917f105
   },
   "outputs": [],
   "source": [
<<<<<<< HEAD
    "%pip install pandas langchain langchain-core langchain-community langchain-text-splitters langchain-openai langchain-pinecone docx2txt langchain_upstage"
   ]
  },
  {
   "cell_type": "code",
   "execution_count": null,
   "id": "4f6218586b0a150d",
   "metadata": {},
   "outputs": [],
   "source": [
    "import os \n",
    "import dotenv \n",
    "\n",
    "dotenv.load_dotenv()"
   ]
  },
  {
   "cell_type": "code",
   "execution_count": null,
   "id": "10da07f7226e7b6",
=======
    "import pandas as pd\n",
    "%pip install langchain langchain-core langchain-community langchain-text-splitters langchain-openai langchain-pinecone docx2txt"
   ],
   "outputs": [
    {
     "name": "stdout",
     "output_type": "stream",
     "text": [
      "Requirement already satisfied: langchain in c:\\users\\admin\\anaconda3\\envs\\chroma_db_test\\lib\\site-packages (0.3.13)\n",
      "Requirement already satisfied: langchain-core in c:\\users\\admin\\anaconda3\\envs\\chroma_db_test\\lib\\site-packages (0.3.28)\n",
      "Requirement already satisfied: langchain-community in c:\\users\\admin\\anaconda3\\envs\\chroma_db_test\\lib\\site-packages (0.3.13)\n",
      "Requirement already satisfied: langchain-text-splitters in c:\\users\\admin\\anaconda3\\envs\\chroma_db_test\\lib\\site-packages (0.3.4)\n",
      "Requirement already satisfied: langchain-openai in c:\\users\\admin\\anaconda3\\envs\\chroma_db_test\\lib\\site-packages (0.2.14)\n",
      "Requirement already satisfied: langchain-pinecone in c:\\users\\admin\\anaconda3\\envs\\chroma_db_test\\lib\\site-packages (0.2.0)\n",
      "Collecting docx2txt\n",
      "  Using cached docx2txt-0.8-py3-none-any.whl\n",
      "Requirement already satisfied: PyYAML>=5.3 in c:\\users\\admin\\anaconda3\\envs\\chroma_db_test\\lib\\site-packages (from langchain) (6.0.2)\n",
      "Requirement already satisfied: SQLAlchemy<3,>=1.4 in c:\\users\\admin\\anaconda3\\envs\\chroma_db_test\\lib\\site-packages (from langchain) (2.0.36)\n",
      "Requirement already satisfied: aiohttp<4.0.0,>=3.8.3 in c:\\users\\admin\\anaconda3\\envs\\chroma_db_test\\lib\\site-packages (from langchain) (3.9.5)\n",
      "Requirement already satisfied: async-timeout<5.0.0,>=4.0.0 in c:\\users\\admin\\anaconda3\\envs\\chroma_db_test\\lib\\site-packages (from langchain) (4.0.3)\n",
      "Requirement already satisfied: langsmith<0.3,>=0.1.17 in c:\\users\\admin\\anaconda3\\envs\\chroma_db_test\\lib\\site-packages (from langchain) (0.2.4)\n",
      "Requirement already satisfied: numpy<2,>=1.22.4 in c:\\users\\admin\\anaconda3\\envs\\chroma_db_test\\lib\\site-packages (from langchain) (1.26.4)\n",
      "Requirement already satisfied: pydantic<3.0.0,>=2.7.4 in c:\\users\\admin\\anaconda3\\envs\\chroma_db_test\\lib\\site-packages (from langchain) (2.9.2)\n",
      "Requirement already satisfied: requests<3,>=2 in c:\\users\\admin\\anaconda3\\envs\\chroma_db_test\\lib\\site-packages (from langchain) (2.32.3)\n",
      "Requirement already satisfied: tenacity!=8.4.0,<10,>=8.1.0 in c:\\users\\admin\\anaconda3\\envs\\chroma_db_test\\lib\\site-packages (from langchain) (8.5.0)\n",
      "Requirement already satisfied: jsonpatch<2.0,>=1.33 in c:\\users\\admin\\anaconda3\\envs\\chroma_db_test\\lib\\site-packages (from langchain-core) (1.33)\n",
      "Requirement already satisfied: packaging<25,>=23.2 in c:\\users\\admin\\anaconda3\\envs\\chroma_db_test\\lib\\site-packages (from langchain-core) (24.2)\n",
      "Requirement already satisfied: typing-extensions>=4.7 in c:\\users\\admin\\anaconda3\\envs\\chroma_db_test\\lib\\site-packages (from langchain-core) (4.12.2)\n",
      "Requirement already satisfied: dataclasses-json<0.7,>=0.5.7 in c:\\users\\admin\\anaconda3\\envs\\chroma_db_test\\lib\\site-packages (from langchain-community) (0.6.7)\n",
      "Requirement already satisfied: httpx-sse<0.5.0,>=0.4.0 in c:\\users\\admin\\anaconda3\\envs\\chroma_db_test\\lib\\site-packages (from langchain-community) (0.4.0)\n",
      "Requirement already satisfied: pydantic-settings<3.0.0,>=2.4.0 in c:\\users\\admin\\anaconda3\\envs\\chroma_db_test\\lib\\site-packages (from langchain-community) (2.7.0)\n",
      "Requirement already satisfied: openai<2.0.0,>=1.58.1 in c:\\users\\admin\\anaconda3\\envs\\chroma_db_test\\lib\\site-packages (from langchain-openai) (1.58.1)\n",
      "Requirement already satisfied: tiktoken<1,>=0.7 in c:\\users\\admin\\anaconda3\\envs\\chroma_db_test\\lib\\site-packages (from langchain-openai) (0.8.0)\n",
      "Requirement already satisfied: pinecone-client<6.0.0,>=5.0.0 in c:\\users\\admin\\anaconda3\\envs\\chroma_db_test\\lib\\site-packages (from langchain-pinecone) (5.0.1)\n",
      "Requirement already satisfied: aiosignal>=1.1.2 in c:\\users\\admin\\anaconda3\\envs\\chroma_db_test\\lib\\site-packages (from aiohttp<4.0.0,>=3.8.3->langchain) (1.3.2)\n",
      "Requirement already satisfied: attrs>=17.3.0 in c:\\users\\admin\\anaconda3\\envs\\chroma_db_test\\lib\\site-packages (from aiohttp<4.0.0,>=3.8.3->langchain) (24.3.0)\n",
      "Requirement already satisfied: frozenlist>=1.1.1 in c:\\users\\admin\\anaconda3\\envs\\chroma_db_test\\lib\\site-packages (from aiohttp<4.0.0,>=3.8.3->langchain) (1.5.0)\n",
      "Requirement already satisfied: multidict<7.0,>=4.5 in c:\\users\\admin\\anaconda3\\envs\\chroma_db_test\\lib\\site-packages (from aiohttp<4.0.0,>=3.8.3->langchain) (6.1.0)\n",
      "Requirement already satisfied: yarl<2.0,>=1.0 in c:\\users\\admin\\anaconda3\\envs\\chroma_db_test\\lib\\site-packages (from aiohttp<4.0.0,>=3.8.3->langchain) (1.18.3)\n",
      "Requirement already satisfied: marshmallow<4.0.0,>=3.18.0 in c:\\users\\admin\\anaconda3\\envs\\chroma_db_test\\lib\\site-packages (from dataclasses-json<0.7,>=0.5.7->langchain-community) (3.23.2)\n",
      "Requirement already satisfied: typing-inspect<1,>=0.4.0 in c:\\users\\admin\\anaconda3\\envs\\chroma_db_test\\lib\\site-packages (from dataclasses-json<0.7,>=0.5.7->langchain-community) (0.9.0)\n",
      "Requirement already satisfied: jsonpointer>=1.9 in c:\\users\\admin\\anaconda3\\envs\\chroma_db_test\\lib\\site-packages (from jsonpatch<2.0,>=1.33->langchain-core) (3.0.0)\n",
      "Requirement already satisfied: httpx<1,>=0.23.0 in c:\\users\\admin\\anaconda3\\envs\\chroma_db_test\\lib\\site-packages (from langsmith<0.3,>=0.1.17->langchain) (0.27.0)\n",
      "Requirement already satisfied: orjson<4.0.0,>=3.9.14 in c:\\users\\admin\\anaconda3\\envs\\chroma_db_test\\lib\\site-packages (from langsmith<0.3,>=0.1.17->langchain) (3.10.12)\n",
      "Requirement already satisfied: requests-toolbelt<2.0.0,>=1.0.0 in c:\\users\\admin\\anaconda3\\envs\\chroma_db_test\\lib\\site-packages (from langsmith<0.3,>=0.1.17->langchain) (1.0.0)\n",
      "Requirement already satisfied: anyio<5,>=3.5.0 in c:\\users\\admin\\anaconda3\\envs\\chroma_db_test\\lib\\site-packages (from openai<2.0.0,>=1.58.1->langchain-openai) (4.7.0)\n",
      "Requirement already satisfied: distro<2,>=1.7.0 in c:\\users\\admin\\anaconda3\\envs\\chroma_db_test\\lib\\site-packages (from openai<2.0.0,>=1.58.1->langchain-openai) (1.9.0)\n",
      "Requirement already satisfied: jiter<1,>=0.4.0 in c:\\users\\admin\\anaconda3\\envs\\chroma_db_test\\lib\\site-packages (from openai<2.0.0,>=1.58.1->langchain-openai) (0.8.2)\n",
      "Requirement already satisfied: sniffio in c:\\users\\admin\\anaconda3\\envs\\chroma_db_test\\lib\\site-packages (from openai<2.0.0,>=1.58.1->langchain-openai) (1.3.1)\n",
      "Requirement already satisfied: tqdm>4 in c:\\users\\admin\\anaconda3\\envs\\chroma_db_test\\lib\\site-packages (from openai<2.0.0,>=1.58.1->langchain-openai) (4.67.1)\n",
      "Requirement already satisfied: certifi>=2019.11.17 in c:\\users\\admin\\anaconda3\\envs\\chroma_db_test\\lib\\site-packages (from pinecone-client<6.0.0,>=5.0.0->langchain-pinecone) (2024.12.14)\n",
      "Collecting pinecone-plugin-inference<2.0.0,>=1.0.3 (from pinecone-client<6.0.0,>=5.0.0->langchain-pinecone)\n",
      "  Using cached pinecone_plugin_inference-1.1.0-py3-none-any.whl.metadata (2.2 kB)\n",
      "Requirement already satisfied: pinecone-plugin-interface<0.0.8,>=0.0.7 in c:\\users\\admin\\anaconda3\\envs\\chroma_db_test\\lib\\site-packages (from pinecone-client<6.0.0,>=5.0.0->langchain-pinecone) (0.0.7)\n",
      "Requirement already satisfied: urllib3>=1.26.0 in c:\\users\\admin\\anaconda3\\envs\\chroma_db_test\\lib\\site-packages (from pinecone-client<6.0.0,>=5.0.0->langchain-pinecone) (2.2.3)\n",
      "Requirement already satisfied: annotated-types>=0.6.0 in c:\\users\\admin\\anaconda3\\envs\\chroma_db_test\\lib\\site-packages (from pydantic<3.0.0,>=2.7.4->langchain) (0.7.0)\n",
      "Requirement already satisfied: pydantic-core==2.23.4 in c:\\users\\admin\\anaconda3\\envs\\chroma_db_test\\lib\\site-packages (from pydantic<3.0.0,>=2.7.4->langchain) (2.23.4)\n",
      "Requirement already satisfied: python-dotenv>=0.21.0 in c:\\users\\admin\\anaconda3\\envs\\chroma_db_test\\lib\\site-packages (from pydantic-settings<3.0.0,>=2.4.0->langchain-community) (1.0.1)\n",
      "Requirement already satisfied: charset-normalizer<4,>=2 in c:\\users\\admin\\anaconda3\\envs\\chroma_db_test\\lib\\site-packages (from requests<3,>=2->langchain) (3.4.0)\n",
      "Requirement already satisfied: idna<4,>=2.5 in c:\\users\\admin\\anaconda3\\envs\\chroma_db_test\\lib\\site-packages (from requests<3,>=2->langchain) (3.10)\n",
      "Requirement already satisfied: greenlet!=0.4.17 in c:\\users\\admin\\anaconda3\\envs\\chroma_db_test\\lib\\site-packages (from SQLAlchemy<3,>=1.4->langchain) (3.1.1)\n",
      "Requirement already satisfied: regex>=2022.1.18 in c:\\users\\admin\\anaconda3\\envs\\chroma_db_test\\lib\\site-packages (from tiktoken<1,>=0.7->langchain-openai) (2024.11.6)\n",
      "Requirement already satisfied: exceptiongroup>=1.0.2 in c:\\users\\admin\\anaconda3\\envs\\chroma_db_test\\lib\\site-packages (from anyio<5,>=3.5.0->openai<2.0.0,>=1.58.1->langchain-openai) (1.2.2)\n",
      "Requirement already satisfied: httpcore==1.* in c:\\users\\admin\\anaconda3\\envs\\chroma_db_test\\lib\\site-packages (from httpx<1,>=0.23.0->langsmith<0.3,>=0.1.17->langchain) (1.0.7)\n",
      "Requirement already satisfied: h11<0.15,>=0.13 in c:\\users\\admin\\anaconda3\\envs\\chroma_db_test\\lib\\site-packages (from httpcore==1.*->httpx<1,>=0.23.0->langsmith<0.3,>=0.1.17->langchain) (0.14.0)\n",
      "Requirement already satisfied: colorama in c:\\users\\admin\\anaconda3\\envs\\chroma_db_test\\lib\\site-packages (from tqdm>4->openai<2.0.0,>=1.58.1->langchain-openai) (0.4.6)\n",
      "Requirement already satisfied: mypy-extensions>=0.3.0 in c:\\users\\admin\\anaconda3\\envs\\chroma_db_test\\lib\\site-packages (from typing-inspect<1,>=0.4.0->dataclasses-json<0.7,>=0.5.7->langchain-community) (1.0.0)\n",
      "Requirement already satisfied: propcache>=0.2.0 in c:\\users\\admin\\anaconda3\\envs\\chroma_db_test\\lib\\site-packages (from yarl<2.0,>=1.0->aiohttp<4.0.0,>=3.8.3->langchain) (0.2.1)\n",
      "Using cached pinecone_plugin_inference-1.1.0-py3-none-any.whl (85 kB)\n",
      "Installing collected packages: docx2txt, pinecone-plugin-inference\n",
      "  Attempting uninstall: pinecone-plugin-inference\n",
      "    Found existing installation: pinecone-plugin-inference 3.1.0\n",
      "    Uninstalling pinecone-plugin-inference-3.1.0:\n",
      "      Successfully uninstalled pinecone-plugin-inference-3.1.0\n",
      "Successfully installed docx2txt-0.8 pinecone-plugin-inference-1.1.0\n",
      "Note: you may need to restart the kernel to use updated packages.\n"
     ]
    },
    {
     "name": "stderr",
     "output_type": "stream",
     "text": [
      "ERROR: pip's dependency resolver does not currently take into account all the packages that are installed. This behaviour is the source of the following dependency conflicts.\n",
      "pinecone 5.4.2 requires pinecone-plugin-inference<4.0.0,>=2.0.0, but you have pinecone-plugin-inference 1.1.0 which is incompatible.\n"
     ]
    }
   ],
   "execution_count": 1
  },
  {
>>>>>>> 8083ffe9410fa0bac71058cb60578e936917f105
   "metadata": {
    "ExecuteTime": {
     "end_time": "2025-01-04T06:42:08.716750Z",
     "start_time": "2025-01-04T06:42:08.699753Z"
    }
   },
   "outputs": [],
   "source": [
    "import os\n",
    "import pandas as pd\n",
    "from langchain_upstage import UpstageEmbeddings\n",
    "from langchain_text_splitters import RecursiveCharacterTextSplitter\n",
    "from langchain_community.document_loaders.csv_loader import CSVLoader\n",
    "from pprint import pprint\n",
    "\n",
<<<<<<< HEAD
    "# GPT_API_KEY = os.environ.get(\"OPENAI_API_KEY\")\n",
    "UPSTAGE_API_KEY = os.environ.get(\"UPSTAGE_API_KEY\")\n",
    "PINECONE_API_KEY = os.environ.get(\"PINECONE_API_KEY\")\n",
=======
    "GPT_API_KEY = os.environ[\"OPENAI_API_KEY\"]\n",
    "PINECONE_API_KEY = os.environ[\"PINECONE_API_KEY\"]\n",
    "UPSTAGE_API_KEY = os.environ[\"UPSTAGE_API_KEY\"]\n",
>>>>>>> 8083ffe9410fa0bac71058cb60578e936917f105
    "\n",
    "text_splitter = RecursiveCharacterTextSplitter(\n",
    "    chunk_size=1500,\n",
    "    chunk_overlap=200,\n",
    ")"
<<<<<<< HEAD
   ]
=======
   ],
   "id": "10da07f7226e7b6",
   "outputs": [],
   "execution_count": 18
>>>>>>> 8083ffe9410fa0bac71058cb60578e936917f105
  },
  {
   "cell_type": "code",
   "execution_count": 5,
   "id": "c493976160090709",
   "metadata": {
    "ExecuteTime": {
     "end_time": "2025-01-04T06:42:13.907025Z",
     "start_time": "2025-01-04T06:42:13.897867Z"
    }
   },
   "outputs": [],
<<<<<<< HEAD
   "source": [
    "folder_path = '../data'"
   ]
=======
   "execution_count": 20
>>>>>>> 8083ffe9410fa0bac71058cb60578e936917f105
  },
  {
   "cell_type": "code",
   "execution_count": null,
   "id": "86175e1843b29943",
   "metadata": {
    "ExecuteTime": {
     "end_time": "2025-01-04T06:42:14.783092Z",
     "start_time": "2025-01-04T06:42:14.757620Z"
    }
   },
   "outputs": [],
   "source": [
    "document_list = []\n",
    "\n",
    "for file in os.listdir(folder_path):\n",
    "    print(file)\n",
    "    temp_loader = CSVLoader(file_path=f\"{folder_path}/{file}\", encoding='utf-8-sig')\n",
    "    temp_document_list = temp_loader.load_and_split(text_splitter=text_splitter)\n",
    "    \n",
    "    document_list.extend(temp_document_list)\n",
    "\n",
    "print(len(document_list))"
<<<<<<< HEAD
   ]
=======
   ],
   "id": "86175e1843b29943",
   "outputs": [
    {
     "name": "stdout",
     "output_type": "stream",
     "text": [
      "CANCEL_main_qna_list.csv\n",
      "DELIVERY_main_qna_list.csv\n",
      "ORDER_main_qna_list.csv\n",
      "REFUND_main_qna_list.csv\n",
      "SUB_qna_list.csv\n",
      "309\n"
     ]
    }
   ],
   "execution_count": 21
>>>>>>> 8083ffe9410fa0bac71058cb60578e936917f105
  },
  {
   "cell_type": "code",
   "execution_count": 10,
   "id": "7719061b6dab8d39",
   "metadata": {
    "ExecuteTime": {
     "end_time": "2025-01-04T06:42:17.219483Z",
     "start_time": "2025-01-04T06:42:16.747708Z"
    }
   },
   "outputs": [],
   "source": [
    "# Upstage 에서 제공하는 Embedding Model을 활용\n",
    "embedding = UpstageEmbeddings(model=\"solar-embedding-1-large\",\n",
    "                              api_key=UPSTAGE_API_KEY)"
<<<<<<< HEAD
   ]
=======
   ],
   "id": "7719061b6dab8d39",
   "outputs": [],
   "execution_count": 22
>>>>>>> 8083ffe9410fa0bac71058cb60578e936917f105
  },
  {
   "cell_type": "code",
   "execution_count": 11,
   "id": "5888d34b4e41a2d8",
   "metadata": {
    "ExecuteTime": {
     "end_time": "2025-01-04T06:42:19.101162Z",
     "start_time": "2025-01-04T06:42:18.890724Z"
    }
   },
   "outputs": [],
   "source": [
    "from langchain_pinecone import PineconeVectorStore\n",
    "\n",
    "index_name = 'upstage-index'"
<<<<<<< HEAD
   ]
  },
  {
   "cell_type": "code",
   "execution_count": null,
   "id": "23399523e40f7306",
   "metadata": {},
   "outputs": [],
   "source": [
    "# DB 처음 만들 때\n",
    "database = PineconeVectorStore.from_documents(document_list, embedding, index_name=index_name)"
   ]
=======
   ],
   "id": "5888d34b4e41a2d8",
   "outputs": [],
   "execution_count": 23
  },
  {
   "metadata": {
    "ExecuteTime": {
     "end_time": "2025-01-04T06:43:07.085294Z",
     "start_time": "2025-01-04T06:42:20.799952Z"
    }
   },
   "cell_type": "code",
   "source": [
    "# DB 처음 만들 때\n",
    "database = PineconeVectorStore.from_documents(document_list, embedding, index_name=index_name)\n"
   ],
   "id": "23399523e40f7306",
   "outputs": [],
   "execution_count": 24
>>>>>>> 8083ffe9410fa0bac71058cb60578e936917f105
  },
  {
   "cell_type": "code",
   "execution_count": 13,
   "id": "3e740ffcf8368014",
   "metadata": {
    "ExecuteTime": {
     "end_time": "2025-01-04T01:09:15.404288Z",
     "start_time": "2025-01-04T01:09:13.088429Z"
    }
   },
   "outputs": [],
   "source": [
    "# 만들어 놓은 DB가 있을 때\n",
    "database = PineconeVectorStore.from_existing_index(index_name=index_name, embedding=embedding)"
   ]
  },
  {
   "cell_type": "markdown",
   "id": "41e7d72561431bf2",
   "metadata": {},
   "source": [
    "# Vectorstore 유사도 검색"
   ]
  },
  {
   "cell_type": "code",
   "execution_count": null,
   "id": "e86e50ac276f7496",
   "metadata": {
    "ExecuteTime": {
     "end_time": "2025-01-04T08:46:00.075752Z",
     "start_time": "2025-01-04T08:45:58.062065Z"
    }
   },
   "outputs": [],
   "source": [
    "query = '반품을 진행하면 환불은 언제 되나요?'\n",
    "\n",
    "results = database.similarity_search_with_score(query=query, k=3)\n",
    "for doc, score in results:\n",
    "    print(f\"* [SIM={score:3f}] {doc.page_content} [{doc.metadata}]\")\n",
    "    "
<<<<<<< HEAD
   ]
=======
   ],
   "id": "e86e50ac276f7496",
   "outputs": [
    {
     "name": "stdout",
     "output_type": "stream",
     "text": [
      "* [SIM=0.522561] : 0\n",
      "Question: Q[환불] 반품 신청을 했는데 언제 환불되나요?\n",
      "Answer: 환불 예정일 확인하기\n",
      "마이쿠팡 → 취소/반품/교환/환불내역\n",
      "※ 단 회수가 완료된 이후부터 확인 가능\n",
      " 반품 후 환불까지의 소요시간은 판매자와 결제수단에 따라 다릅니다. 배송직원 혹은 택배기사가 회수한 반품 상품은 평일 기준 약 1~2일 이내에 판매자에게 도착합니다. 상품을 검수한 뒤 이상이 없다면 구매내역을 즉시 취소하여 문자로 안내합니다. 환불 일정은 결제수단별로 다르니 아래의 내용을 참고하시기 바랍니다.\n",
      " 결제수단별 환불 일정 (더 보기)\n",
      " 환불계좌 등록하기 (더 보기)\n",
      "keywords: REFUND\n",
      "count: 0 [{'row': 0.0, 'source': '../data/REFUND_main_qna_list.csv'}]\n",
      "* [SIM=0.495842] : 13\n",
      "Question: Q[판매자] 상품이 배송 중인데 주문을 취소할 수 있나요?\n",
      "Answer: 이미 배송이 시작된 상품은 마이쿠팡에서 직접 반품신청으로 접수할 수 있습니다. 단 판매자 상품은 배송 시작 이후 최초 배송비를 포함한 왕복 배송비를 차감 후 환불됩니다.\n",
      " 주문 취소하기\n",
      "마이쿠팡 → 주문목록 → 상품선택 → [주문취소] 클릭\n",
      "이후 각 단계에 해당하는 항목을 선택하여 취소를 완료합니다.\n",
      " 반품하기\n",
      "마이쿠팡 → 주문목록 → 상품선택 → [교환 반품신청] 클릭\n",
      "이후 각 단계에 해당하는 항목을 선택하여 신청을 완료합니다.\n",
      " • 판매자에게 상품 도착 후 승인 취소가 완료됩니다.\n",
      "• 반품비용을 제외한 환불 예정금액은 취소접수 화면에서 확인이 가능합니다.\n",
      "• 반품비는 판매자 및 상품에 따라 상이하며 상황에 따라 별도 입금이 요청될 수 있습니다.\n",
      "• 도서산간 지역 설치 상품 업체에서 직접 배송하는 상품의 경우 반품비가 추가될 수 있습니다.\n",
      "• 반품 신청 이후 배송된 상품은 택배기사에게 수취거부를 말씀해 주시기 바랍니다.\n",
      "• 반품을 접수했지만 배송된 상품은 평일 1~3일 이내 택배기사가 방문하여 회수해 갑니다.\n",
      "• 신선/냉장/냉동 상품의 경우 재판매가 불가한 상품의 특성상 단순 변심에 의한 반품 신청이 제한됩니다.\n",
      "• 주문제작 해외 구매대행 신선/냉장/냉동 상품 설치 가전의 경우 마이쿠팡에서 반품 신청이 가능하지 않으므로 판매자에게 문의해 주시기 바랍니다.\n",
      "• 판매자 정보는 구매한 상품의 상세페이지 내 [배송/교환/반품/판매자 안내]를 선택하여 판매자와 연락처를 확인할 수 있습니다.\n",
      "keywords: CANCEL\n",
      "count: 0 [{'row': 13.0, 'source': '../data/CANCEL_main_qna_list.csv'}]\n",
      "* [SIM=0.491765] : 1\n",
      "Question: Q[환불] 주문을 취소했는데 언제 환불되나요?\n",
      "Answer: 주문 취소 후 환불 예정일 확인하기\n",
      "마이쿠팡 → 취소/반품/교환/환불내역 \n",
      " 주문의 취소 처리가 완료된 후에 결제금액 환불이 진행됩니다. 결제수단별 환불 소요시간이 각기 다르니 아래의 세부내용을 참고 부탁드립니다. \n",
      " 결제수단별 환불 일정 (더 보기)\n",
      " 환불계좌 등록하기 (더 보기)\n",
      "keywords: REFUND\n",
      "count: 0 [{'row': 1.0, 'source': '../data/REFUND_main_qna_list.csv'}]\n"
     ]
    }
   ],
   "execution_count": 33
>>>>>>> 8083ffe9410fa0bac71058cb60578e936917f105
  },
  {
   "cell_type": "markdown",
   "id": "f9e6e31fe66017cf",
   "metadata": {},
   "source": [
    "# LLM 질의 테스트"
   ]
  },
  {
   "cell_type": "code",
   "execution_count": null,
   "id": "704519ae",
   "metadata": {},
   "outputs": [],
   "source": [
    "%pip install langchain_google_genai"
   ]
  },
  {
   "cell_type": "code",
   "execution_count": null,
   "id": "71f3da4e",
   "metadata": {},
   "outputs": [],
   "source": [
    "# ChatGoogleGenerativeAI 언어 모델을 초기화합니다.\n",
    "model = ChatGoogleGenerativeAI(\n",
    "    model=\"gemini-1.5-flash-latest\",  # 사용할 모델을 지정합니다.\n",
    ")"
   ]
  },
  {
   "cell_type": "code",
   "execution_count": null,
   "id": "35eeee402a11d206",
   "metadata": {
    "ExecuteTime": {
     "end_time": "2025-01-04T08:38:30.902075Z",
     "start_time": "2025-01-04T08:38:20.756019Z"
    }
   },
   "outputs": [],
   "source": [
    "from langchain.prompts import ChatPromptTemplate\n",
    "from langchain_google_genai import ChatGoogleGenerativeAI\n",
    "from langchain_core.output_parsers import StrOutputParser\n",
    "from langchain_core.runnables import RunnablePassthrough\n",
    "\n",
    "retriever = database.as_retriever(\n",
    "    search_type=\"mmr\", search_kwargs={\"k\": 3, \"fetch_k\": 5}\n",
    ")\n",
    "\n",
    "template = \"\"\"\n",
    "[context]: {context}\n",
    "---\n",
    "[질의]: {query}\n",
    "\n",
    "위의 [context] 정보 내에서 [질의]에 대해 상담사 입장에서 사용자가 만족할 수 있을 정도로 성의있게 답하세요.\n",
    "단, [context] 정보에 없는 내용을 답해서는 안됩니다. 최대한 문장을 쉼표로 끊어서 대답하기 보다는, 온점으로 문장을 끊어주세요.\n",
    "이 모든 정보를 종합해서 2~3줄의 구어체로 답해주세요.\n",
    "\n",
    "추가적으로, 답변의 근거가 되는 document 객체 또한 출력 해 줘\n",
    "\n",
    "\"\"\"\n",
    "prompt = ChatPromptTemplate.from_template(template)\n",
    "\n",
    "llm = ChatGoogleGenerativeAI(model=\"gemini-1.5-flash\", temperature=0)\n",
    "\n",
    "def merge_pages(pages):\n",
    "    merged = \"\\n\\n\".join(page.page_content for page in pages)\n",
    "    return merged\n",
    "\n",
    "chain = (\n",
    "    {\"query\": RunnablePassthrough(), \"context\": retriever | merge_pages}\n",
    "    | prompt\n",
    "    | llm\n",
    "    | StrOutputParser()\n",
    ")\n",
    "\n",
    "query = '상품의 상태를 확인'\n",
    "results = database.similarity_search_with_score(query=query, k=3)\n",
    "pprint(results)\n",
    "answer = chain.invoke(query).replace('  ', ' ').split('.')\n",
    "print(\"Answer : \", end='')\n",
    "for ans in answer:\n",
    "    print(ans + '.')\n",
    "    "
<<<<<<< HEAD
   ]
=======
   ],
   "id": "35eeee402a11d206",
   "outputs": [
    {
     "name": "stdout",
     "output_type": "stream",
     "text": [
      "[(Document(id='d0644740-e116-433c-a4f7-b1a624f697ed', metadata={'row': 80.0, 'source': '../data/ORDER_main_qna_list.csv'}, page_content=': 80\\nQuestion: Q[주문확인] 상품 주문 상태에 대해 단계별로 알려주세요.\\nAnswer: 쿠팡의 주문 상태 값은 아래와 같이 배송상품과 티켓상품으로 구분됩니다. \\n 배송상품\\n① 결제완료 : 주문과 결제가 정상적으로 완료된 상태 \\n② 상품준비중 : 판매자가 상품을 확인하고 상품을 발송하기 위해 준비하는 상태 \\n③ 배송시작 : 상품의 포장이 완료되어 택배사로 인계된 상태 \\n④ 배송중 : 상품의 택배사 출발부터 고객에게 배송 중인 상태 \\n⑤ 배송완료 : 상품이 고객님께 배달 완료된 상태\\n 티켓상품 (여행 레저 문화)\\n① 미사용 : 구매 후 티켓을 아직 사용하지 않은 상태 \\n② 사용완료 : 티켓 사용이 완료된 상태 \\n③ 유효기간만료 : 티켓을 사용할 수 있는 기간이 만료되어 티켓을 사용할 수 없는 상태\\nkeywords: ORDER\\ncount: 0'),\n",
      "  0.337673247),\n",
      " (Document(id='5031e8be-c3c1-46de-bace-c8b69545a2fc', metadata={'row': 10.0, 'source': '../data/DELIVERY_main_qna_list.csv'}, page_content=': 10\\nQuestion: Q[배송일정] 배송상태가 계속 상품 준비 중입니다.\\nAnswer: 배송상태가 ‘상품준비중’인 단계는 판매자가 고객님의 주문을 확인하고 상품을 포장하여 배송을 준비하는 상태입니다. 갑작스러운 주문량 증가 등 판매자 측에 예상치 못한 상황이 발생할 경우 ‘상품준비중’ 단계가 길어질 수 있습니다. 또한 해외배송 상품의 경우 시차로 인해 주문 확인 및 상품 준비에 시간이 더 소요될 수 있습니다.\\n 상품 준비가 길어져 주문 취소를 원할 경우 마이쿠팡 주문목록에서 직접 취소가 가능합니다. 기다렸다가 상품 수령을 원할 경우 판매자에게 배송일정을 문의해 주시기 바랍니다. \\n 판매자 정보 확인하기 (클릭)\\nkeywords: DELIVERY\\ncount: 0'),\n",
      "  0.313044459),\n",
      " (Document(id='897ce5a2-b8e0-44fa-a163-e5890f9f9d89', metadata={'row': 38.0, 'source': '../data/CANCEL_main_qna_list.csv'}, page_content=': 38\\nQuestion: Q[교환] 교환을 위해 상품을 반송했는데 새 상품이 오지 않아요.\\nAnswer: 반송한 상품이 판매자에게 도착한 후 새 상품이 발송됩니다. 반송한 상품이 판매자에게 도착하지 않은 경우에는 교환이 지연될 수 있습니다. 아래의 경로를 통해 회수 현황을 확인해 주시기 바랍니다.\\n 회수 현황 확인하기\\n• 마이쿠팡 → 취소/반품/교환/환불내역 → 상품선택 → [반품상세] \\n• 단 판매자 배송 상품 등 일부는 모바일 앱에서만 확인이 가능합니다.\\nkeywords: CANCEL\\ncount: 0'),\n",
      "  0.307225585)]\n",
      "Answer : 상품의 상태는 주문 종류에 따라 다르게 확인할 수 있어요.\n",
      " 배송 상품이라면 주문 목록에서 '배송조회'를 통해 결제완료부터 배송완료까지 단계별로 확인 가능하고, 티켓 상품이라면 '미사용', '사용완료', '유효기간만료' 중 어떤 상태인지 확인할 수 있답니다.\n",
      " 반품하신 상품의 회수 현황은 마이쿠팡 > 취소/반품/교환/환불내역에서 확인 가능하며, 일부 상품은 모바일 앱에서만 확인 가능해요.\n",
      "\n",
      "\n",
      "\n",
      "```json\n",
      "[\n",
      " {\n",
      "  \"context\": \": 80\",\n",
      "  \"Question\": \"Q[주문확인] 상품 주문 상태에 대해 단계별로 알려주세요.\n",
      "\",\n",
      "  \"Answer\": \"쿠팡의 주문 상태 값은 아래와 같이 배송상품과 티켓상품으로 구분됩니다.\n",
      " \\n 배송상품\\n① 결제완료 : 주문과 결제가 정상적으로 완료된 상태 \\n② 상품준비중 : 판매자가 상품을 확인하고 상품을 발송하기 위해 준비하는 상태 \\n③ 배송시작 : 상품의 포장이 완료되어 택배사로 인계된 상태 \\n④ 배송중 : 상품의 택배사 출발부터 고객에게 배송 중인 상태 \\n⑤ 배송완료 : 상품이 고객님께 배달 완료된 상태\\n 티켓상품 (여행 레저 문화)\\n① 미사용 : 구매 후 티켓을 아직 사용하지 않은 상태 \\n② 사용완료 : 티켓 사용이 완료된 상태 \\n③ 유효기간만료 : 티켓을 사용할 수 있는 기간이 만료되어 티켓을 사용할 수 없는 상태\",\n",
      "  \"keywords\": \"ORDER\",\n",
      "  \"count\": 0\n",
      " },\n",
      " {\n",
      "  \"context\": \": 33\",\n",
      "  \"Question\": \"Q[반품] 반품한 상품의 회수현황은 어디서 확인할 수 있나요?\",\n",
      "  \"Answer\": \"아래의 경로를 통해 반품 회수 현황을 확인할 수 있습니다.\n",
      "\\n 반품 회수 현황 확인하기\\n• 마이쿠팡 → 취소/반품/교환/환불내역 → 상품선택 → [반품상세] \\n• 단 판매자 배송 상품 등 일부는 모바일 앱에서만 확인이 가능합니다.\n",
      "\",\n",
      "  \"keywords\": \"CANCEL\",\n",
      "  \"count\": 0\n",
      " },\n",
      " {\n",
      "  \"context\": \": 4\",\n",
      "  \"Question\": \"Q[배송완료미수령] 상품을 받지 못했는데 배송완료로 확인됩니다.\n",
      "\",\n",
      "  \"Answer\": \"배송상태가 [배송완료]로 확인되나 상품을 받지 못했다면 다음을 먼저 확인해 주시기 바랍니다.\n",
      "\\n 로켓배송 상품인 경우\\n• 배송완료 문자 또는 대리 수령 가능 장소(경비실 이웃 주변 편의점 등) 확인\\n• 마이쿠팡 → 주문목록 → 상품선택 → [배송조회] 클릭 후 배송 사진 확인\\n 판매자 배송 상품인 경우\\n• 배송완료 문자 또는 대리 수령 가능 장소(경비실 이웃 주변 편의점 등) 확인\\n 위 안내사항을 확인한 후에도 배송된 상품을 찾을 수 없다면 다음의 방법으로 직접 처리가 가능합니다.\n",
      "\\n 로켓배송 상품을 받지 못한 경우 (클릭)\\n 판매자 배송 상품을 받지 못한 경우 (클릭)\\n 선물 받은 상품을 받지 못한 경우 (클릭)\",\n",
      "  \"keywords\": \"DELIVERY\",\n",
      "  \"count\": 0\n",
      " }\n",
      "]\n",
      "```\n",
      ".\n"
     ]
    }
   ],
   "execution_count": 31
  },
  {
   "metadata": {},
   "cell_type": "code",
   "outputs": [],
   "execution_count": null,
   "source": "",
   "id": "a85500367870cbbe"
>>>>>>> 8083ffe9410fa0bac71058cb60578e936917f105
  }
 ],
 "metadata": {
  "kernelspec": {
   "display_name": "llm-env",
   "language": "python",
   "name": "python3"
  },
  "language_info": {
   "codemirror_mode": {
    "name": "ipython",
    "version": 3
   },
   "file_extension": ".py",
   "mimetype": "text/x-python",
   "name": "python",
   "nbconvert_exporter": "python",
   "pygments_lexer": "ipython3",
   "version": "3.10.0"
  }
 },
 "nbformat": 4,
 "nbformat_minor": 5
}
