{
 "cells": [
  {
   "cell_type": "code",
   "execution_count": null,
   "id": "initial_id",
   "metadata": {
    "ExecuteTime": {
     "end_time": "2024-12-18T05:16:58.088720Z",
     "start_time": "2024-12-18T05:16:55.790626Z"
    },
    "collapsed": true
   },
   "outputs": [],
   "source": [
    "%pip install pandas langchain langchain-core langchain-community langchain-text-splitters langchain-openai langchain-pinecone docx2txt langchain_upstage"
   ]
  },
  {
   "cell_type": "code",
   "id": "b9f0fbfbfdd1f0ad",
   "metadata": {
    "ExecuteTime": {
     "end_time": "2025-01-14T03:23:52.108208Z",
     "start_time": "2025-01-14T03:23:49.196209Z"
    }
   },
   "source": [
    "import os\n",
    "import pandas as pd\n",
    "from dotenv import load_dotenv\n",
    "from pprint import pprint\n",
    "\n",
    "from langchain_upstage import UpstageEmbeddings\n",
    "from langchain_text_splitters import RecursiveCharacterTextSplitter\n",
    "from langchain_community.document_loaders.csv_loader import CSVLoader\n",
    "from langchain.prompts import ChatPromptTemplate\n",
    "from langchain_google_genai import ChatGoogleGenerativeAI\n",
    "from langchain_core.output_parsers import StrOutputParser\n",
    "from langchain_core.runnables import RunnablePassthrough\n",
    "\n",
    "load_dotenv()\n",
    "\n",
    "GPT_API_KEY = os.environ[\"GPT_API_KEY\"]\n",
    "PINECONE_API_KEY = os.environ[\"PINECONE_API_KEY\"]\n",
    "UPSTAGE_API_KEY = os.environ[\"UPSTAGE_API_KEY\"]\n",
    "\n",
    "text_splitter = RecursiveCharacterTextSplitter(\n",
    "    chunk_size=1500,\n",
    "    chunk_overlap=200,\n",
    ")"
   ],
   "outputs": [],
   "execution_count": 1
  },
  {
   "metadata": {
    "ExecuteTime": {
     "end_time": "2025-01-09T08:52:43.569083Z",
     "start_time": "2025-01-09T08:52:43.555083Z"
    }
   },
   "cell_type": "code",
   "source": "folder_path = '../data'",
   "id": "6c19289eb785cad9",
   "outputs": [],
   "execution_count": 3
  },
  {
   "metadata": {
    "ExecuteTime": {
     "end_time": "2025-01-09T08:52:40.823313Z",
     "start_time": "2025-01-09T08:52:40.365313Z"
    }
   },
   "cell_type": "code",
   "source": [
    "document_list = []\n",
    "\n",
    "for file in os.listdir(folder_path):\n",
    "    print(file)\n",
    "    temp_loader = CSVLoader(file_path=f\"{folder_path}/{file}\", encoding='utf-8-sig')\n",
    "    temp_document_list = temp_loader.load_and_split(text_splitter=text_splitter)\n",
    "    \n",
    "    document_list.extend(temp_document_list)\n",
    "\n",
    "print(len(document_list))"
   ],
   "id": "6f380ad09762a365",
   "outputs": [
    {
     "ename": "NameError",
     "evalue": "name 'folder_path' is not defined",
     "output_type": "error",
     "traceback": [
      "\u001B[1;31m---------------------------------------------------------------------------\u001B[0m",
      "\u001B[1;31mNameError\u001B[0m                                 Traceback (most recent call last)",
      "Cell \u001B[1;32mIn[2], line 3\u001B[0m\n\u001B[0;32m      1\u001B[0m document_list \u001B[38;5;241m=\u001B[39m []\n\u001B[1;32m----> 3\u001B[0m \u001B[38;5;28;01mfor\u001B[39;00m file \u001B[38;5;129;01min\u001B[39;00m os\u001B[38;5;241m.\u001B[39mlistdir(\u001B[43mfolder_path\u001B[49m):\n\u001B[0;32m      4\u001B[0m     \u001B[38;5;28mprint\u001B[39m(file)\n\u001B[0;32m      5\u001B[0m     temp_loader \u001B[38;5;241m=\u001B[39m CSVLoader(file_path\u001B[38;5;241m=\u001B[39m\u001B[38;5;124mf\u001B[39m\u001B[38;5;124m\"\u001B[39m\u001B[38;5;132;01m{\u001B[39;00mfolder_path\u001B[38;5;132;01m}\u001B[39;00m\u001B[38;5;124m/\u001B[39m\u001B[38;5;132;01m{\u001B[39;00mfile\u001B[38;5;132;01m}\u001B[39;00m\u001B[38;5;124m\"\u001B[39m, encoding\u001B[38;5;241m=\u001B[39m\u001B[38;5;124m'\u001B[39m\u001B[38;5;124mutf-8-sig\u001B[39m\u001B[38;5;124m'\u001B[39m)\n",
      "\u001B[1;31mNameError\u001B[0m: name 'folder_path' is not defined"
     ]
    }
   ],
   "execution_count": 2
  },
  {
   "metadata": {
    "ExecuteTime": {
     "end_time": "2025-01-14T03:23:52.505222Z",
     "start_time": "2025-01-14T03:23:52.109208Z"
    }
   },
   "cell_type": "code",
   "source": [
    "# Upstage 에서 제공하는 Embedding Model을 활용\n",
    "embedding = UpstageEmbeddings(model=\"solar-embedding-1-large\",\n",
    "                              api_key=UPSTAGE_API_KEY)"
   ],
   "id": "be17f5a512b2346f",
   "outputs": [],
   "execution_count": 2
  },
  {
   "metadata": {
    "ExecuteTime": {
     "end_time": "2025-01-14T03:23:53.588146Z",
     "start_time": "2025-01-14T03:23:53.450987Z"
    }
   },
   "cell_type": "code",
   "source": [
    "from langchain_pinecone import PineconeVectorStore\n",
    "\n",
    "index_name = 'upstage-index'"
   ],
   "id": "c5d07f02320146c3",
   "outputs": [],
   "execution_count": 3
  },
  {
   "cell_type": "code",
   "execution_count": null,
   "id": "5dfc1d543ad32080",
   "metadata": {},
   "outputs": [],
   "source": [
    "# DB 처음 만들 때\n",
    "database = PineconeVectorStore.from_documents(document_list, embedding, index_name=index_name)\n"
   ]
  },
  {
   "metadata": {
    "ExecuteTime": {
     "end_time": "2025-01-14T03:23:56.842628Z",
     "start_time": "2025-01-14T03:23:54.963490Z"
    }
   },
   "cell_type": "code",
   "source": [
    "# 만들어 놓은 DB가 있을 때\n",
    "database = PineconeVectorStore.from_existing_index(index_name=index_name, embedding=embedding)"
   ],
   "id": "9d9c8e1799dea064",
   "outputs": [],
   "execution_count": 4
  },
  {
   "cell_type": "markdown",
   "source": "# Vectorstore 유사도 검색",
   "id": "f9b901d1c08e69c0",
   "metadata": {}
  },
  {
   "metadata": {},
   "cell_type": "code",
   "outputs": [],
   "execution_count": null,
   "source": [
    "query = '결제 후 주문 취소가 가능한가요?'\n",
    "\n",
    "results = database.similarity_search_with_score(query=query, k=3)\n",
    "for doc, score in results:\n",
    "    print(f\"* [SIM={score:3f}] {doc.page_content} [{doc.metadata}]\")\n",
    "    "
   ],
   "id": "130715d5f45c8266"
  },
  {
   "metadata": {},
   "cell_type": "code",
   "outputs": [],
   "execution_count": null,
   "source": [
    "legacy_template = \"\"\"\n",
    "[context]: {context}\n",
    "---\n",
    "[질의]: {query}\n",
    "위의 [context] 정보 내에서 [질의]에 대해 상담사 입장에서 사용자가 만족할 수 있을 정도로 성의있게 답하세요.\n",
    "단, [context] 정보에 없는 내용을 답해서는 안됩니다. 최대한 문장을 쉼표로 끊어서 대답하기 보다는, 온점으로 문장을 끊어주세요.\n",
    "이 모든 정보를 종합해서 2~3줄의 구어체로 답해주세요.\n",
    "\"\"\""
   ],
   "id": "3478616db13fabeb"
  },
  {
   "cell_type": "markdown",
   "source": "# LLM 질의 테스트",
   "id": "b4b635c5c5602fb0",
   "metadata": {}
  },
  {
   "metadata": {
    "ExecuteTime": {
     "end_time": "2025-01-14T03:24:05.366062Z",
     "start_time": "2025-01-14T03:24:05.278989Z"
    }
   },
   "cell_type": "code",
   "source": [
    "retriever = database.as_retriever(\n",
    "    search_type=\"mmr\", search_kwargs={\"k\": 3, \"fetch_k\": 5}\n",
    ")\n",
    "\n",
    "template = \"\"\"\n",
    "[context]: {context}\n",
    "---\n",
    "[질의]: {query}\n",
    "\n",
    "7년 이상의 경력을 가진 상담사라고 생각하고, 위의 [context] 정보 내에서 [질의]에 대해 상담사 입장에서 사용자가 만족할 수 있을 정도로 성의있게 답해주세요.\n",
    "최대한 문장을 쉼표로 끊어서 대답하기 보다는 온점으로 문장을 끊어주세요. \n",
    "문장의 마무리는 '~요' 보다는 '~다'로 끝나는 쪽이 전문적으로 보입니다.\n",
    "\n",
    "또한, 상담사는 가능한 선에서 직접 확인+안내+해결을 도와주는 직원이므로 직접 확인 후 해결까지 돕는 방향으로 작성해 주세요.\n",
    "그리고, 사용자의 편의를 위해 서비스 특성 상 쿠션어를 사용하시면 좋습니다.\n",
    "쿠션어의 예시는 다음과 같습니다.\n",
    "예시)\n",
    "불편을 드려 죄송합니다.\n",
    "번거로우시겠지만~\n",
    "~하는 점 양해 부탁드립니다.\n",
    "~할 예정입니다.\n",
    "~를 부탁드립니다.\n",
    "\n",
    "위 사항들을 종합해서 2~3줄로 상담사가 활용하기 좋게 대본을 만들어 주세요.\n",
    "\n",
    "만약, 조건별로 안내 내용이 다른 경우\n",
    "1차 응대 (양해멘트 or 1차 안내 등) + 정보 확인 멘트로 대본을 구성하면 됩니다.\n",
    "정보 확인 멘트는 \"정확한 상담을 위해 주문하신 주문 번호 확인 부탁드립니다.\" 입니다.\n",
    "문서의 아래에 각 조건별 대응 방법을 기술해 주세요.\n",
    "\n",
    "단, 제일 중요한 것은 [context] 정보에 없는 내용을 답해서는 안됩니다. [context]에 정보가 없거나 문서들의 유사성이 0.2 이하로 떨어질 경우, \n",
    "\"문의주신 내용은 확인이 필요하여 지금 답변드리기 어려울 것 같습니다. 번거로우시겠지만 확인 후에 다시 연락드려도 괜찮을까요?\" 라고 답해주세요.\n",
    "\"\"\"\n",
    "\n",
    "prompt = ChatPromptTemplate.from_template(template)\n",
    "\n",
    "llm = ChatGoogleGenerativeAI(model=\"gemini-1.5-flash\", temperature=0)\n",
    "\n",
    "def merge_pages(pages):\n",
    "    merged = \"\\n\".join(page.page_content for page in pages)\n",
    "    return merged\n",
    "\n",
    "chain = (\n",
    "    {\"query\": RunnablePassthrough(), \"context\": retriever | merge_pages}\n",
    "    | prompt\n",
    "    | llm\n",
    "    | StrOutputParser()\n",
    ")\n",
    "\n",
    "    "
   ],
   "id": "7149543ec13c8e5f",
   "outputs": [],
   "execution_count": 5
  },
  {
   "metadata": {
    "ExecuteTime": {
     "end_time": "2025-01-09T08:53:30.779883Z",
     "start_time": "2025-01-09T08:53:24.712622Z"
    }
   },
   "cell_type": "code",
   "source": [
    "# 챗봇에 질의\n",
    "query = '결제 후 주문 취소가 가능한가요?'\n",
    "\n",
    "answer = chain.invoke(query).replace('  ', ' ').split('.')\n",
    "print(\"Answer : \", end='')\n",
    "for ans in answer:  \n",
    "    print(ans + '.')"
   ],
   "id": "735da33e50d3439f",
   "outputs": [
    {
     "name": "stdout",
     "output_type": "stream",
     "text": [
      "Answer : 네, 결제 후 주문 취소가 가능합니다.\n",
      " 하지만 상품 배송 여부에 따라 가능 여부와 절차가 다르니, 정확한 상담을 위해 주문하신 주문 번호 확인 부탁드립니다.\n",
      " 상품 배송 전이라면 주문 취소가 가능하며, 배송 중이거나 완료된 경우에는 반품 절차를 안내해 드리겠습니다.\n",
      "\n",
      "\n",
      "\n",
      "**각 조건별 대응 방법**\n",
      "\n",
      "* **상품 배송 전:** \"주문 번호를 확인했습니다.\n",
      " 현재 상품 배송 전이므로 주문 취소가 가능합니다.\n",
      " 주문 취소를 도와드리겠습니다.\n",
      " 잠시만 기다려주세요.\n",
      "\" (주문 취소 진행 후) \"주문이 취소되었습니다.\n",
      " 불편을 드려 죄송합니다.\n",
      "\"\n",
      "\n",
      "* **상품 배송 중 또는 완료:** \"주문 번호를 확인했습니다.\n",
      " 현재 상품이 배송 중이거나 배송 완료된 상태라 주문 취소는 어렵습니다.\n",
      " 단순 변심으로 인한 반품을 원하시면, 반품 절차를 안내해 드리겠습니다.\n",
      " 번거로우시겠지만, 반품 신청을 위해 필요한 정보를 안내해 드릴 테니, 잠시만 기다려주세요.\n",
      "\" (반품 절차 안내 후) \"반품 절차에 대한 안내를 드렸습니다.\n",
      " 궁금한 점이 있으시면 언제든지 문의해주세요.\n",
      "\"\n",
      "\n",
      "* **주문 번호 확인 불가:** \"정확한 상담을 위해 주문하신 주문 번호 확인 부탁드립니다.\n",
      "\"\n",
      "\n",
      "\n",
      ".\n"
     ]
    }
   ],
   "execution_count": 8
  },
  {
   "metadata": {},
   "cell_type": "markdown",
   "source": "# OLLAMA TEST",
   "id": "363722a47ac16cc9"
  },
  {
   "metadata": {
    "ExecuteTime": {
     "end_time": "2025-01-14T03:27:28.989480Z",
     "start_time": "2025-01-14T03:27:16.735286Z"
    }
   },
   "cell_type": "code",
   "source": [
    "from langchain.prompts import ChatPromptTemplate\n",
    "from langchain_google_genai import ChatGoogleGenerativeAI\n",
    "from langchain_core.output_parsers import StrOutputParser\n",
    "from langchain_core.runnables import RunnablePassthrough\n",
    "from langchain_ollama import ChatOllama\n",
    "\n",
    "retriever = database.as_retriever(\n",
    "    search_type=\"mmr\", search_kwargs={\"k\": 3, \"fetch_k\": 5}\n",
    ")\n",
    "\n",
    "template = \"\"\"\n",
    "[context]: {context}\n",
    "---\n",
    "[질의]: {query}\n",
    "\n",
    "7년 이상의 경력을 가진 상담사라고 생각하고, 위의 [context] 정보 내에서 [질의]에 대해 상담사 입장에서 사용자가 만족할 수 있을 정도로 성의있게 답해주세요.\n",
    "최대한 문장을 쉼표로 끊어서 대답하기 보다는 온점으로 문장을 끊어주세요. \n",
    "문장의 마무리는 '~요' 보다는 '~다'로 끝나는 쪽이 전문적으로 보입니다.\n",
    "또한, 상담사는 가능한 선에서 직접 확인+안내+해결을 도와주는 직원이므로 직접 확인 후 해결까지 돕는 방향으로 작성해 주세요.\n",
    "그리고, 사용자의 편의를 위해 서비스 특성 상 쿠션어를 사용하시면 좋습니다.\n",
    "\n",
    "쿠션어의 예시는 다음과 같습니다.\n",
    "예시)\n",
    "불편을 드려 죄송합니다.\n",
    "번거로우시겠지만~\n",
    "~하는 점 양해 부탁드립니다.\n",
    "~할 예정입니다.\n",
    "~를 부탁드립니다.\n",
    "\n",
    "위 사항들을 종합해서 2~3줄로 상담사가 활용하기 좋게 대본을 만들어 주세요.\n",
    "\n",
    "단, 제일 중요한 것은 [context] 정보에 없는 내용을 답해서는 안됩니다. [context]에 정보가 없거나 문서들의 유사성이 0.2 이하로 떨어질 경우, \"문의주신 내용은 확인이 필요하여 지금 답변드리기 어려울 것 같습니다. 번거로우시겠지만 확인 후에 다시 연락드려도 괜찮을까요?\" 라고 답해주세요.\n",
    "\"\"\"\n",
    "\n",
    "prompt = ChatPromptTemplate.from_template(template)\n",
    "\n",
    "llm = ChatOllama(\n",
    "    model=\"llama3.1:8b\"\n",
    ")\n",
    "\n",
    "def merge_pages(pages):\n",
    "    merged = \"\".join(page.page_content for page in pages)\n",
    "    return merged\n",
    "\n",
    "chain = (\n",
    "    {\"query\": RunnablePassthrough(), \"context\": retriever | merge_pages}\n",
    "    | prompt\n",
    "    | llm\n",
    "    | StrOutputParser()\n",
    ")\n",
    "# 유사도 보기\n",
    "# results = database.similarity_search_with_score(query=query, k=3)\n",
    "# pprint(results)\n",
    "query = '주문 후 배송 주소를 변경할 수 있나요?'\n",
    "results = database.similarity_search_with_score(query=query, k=3)\n",
    "pprint(results)\n",
    "\n",
    "print()\n",
    "answer = chain.invoke(query).replace('  ', ' ').split('.')\n",
    "print(\"Answer : \", end='')\n",
    "for ans in answer:  \n",
    "    print(ans + '.')\n"
   ],
   "id": "cb7be6f438b8b0c",
   "outputs": [
    {
     "name": "stdout",
     "output_type": "stream",
     "text": [
      "[(Document(id='31ee5dfd-3b6f-4255-a62c-ea7b482ac8d0', metadata={'row': 48.0, 'source': '../data/DELIVERY_main_qna_list.csv'}, page_content=': 48\\nQuestion: Q[배송지] 주문 후 결제까지 완료했는데 배송지를 변경하고 싶어요.\\nAnswer: 주문/결제 직후라면 아래의 경로에서 배송지 변경이 가능합니다. 단 상품 종류 및 준비 상태에 따라 배송지 변경이 불가할 수 있습니다.\\n 주문상품 배송지 변경하기\\n① 마이쿠팡 → 주문목록 → [주문상세보기] 선택\\n② ‘받는사람 정보’의 ‘받는주소’에서 [변경하기] 선택\\n※ 위 [변경하기] 버튼이 없으면 배송지를 변경할 수 있는 시간이 경과한 것입니다.\\nkeywords: DELIVERY\\ncount: 0'),\n",
      "  0.536497891),\n",
      " (Document(id='dc6869eb-e9e7-43e7-bcb4-0805dc43d612', metadata={'row': 38.0, 'source': '../data/DELIVERY_main_qna_list.csv'}, page_content=': 38\\nQuestion: Q[배송지] 배송 중에 배송지 및 배송요청사항을 변경할 수 있나요?\\nAnswer: 아니요. 상품이 이미 출고되어 배송 중인 상태에서는 배송지 및 배송요청사항을 변경할 수 없습니다.\\nkeywords: DELIVERY\\ncount: 0'),\n",
      "  0.49331823),\n",
      " (Document(id='709c58dd-c3aa-4017-bc0c-90c1b0d82032', metadata={'row': 49.0, 'source': '../data/DELIVERY_main_qna_list.csv'}, page_content=': 49\\nQuestion: Q[로켓배송] 새벽배송 주문 후 배송지를 변경할 수 있나요?\\nAnswer: 상품에 종류에 따라 다릅니다. 새벽배송 전용인 로켓프레시 상품은 주문/결제 완료 후에는 배송지 변경이 불가합니다. 그러나 새벽배송 중 로켓배송 일반 상품은 배송시작 전까지 배송지를 변경할 수 있습니다. 배송지 변경 후에는 아래 경로에서 배송예정일을 다시 확인 부탁드립니다. (변경 후 반영까지 약 1~2분 소요)\\n 주문상품 배송지 변경하기\\n마이쿠팡 → 주문목록 → 상품선택 → 주문상세보기 → 배송지 [변경하기] 클릭\\n 배송현황 확인하기\\n마이쿠팡 → 주문목록 → 상품선택 → 배송조회\\nkeywords: DELIVERY\\ncount: 0'),\n",
      "  0.493147552)]\n",
      "\n",
      "Answer : 대본:\n",
      "\n",
      "\"불편을 드려 죄송합니다.\n",
      " 주문 후 배송 주소를 변경하실 수 있는지 궁금하시네요.\n",
      " 불편하셨다며, 주문/결제 직후는 가능하지만 상품이 이미 출고되어 배송 중인 경우에는 변경할 수 없습니다.\n",
      "\".\n"
     ]
    }
   ],
   "execution_count": 17
  },
  {
   "metadata": {},
   "cell_type": "markdown",
   "source": "# Cache DB 연동",
   "id": "8f6cfa20deebe2b4"
  },
  {
   "metadata": {
    "ExecuteTime": {
     "end_time": "2025-01-14T03:24:48.617765Z",
     "start_time": "2025-01-14T03:24:48.590766Z"
    }
   },
   "cell_type": "code",
   "source": [
    "import pymysql as sql\n",
    "from pprint import pprint\n",
    "import hashlib"
   ],
   "id": "93c920f02223c8fc",
   "outputs": [],
   "execution_count": 6
  },
  {
   "metadata": {
    "ExecuteTime": {
     "end_time": "2025-01-14T03:25:00.379421Z",
     "start_time": "2025-01-14T03:24:58.310323Z"
    }
   },
   "cell_type": "code",
   "source": [
    "# db 불러오기\n",
    "conn = sql.connect(host= \"localhost\", user=\"root\", password='1234', db='cache_db', charset='utf8')\n",
    "table_name = \"cache\"\n",
    "require_min_length = 5"
   ],
   "id": "9bea69a14b41f733",
   "outputs": [],
   "execution_count": 7
  },
  {
   "metadata": {
    "ExecuteTime": {
     "end_time": "2025-01-14T03:25:00.395437Z",
     "start_time": "2025-01-14T03:25:00.382440Z"
    }
   },
   "cell_type": "code",
   "source": [
    "def select_all_data():\n",
    "    cursor = conn.cursor()\n",
    "    cursor.execute(f\"select * from {table_name};\")\n",
    "\n",
    "    cur_db = cursor.fetchall()\n",
    "    for d in cur_db:\n",
    "        pprint(d)"
   ],
   "id": "4dcb6c6399f60d98",
   "outputs": [],
   "execution_count": 8
  },
  {
   "metadata": {
    "ExecuteTime": {
     "end_time": "2025-01-14T03:25:10.599268Z",
     "start_time": "2025-01-14T03:25:10.591268Z"
    }
   },
   "cell_type": "code",
   "source": [
    "def validation_data(query):\n",
    "\n",
    "    return len(query) > require_min_length\n",
    "\n",
    "# 데이터 삽입\n",
    "def insert_data(query):\n",
    "    if not validation_data(query):\n",
    "        print(f\"최소 {require_min_length}자 이상의 질문을 입력해 주세요\")\n",
    "        return\n",
    "\n",
    "    try:\n",
    "        with conn.cursor() as cur:\n",
    "            query = \"insert into cache (created_at, query, hashed_docs, created_answer) values (%s, %s, %s, %s);\"\n",
    "            cur.execute(\"use cache\")\n",
    "\n",
    "            cur.execute(query, (\n",
    "                \n",
    "            ))\n",
    "\n",
    "            conn.commit()\n",
    "\n",
    "    finally:\n",
    "        conn.close()"
   ],
   "id": "55ad14c6538d7f2f",
   "outputs": [],
   "execution_count": 9
  },
  {
   "metadata": {
    "ExecuteTime": {
     "end_time": "2025-01-14T03:29:23.657624Z",
     "start_time": "2025-01-14T03:29:23.649637Z"
    }
   },
   "cell_type": "code",
   "source": [
    "# DB에 현재 md5 정보와 일치하는 문서가 있는지 확인\n",
    "def is_exist_doc(query_md5):\n",
    "    try:\n",
    "        with conn.cursor() as cur:\n",
    "            find_query_md5 = f\"select * from {table_name} where hashed_docs = '{query_md5}';\"\n",
    "            cur.execute(find_query_md5)\n",
    "            \n",
    "            exist_doc = cur.fetchall()\n",
    "            return exist_doc\n",
    "            \n",
    "    except Exception as e:\n",
    "        print(e)\n",
    "        \n",
    "\n",
    "def query_to_md5(query):\n",
    "    return \",\".join(sorted([hashlib.md5(result.page_content.encode()).hexdigest() for result in database.similarity_search(query=query, k=3)]))"
   ],
   "id": "d2bf6a538b58404c",
   "outputs": [],
   "execution_count": 26
  },
  {
   "metadata": {
    "ExecuteTime": {
     "end_time": "2025-01-14T03:33:26.596033Z",
     "start_time": "2025-01-14T03:33:26.582033Z"
    }
   },
   "cell_type": "code",
   "source": [
    "def get_exist_llm_answer(query):\n",
    "    query_md5 = query_to_md5(query)\n",
    "    docs = is_exist_doc(query_md5)\n",
    "    \n",
    "    # 일치하는 docs가 없다면\n",
    "    if len(docs) == 0:\n",
    "        # generate_and_store_llm()\n",
    "        \n",
    "        return \"Answer: ** 해당하는 질문이 Cache DB상에 존재하지 않습니다.\\n\\n\"\n",
    "    \n",
    "    else:\n",
    "        answer = docs[0][4]\n",
    "        return answer\n",
    "        "
   ],
   "id": "71fbabb8be2dec34",
   "outputs": [],
   "execution_count": 33
  },
  {
   "metadata": {
    "ExecuteTime": {
     "end_time": "2025-01-14T03:25:26.943463Z",
     "start_time": "2025-01-14T03:25:26.935463Z"
    }
   },
   "cell_type": "code",
   "source": "test_md5 = \"5aec9b0cbb8e768576a0bc99157cbb8a,72f328e328ed93624991283a5e2e3c09,de14d9dd57ef5fcc9a3f113baea01aa7\"",
   "id": "3ad12ae0e855ae57",
   "outputs": [],
   "execution_count": 11
  },
  {
   "metadata": {
    "ExecuteTime": {
     "end_time": "2025-01-14T03:25:32.306746Z",
     "start_time": "2025-01-14T03:25:32.285731Z"
    }
   },
   "cell_type": "code",
   "source": "doc = is_exist_doc(test_md5)",
   "id": "9ec0782a085338f",
   "outputs": [
    {
     "name": "stdout",
     "output_type": "stream",
     "text": [
      "select * from cache where hashed_docs = '5aec9b0cbb8e768576a0bc99157cbb8a,72f328e328ed93624991283a5e2e3c09,de14d9dd57ef5fcc9a3f113baea01aa7';\n"
     ]
    }
   ],
   "execution_count": 12
  },
  {
   "metadata": {
    "ExecuteTime": {
     "end_time": "2025-01-14T03:33:28.990848Z",
     "start_time": "2025-01-14T03:33:28.272944Z"
    }
   },
   "cell_type": "code",
   "source": "answer = get_exist_llm_answer(query)",
   "id": "f36c97ce3211716a",
   "outputs": [],
   "execution_count": 34
  },
  {
   "metadata": {
    "ExecuteTime": {
     "end_time": "2025-01-14T03:33:40.262056Z",
     "start_time": "2025-01-14T03:33:40.245040Z"
    }
   },
   "cell_type": "code",
   "source": "temp = answer.split('Answer:')",
   "id": "d65df94ee0cb62cc",
   "outputs": [],
   "execution_count": 36
  },
  {
   "metadata": {
    "jupyter": {
     "is_executing": true
    }
   },
   "cell_type": "code",
   "source": "temp",
   "id": "e7c9158234785fce",
   "outputs": [],
   "execution_count": null
  }
 ],
 "metadata": {
  "kernelspec": {
   "display_name": "llm-env",
   "language": "python",
   "name": "python3"
  },
  "language_info": {
   "codemirror_mode": {
    "name": "ipython",
    "version": 3
   },
   "file_extension": ".py",
   "mimetype": "text/x-python",
   "name": "python",
   "nbconvert_exporter": "python",
   "pygments_lexer": "ipython3",
   "version": "3.10.0"
  }
 },
 "nbformat": 4,
 "nbformat_minor": 5
}
