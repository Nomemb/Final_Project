{
 "cells": [
  {
   "cell_type": "code",
   "execution_count": 2,
   "id": "initial_id",
   "metadata": {
    "ExecuteTime": {
     "end_time": "2024-12-18T05:16:58.088720Z",
     "start_time": "2024-12-18T05:16:55.790626Z"
    },
    "collapsed": true
   },
   "outputs": [
    {
     "name": "stdout",
     "output_type": "stream",
     "text": [
      "Requirement already satisfied: langchain in c:\\users\\admin\\anaconda3\\envs\\llm-env\\lib\\site-packages (0.3.14)\n",
      "Requirement already satisfied: langchain-core in c:\\users\\admin\\anaconda3\\envs\\llm-env\\lib\\site-packages (0.3.29)\n",
      "Requirement already satisfied: langchain-community in c:\\users\\admin\\anaconda3\\envs\\llm-env\\lib\\site-packages (0.3.14)\n",
      "Requirement already satisfied: langchain-text-splitters in c:\\users\\admin\\anaconda3\\envs\\llm-env\\lib\\site-packages (0.3.4)\n",
      "Requirement already satisfied: langchain-openai in c:\\users\\admin\\anaconda3\\envs\\llm-env\\lib\\site-packages (0.2.14)\n",
      "Requirement already satisfied: langchain-pinecone in c:\\users\\admin\\anaconda3\\envs\\llm-env\\lib\\site-packages (0.2.0)\n",
      "Requirement already satisfied: docx2txt in c:\\users\\admin\\anaconda3\\envs\\llm-env\\lib\\site-packages (0.8)\n",
      "Requirement already satisfied: PyYAML>=5.3 in c:\\users\\admin\\anaconda3\\envs\\llm-env\\lib\\site-packages (from langchain) (6.0.2)\n",
      "Requirement already satisfied: SQLAlchemy<3,>=1.4 in c:\\users\\admin\\anaconda3\\envs\\llm-env\\lib\\site-packages (from langchain) (2.0.36)\n",
      "Requirement already satisfied: aiohttp<4.0.0,>=3.8.3 in c:\\users\\admin\\anaconda3\\envs\\llm-env\\lib\\site-packages (from langchain) (3.9.5)\n",
      "Requirement already satisfied: async-timeout<5.0.0,>=4.0.0 in c:\\users\\admin\\anaconda3\\envs\\llm-env\\lib\\site-packages (from langchain) (4.0.3)\n",
      "Requirement already satisfied: langsmith<0.3,>=0.1.17 in c:\\users\\admin\\anaconda3\\envs\\llm-env\\lib\\site-packages (from langchain) (0.2.10)\n",
      "Requirement already satisfied: numpy<2,>=1.22.4 in c:\\users\\admin\\anaconda3\\envs\\llm-env\\lib\\site-packages (from langchain) (1.26.4)\n",
      "Requirement already satisfied: pydantic<3.0.0,>=2.7.4 in c:\\users\\admin\\anaconda3\\envs\\llm-env\\lib\\site-packages (from langchain) (2.10.4)\n",
      "Requirement already satisfied: requests<3,>=2 in c:\\users\\admin\\anaconda3\\envs\\llm-env\\lib\\site-packages (from langchain) (2.32.3)\n",
      "Requirement already satisfied: tenacity!=8.4.0,<10,>=8.1.0 in c:\\users\\admin\\anaconda3\\envs\\llm-env\\lib\\site-packages (from langchain) (9.0.0)\n",
      "Requirement already satisfied: jsonpatch<2.0,>=1.33 in c:\\users\\admin\\anaconda3\\envs\\llm-env\\lib\\site-packages (from langchain-core) (1.33)\n",
      "Requirement already satisfied: packaging<25,>=23.2 in c:\\users\\admin\\anaconda3\\envs\\llm-env\\lib\\site-packages (from langchain-core) (24.2)\n",
      "Requirement already satisfied: typing-extensions>=4.7 in c:\\users\\admin\\anaconda3\\envs\\llm-env\\lib\\site-packages (from langchain-core) (4.12.2)\n",
      "Requirement already satisfied: dataclasses-json<0.7,>=0.5.7 in c:\\users\\admin\\anaconda3\\envs\\llm-env\\lib\\site-packages (from langchain-community) (0.6.7)\n",
      "Requirement already satisfied: httpx-sse<0.5.0,>=0.4.0 in c:\\users\\admin\\anaconda3\\envs\\llm-env\\lib\\site-packages (from langchain-community) (0.4.0)\n",
      "Requirement already satisfied: pydantic-settings<3.0.0,>=2.4.0 in c:\\users\\admin\\anaconda3\\envs\\llm-env\\lib\\site-packages (from langchain-community) (2.7.1)\n",
      "Requirement already satisfied: openai<2.0.0,>=1.58.1 in c:\\users\\admin\\anaconda3\\envs\\llm-env\\lib\\site-packages (from langchain-openai) (1.59.3)\n",
      "Requirement already satisfied: tiktoken<1,>=0.7 in c:\\users\\admin\\anaconda3\\envs\\llm-env\\lib\\site-packages (from langchain-openai) (0.8.0)\n",
      "Requirement already satisfied: pinecone-client<6.0.0,>=5.0.0 in c:\\users\\admin\\anaconda3\\envs\\llm-env\\lib\\site-packages (from langchain-pinecone) (5.0.1)\n",
      "Requirement already satisfied: aiosignal>=1.1.2 in c:\\users\\admin\\anaconda3\\envs\\llm-env\\lib\\site-packages (from aiohttp<4.0.0,>=3.8.3->langchain) (1.3.2)\n",
      "Requirement already satisfied: attrs>=17.3.0 in c:\\users\\admin\\anaconda3\\envs\\llm-env\\lib\\site-packages (from aiohttp<4.0.0,>=3.8.3->langchain) (24.3.0)\n",
      "Requirement already satisfied: frozenlist>=1.1.1 in c:\\users\\admin\\anaconda3\\envs\\llm-env\\lib\\site-packages (from aiohttp<4.0.0,>=3.8.3->langchain) (1.5.0)\n",
      "Requirement already satisfied: multidict<7.0,>=4.5 in c:\\users\\admin\\anaconda3\\envs\\llm-env\\lib\\site-packages (from aiohttp<4.0.0,>=3.8.3->langchain) (6.1.0)\n",
      "Requirement already satisfied: yarl<2.0,>=1.0 in c:\\users\\admin\\anaconda3\\envs\\llm-env\\lib\\site-packages (from aiohttp<4.0.0,>=3.8.3->langchain) (1.18.3)\n",
      "Requirement already satisfied: marshmallow<4.0.0,>=3.18.0 in c:\\users\\admin\\anaconda3\\envs\\llm-env\\lib\\site-packages (from dataclasses-json<0.7,>=0.5.7->langchain-community) (3.23.3)\n",
      "Requirement already satisfied: typing-inspect<1,>=0.4.0 in c:\\users\\admin\\anaconda3\\envs\\llm-env\\lib\\site-packages (from dataclasses-json<0.7,>=0.5.7->langchain-community) (0.9.0)\n",
      "Requirement already satisfied: jsonpointer>=1.9 in c:\\users\\admin\\anaconda3\\envs\\llm-env\\lib\\site-packages (from jsonpatch<2.0,>=1.33->langchain-core) (3.0.0)\n",
      "Requirement already satisfied: httpx<1,>=0.23.0 in c:\\users\\admin\\anaconda3\\envs\\llm-env\\lib\\site-packages (from langsmith<0.3,>=0.1.17->langchain) (0.28.1)\n",
      "Requirement already satisfied: orjson<4.0.0,>=3.9.14 in c:\\users\\admin\\anaconda3\\envs\\llm-env\\lib\\site-packages (from langsmith<0.3,>=0.1.17->langchain) (3.10.13)\n",
      "Requirement already satisfied: requests-toolbelt<2.0.0,>=1.0.0 in c:\\users\\admin\\anaconda3\\envs\\llm-env\\lib\\site-packages (from langsmith<0.3,>=0.1.17->langchain) (1.0.0)\n",
      "Requirement already satisfied: anyio<5,>=3.5.0 in c:\\users\\admin\\anaconda3\\envs\\llm-env\\lib\\site-packages (from openai<2.0.0,>=1.58.1->langchain-openai) (4.7.0)\n",
      "Requirement already satisfied: distro<2,>=1.7.0 in c:\\users\\admin\\anaconda3\\envs\\llm-env\\lib\\site-packages (from openai<2.0.0,>=1.58.1->langchain-openai) (1.9.0)\n",
      "Requirement already satisfied: jiter<1,>=0.4.0 in c:\\users\\admin\\anaconda3\\envs\\llm-env\\lib\\site-packages (from openai<2.0.0,>=1.58.1->langchain-openai) (0.8.2)\n",
      "Requirement already satisfied: sniffio in c:\\users\\admin\\anaconda3\\envs\\llm-env\\lib\\site-packages (from openai<2.0.0,>=1.58.1->langchain-openai) (1.3.1)\n",
      "Requirement already satisfied: tqdm>4 in c:\\users\\admin\\anaconda3\\envs\\llm-env\\lib\\site-packages (from openai<2.0.0,>=1.58.1->langchain-openai) (4.67.1)\n",
      "Requirement already satisfied: certifi>=2019.11.17 in c:\\users\\admin\\anaconda3\\envs\\llm-env\\lib\\site-packages (from pinecone-client<6.0.0,>=5.0.0->langchain-pinecone) (2024.12.14)\n",
      "Requirement already satisfied: pinecone-plugin-inference<2.0.0,>=1.0.3 in c:\\users\\admin\\anaconda3\\envs\\llm-env\\lib\\site-packages (from pinecone-client<6.0.0,>=5.0.0->langchain-pinecone) (1.1.0)\n",
      "Requirement already satisfied: pinecone-plugin-interface<0.0.8,>=0.0.7 in c:\\users\\admin\\anaconda3\\envs\\llm-env\\lib\\site-packages (from pinecone-client<6.0.0,>=5.0.0->langchain-pinecone) (0.0.7)\n",
      "Requirement already satisfied: urllib3>=1.26.0 in c:\\users\\admin\\anaconda3\\envs\\llm-env\\lib\\site-packages (from pinecone-client<6.0.0,>=5.0.0->langchain-pinecone) (2.3.0)\n",
      "Requirement already satisfied: annotated-types>=0.6.0 in c:\\users\\admin\\anaconda3\\envs\\llm-env\\lib\\site-packages (from pydantic<3.0.0,>=2.7.4->langchain) (0.7.0)\n",
      "Requirement already satisfied: pydantic-core==2.27.2 in c:\\users\\admin\\anaconda3\\envs\\llm-env\\lib\\site-packages (from pydantic<3.0.0,>=2.7.4->langchain) (2.27.2)\n",
      "Requirement already satisfied: python-dotenv>=0.21.0 in c:\\users\\admin\\anaconda3\\envs\\llm-env\\lib\\site-packages (from pydantic-settings<3.0.0,>=2.4.0->langchain-community) (1.0.1)\n",
      "Requirement already satisfied: charset-normalizer<4,>=2 in c:\\users\\admin\\anaconda3\\envs\\llm-env\\lib\\site-packages (from requests<3,>=2->langchain) (3.4.1)\n",
      "Requirement already satisfied: idna<4,>=2.5 in c:\\users\\admin\\anaconda3\\envs\\llm-env\\lib\\site-packages (from requests<3,>=2->langchain) (3.10)\n",
      "Requirement already satisfied: greenlet!=0.4.17 in c:\\users\\admin\\anaconda3\\envs\\llm-env\\lib\\site-packages (from SQLAlchemy<3,>=1.4->langchain) (3.1.1)\n",
      "Requirement already satisfied: regex>=2022.1.18 in c:\\users\\admin\\anaconda3\\envs\\llm-env\\lib\\site-packages (from tiktoken<1,>=0.7->langchain-openai) (2024.11.6)\n",
      "Requirement already satisfied: exceptiongroup>=1.0.2 in c:\\users\\admin\\anaconda3\\envs\\llm-env\\lib\\site-packages (from anyio<5,>=3.5.0->openai<2.0.0,>=1.58.1->langchain-openai) (1.2.2)\n",
      "Requirement already satisfied: httpcore==1.* in c:\\users\\admin\\anaconda3\\envs\\llm-env\\lib\\site-packages (from httpx<1,>=0.23.0->langsmith<0.3,>=0.1.17->langchain) (1.0.7)\n",
      "Requirement already satisfied: h11<0.15,>=0.13 in c:\\users\\admin\\anaconda3\\envs\\llm-env\\lib\\site-packages (from httpcore==1.*->httpx<1,>=0.23.0->langsmith<0.3,>=0.1.17->langchain) (0.14.0)\n",
      "Requirement already satisfied: colorama in c:\\users\\admin\\anaconda3\\envs\\llm-env\\lib\\site-packages (from tqdm>4->openai<2.0.0,>=1.58.1->langchain-openai) (0.4.6)\n",
      "Requirement already satisfied: mypy-extensions>=0.3.0 in c:\\users\\admin\\anaconda3\\envs\\llm-env\\lib\\site-packages (from typing-inspect<1,>=0.4.0->dataclasses-json<0.7,>=0.5.7->langchain-community) (1.0.0)\n",
      "Requirement already satisfied: propcache>=0.2.0 in c:\\users\\admin\\anaconda3\\envs\\llm-env\\lib\\site-packages (from yarl<2.0,>=1.0->aiohttp<4.0.0,>=3.8.3->langchain) (0.2.1)\n",
      "Note: you may need to restart the kernel to use updated packages.\n"
     ]
    }
   ],
   "source": [
    "import pandas as pd\n",
    "%pip install langchain langchain-core langchain-community langchain-text-splitters langchain-openai langchain-pinecone docx2txt"
   ]
  },
  {
   "cell_type": "code",
   "execution_count": 32,
   "id": "4f6218586b0a150d",
   "metadata": {},
   "outputs": [
    {
     "data": {
      "text/plain": [
       "True"
      ]
     },
     "execution_count": 32,
     "metadata": {},
     "output_type": "execute_result"
    }
   ],
   "source": [
    "import os\n",
    "import dotenv\n",
    "\n",
    "dotenv.load_dotenv()"
   ]
  },
  {
   "cell_type": "code",
   "execution_count": 33,
   "id": "10da07f7226e7b6",
   "metadata": {
    "ExecuteTime": {
     "end_time": "2025-01-04T01:09:00.377569Z",
     "start_time": "2025-01-04T01:08:58.775239Z"
    }
   },
   "outputs": [],
   "source": [
    "from langchain_upstage import UpstageEmbeddings\n",
    "from langchain_text_splitters import RecursiveCharacterTextSplitter\n",
    "from langchain_community.document_loaders.csv_loader import CSVLoader\n",
    "from pprint import pprint\n",
    "\n",
    "\n",
    "UPSTAGE_API_KEY=os.environ.get(\"UPSTAGE_API_KEY\")\n",
    "PINECONE_API_KEY=os.environ.get(\"PINECONE_API_KEY\")\n",
    "# GPT_API_KEY=os.environ.get(\"GPT_API_KEY\")\n",
    "\n",
    "text_splitter = RecursiveCharacterTextSplitter(\n",
    "    chunk_size=1500,\n",
    "    chunk_overlap=200,\n",
    ")"
   ]
  },
  {
   "cell_type": "code",
   "execution_count": 34,
   "id": "c493976160090709",
   "metadata": {
    "ExecuteTime": {
     "end_time": "2024-12-30T10:01:56.718761Z",
     "start_time": "2024-12-30T10:01:56.704649Z"
    }
   },
   "outputs": [],
   "source": [
    "folder_path = '../data'"
   ]
  },
  {
   "cell_type": "code",
   "execution_count": 35,
   "id": "86175e1843b29943",
   "metadata": {
    "ExecuteTime": {
     "end_time": "2024-12-30T10:02:01.024673Z",
     "start_time": "2024-12-30T10:02:01.000327Z"
    }
   },
   "outputs": [
    {
     "name": "stdout",
     "output_type": "stream",
     "text": [
      "CANCEL_main_qna_list.csv\n",
      "DELIVERY_main_qna_list.csv\n",
      "ORDER_main_qna_list.csv\n",
      "REFUND_main_qna_list.csv\n",
      "SUB_qna_list.csv\n",
      "309\n"
     ]
    }
   ],
   "source": [
    "document_list = []\n",
    "\n",
    "for file in os.listdir(folder_path):\n",
    "    print(file)\n",
    "    temp_loader = CSVLoader(file_path=f\"{folder_path}/{file}\", encoding='utf-8-sig')\n",
    "    temp_document_list = temp_loader.load_and_split(text_splitter=text_splitter)\n",
    "    \n",
    "    document_list.extend(temp_document_list)\n",
    "\n",
    "print(len(document_list))"
   ]
  },
  {
   "cell_type": "code",
   "execution_count": 36,
   "id": "7719061b6dab8d39",
   "metadata": {
    "ExecuteTime": {
     "end_time": "2025-01-04T01:09:06.448010Z",
     "start_time": "2025-01-04T01:09:05.936470Z"
    }
   },
   "outputs": [],
   "source": [
    "# Upstage 에서 제공하는 Embedding Model을 활용\n",
    "embedding = UpstageEmbeddings(model=\"solar-embedding-1-large\",\n",
    "                              api_key=UPSTAGE_API_KEY)"
   ]
  },
  {
   "cell_type": "code",
   "execution_count": 37,
   "id": "5888d34b4e41a2d8",
   "metadata": {
    "ExecuteTime": {
     "end_time": "2025-01-04T01:09:11.978940Z",
     "start_time": "2025-01-04T01:09:11.524428Z"
    }
   },
   "outputs": [],
   "source": [
    "from langchain_pinecone import PineconeVectorStore\n",
    "\n",
    "\n",
    "index_name = 'upstage-index'"
   ]
  },
  {
   "cell_type": "code",
   "execution_count": 38,
   "id": "23399523e40f7306",
   "metadata": {},
   "outputs": [],
   "source": [
    "# DB 처음 만들 때\n",
    "database = PineconeVectorStore.from_documents(document_list, embedding, index_name=index_name)\n"
   ]
  },
  {
   "cell_type": "code",
   "execution_count": 27,
   "id": "3e740ffcf8368014",
   "metadata": {
    "ExecuteTime": {
     "end_time": "2025-01-04T01:09:15.404288Z",
     "start_time": "2025-01-04T01:09:13.088429Z"
    }
   },
   "outputs": [],
   "source": [
    "# 만들어 놓은 DB가 있을 때\n",
    "# database = PineconeVectorStore.from_existing_index(index_name=index_name, embedding=embedding)"
   ]
  },
  {
   "cell_type": "markdown",
   "id": "41e7d72561431bf2",
   "metadata": {},
   "source": [
    "# Vectorstore 유사도 검색"
   ]
  },
  {
   "cell_type": "code",
   "execution_count": 41,
   "id": "e86e50ac276f7496",
   "metadata": {
    "ExecuteTime": {
     "end_time": "2025-01-04T01:41:19.846034Z",
     "start_time": "2025-01-04T01:41:17.991659Z"
    }
   },
   "outputs": [
    {
     "name": "stdout",
     "output_type": "stream",
     "text": [
      "* [SIM=0.444422] : 0\n",
      "Question: Q[배송일정] 주문한 상품은 언제 배송되나요?\n",
      "Answer: 배송 예정일은 마이쿠팡을 통해 직접 확인할 수 있습니다.\n",
      " 배송현황 확인하기\n",
      "마이쿠팡 → 주문목록 → 상품선택 → 배송조회\n",
      " 배송조회 후 상단 ‘자세히 보기’를 클릭하면 시간대 별 배송현황을 확인할 수 있습니다. 배송 메시지는 모바일앱 홈 오른쪽 상단 알림센터에서도 확인이 가능합니다.\n",
      " 배송 예정일은 판매자 및 배송지에 따라 차이가 있으며 도서산간 지역 등은 3~5일 더 소요될 수 있습니다. 악천후 천재지변 물량 수급 변동 명절 연휴 등 예외적인 사유가 발생하면 다소 지연될 수 있는 점 양해 부탁드립니다.\n",
      "keywords: DELIVERY\n",
      "count: 0 [{'row': 0.0, 'source': '../data/DELIVERY_main_qna_list.csv'}]\n",
      "* [SIM=0.443987] : 0\n",
      "Question: Q[배송일정] 주문한 상품은 언제 배송되나요?\n",
      "Answer: 배송 예정일은 마이쿠팡을 통해 직접 확인할 수 있습니다.\n",
      " 배송현황 확인하기\n",
      "마이쿠팡 → 주문목록 → 상품선택 → 배송조회\n",
      " 배송조회 후 상단 ‘자세히 보기’를 클릭하면 시간대 별 배송현황을 확인할 수 있습니다. 배송 메시지는 모바일앱 홈 오른쪽 상단 알림센터에서도 확인이 가능합니다.\n",
      " 배송 예정일은 판매자 및 배송지에 따라 차이가 있으며 도서산간 지역 등은 3~5일 더 소요될 수 있습니다. 악천후 천재지변 물량 수급 변동 명절 연휴 등 예외적인 사유가 발생하면 다소 지연될 수 있는 점 양해 부탁드립니다.\n",
      "keywords: DELIVERY\n",
      "count: 0 [{'row': 0.0, 'source': '../data/DELIVERY_main_qna_list.csv'}]\n",
      "* [SIM=0.443929] : 0\n",
      "Question: Q[배송일정] 주문한 상품은 언제 배송되나요?\n",
      "Answer: 배송 예정일은 마이쿠팡을 통해 직접 확인할 수 있습니다.\n",
      " 배송현황 확인하기\n",
      "마이쿠팡 → 주문목록 → 상품선택 → 배송조회\n",
      " 배송조회 후 상단 ‘자세히 보기’를 클릭하면 시간대 별 배송현황을 확인할 수 있습니다. 배송 메시지는 모바일앱 홈 오른쪽 상단 알림센터에서도 확인이 가능합니다.\n",
      " 배송 예정일은 판매자 및 배송지에 따라 차이가 있으며 도서산간 지역 등은 3~5일 더 소요될 수 있습니다. 악천후 천재지변 물량 수급 변동 명절 연휴 등 예외적인 사유가 발생하면 다소 지연될 수 있는 점 양해 부탁드립니다.\n",
      "keywords: DELIVERY\n",
      "count: 0 [{'row': 0.0, 'source': '../data/DELIVERY_main_qna_list.csv'}]\n"
     ]
    }
   ],
   "source": [
    "query = ('배송은 언제 오나요?')\n",
    "\n",
    "results = database.similarity_search_with_score(query=query, k=3)\n",
    "for doc, score in results:\n",
    "    print(f\"* [SIM={score:3f}] {doc.page_content} [{doc.metadata}]\")\n",
    "    "
   ]
  },
  {
   "cell_type": "markdown",
   "id": "f9e6e31fe66017cf",
   "metadata": {},
   "source": [
    "# LLM 질의 테스트"
   ]
  },
  {
   "cell_type": "code",
   "execution_count": 117,
   "id": "35eeee402a11d206",
   "metadata": {
    "ExecuteTime": {
     "end_time": "2025-01-04T01:50:56.945106Z",
     "start_time": "2025-01-04T01:50:51.756239Z"
    }
   },
   "outputs": [
    {
     "name": "stdout",
     "output_type": "stream",
     "text": [
      "[(Document(id='1704501d-88ff-4e02-9f07-754585ac86e6', metadata={'row': 5.0, 'source': '../data/DELIVERY_main_qna_list.csv'}, page_content=': 5\\nQuestion: Q[상품파손] 배송 받은 상품이 파손되었어요.\\nAnswer: 상품이 파손되어 배송된 경우 정해진 기간 내에 교환 및 반품이 가능합니다. 마이쿠팡을 통해 교환 및 반품을 직접 신청해 주시거나 신청이 불가한 경우 고객센터로 연락 주시기 바랍니다. \\r\\n 교환/반품하기\\r\\n마이쿠팡 → 주문목록 → 상품선택 → [교환 반품신청] 클릭\\r\\n이후 각 단계에 해당하는 항목을 선택하여 신청을 완료합니다.\\r\\n 교환/반품 안내사항 (클릭)\\r\\n 파손에 의한 교환/반품 가능 기간 (클릭)\\nkeywords: DELIVERY\\ncount: 0'),\n",
      "  0.413518697),\n",
      " (Document(id='87f00cdd-648d-4c06-9466-d0b64a6ca3ca', metadata={'row': 5.0, 'source': '../data/DELIVERY_main_qna_list.csv'}, page_content=': 5\\nQuestion: Q[상품파손] 배송 받은 상품이 파손되었어요.\\nAnswer: 상품이 파손되어 배송된 경우 정해진 기간 내에 교환 및 반품이 가능합니다. 마이쿠팡을 통해 교환 및 반품을 직접 신청해 주시거나 신청이 불가한 경우 고객센터로 연락 주시기 바랍니다. \\r\\n 교환/반품하기\\r\\n마이쿠팡 → 주문목록 → 상품선택 → [교환 반품신청] 클릭\\r\\n이후 각 단계에 해당하는 항목을 선택하여 신청을 완료합니다.\\r\\n 교환/반품 안내사항 (클릭)\\r\\n 파손에 의한 교환/반품 가능 기간 (클릭)\\nkeywords: DELIVERY\\ncount: 0'),\n",
      "  0.413478225),\n",
      " (Document(id='73a2e7f5-fd11-4aff-b8ac-ee979ebf7ff0', metadata={'row': 5.0, 'source': '../data/DELIVERY_main_qna_list.csv'}, page_content=': 5\\nQuestion: Q[상품파손] 배송 받은 상품이 파손되었어요.\\nAnswer: 상품이 파손되어 배송된 경우 정해진 기간 내에 교환 및 반품이 가능합니다. 마이쿠팡을 통해 교환 및 반품을 직접 신청해 주시거나 신청이 불가한 경우 고객센터로 연락 주시기 바랍니다. \\r\\n 교환/반품하기\\r\\n마이쿠팡 → 주문목록 → 상품선택 → [교환 반품신청] 클릭\\r\\n이후 각 단계에 해당하는 항목을 선택하여 신청을 완료합니다.\\r\\n 교환/반품 안내사항 (클릭)\\r\\n 파손에 의한 교환/반품 가능 기간 (클릭)\\nkeywords: DELIVERY\\ncount: 0'),\n",
      "  0.413431227)]\n",
      "\n",
      "배송 중 달걀이 깨졌어요. 다른 상품까지 오염되었어요.\n",
      "Answer : 달걀 파손으로 인해 다른 상품까지 오염되어 불편을 드린 점 진심으로 죄송합니다.\n",
      " 마이쿠팡 앱에 접속하셔서 주문 목록에서 해당 상품을 선택 후 '교환/반품 신청'을 해주시면 됩니다.\n",
      " 파손된 달걀과 오염된 상품의 사진을 함께 첨부해주시면 처리가 더욱 원활하게 진행될 수 있습니다.\n",
      "\n",
      ".\n"
     ]
    }
   ],
   "source": [
    "from langchain.prompts import ChatPromptTemplate\n",
    "from langchain_google_genai import ChatGoogleGenerativeAI\n",
    "from langchain_core.output_parsers import StrOutputParser\n",
    "from langchain_core.runnables import RunnablePassthrough\n",
    "\n",
    "\n",
    "retriever = database.as_retriever(\n",
    "    search_type=\"mmr\", search_kwargs={\"k\": 3, \"fetch_k\": 5}\n",
    ")\n",
    "\n",
    "template = \"\"\"\n",
    "[context]: {context}\n",
    "---\n",
    "[질의]: {query}\n",
    "\n",
    "위의 [context] 정보 내에서 [query]에 대해 상담사 입장에서 사용자가 만족할 수 있을 정도로 성의있게 답하세요.\n",
    "단, [context] 정보에 없는 내용을 답해서는 안됩니다. 최대한 문장을 쉼표로 끊어서 대답하기 보다는, 온점으로 문장을 끊어주세요.\n",
    "이 모든 정보를 종합해서 2~3줄의 구어체로 답해주세요.\n",
    "\n",
    "만일 판매자의 귀책사유일 경우 혹은 고객을 기다리게 했다면 \"불편을 드려 대단히 죄송합니다\" 와 같이 사용자의 입장에 공감해서 답하세요.\n",
    "모든 답변은 최대한 고객의 입장을 고려해서 대답해주세요.\n",
    "고객에게 불편을 드린 경우에는 가장 먼저 죄송하다는 사과의 말씀을 전해야 해요. 사과가 우선입니다.\n",
    "예를 들어 배송 중 달걀 파손이 된 경우에는 \"달걀 파손으로 인해 불편을 드려 정말 죄송합니다.\" 와 같이 해당 사항과 그로 인한 사과의 말씀을 전해야해요.\n",
    "\n",
    "답변에 고객센터로 연락을 주라는 내용이 있으면 안돼요.\n",
    "최대한 고객을 도와주기 위해 노력하고 있다는 느낌이 들어야해요.\n",
    "응답 과정에서 필요한 정보들은 고객에게 물어봐야 해요. \n",
    "만일 확인이 필요한 답변이라면, 필요한 정보에 대해 고객님에게 물어봐주세요.\n",
    "마이쿠팡 앱에서 고객이 직접 해결하기 어려운 상황이라면 상담원이 최대한 해결해주려고 노력해야해요.\n",
    "고객님께 정보 요청을 드려서, 해당 정보를 주신 상황이라면 \"정보 확인 감사합니다\" 와 같은 답변을 해야해요.\n",
    "\"아직 반품 처리가 안 된 거군요.\" 와 같은 말보다는 \"아직 반품 처리가 안 된것으로 확인됩니다 고객님\" 과 같은 말로 응대해야해요.\n",
    "고객의 상담 의도를 제대로 파악해야 해. 고객 니즈를 파악해야해요.\n",
    "문장의 가독성과 흐름이 명료해야 해요.\n",
    "고객의 요청사항에 도움이 되도록 답안을 해야 해요.\n",
    "\"반품을 요청했는데 아직 처리되지 않았어요.\" 와 같이 아직 진행상황을 모르는 경우에는 먼저 고객에게 필수 정보를 확인하고 대안을 제시해야해요.\n",
    "상담사들이 읽고 바로 고객에게 말할 수 있을 정도로 답안의 완성도가 높아야 해요.\n",
    "고객에게 사과가 필요한 경우에는, 답변에서 가장 우선적으로 불편을 드려 죄송하다는 내용이 들어가야 해요. 예를 들어 \"물품 파손으로 인해 파손을 드린 점 진심으로 죄송합니다\"가 있어요.\n",
    "\"배송 중 상품이 파손되었다는 말씀, 정말 안타깝게 생각합니다.\" 와 같이 딱딱한 문장보다는 \"배송 중 상품 파손으로 인해 불편을 드려 대단히 죄송합니다 고객님\"과 같은 말이어야 해요.\n",
    "문장은 예의있어야 해. 따라서 \"습니다\"체의 비중을 더 많이 섞어서 사용해줘요.\n",
    "사진이 필요한 경우에는, 바로 확인이 불가피하기 때문에 쿠팡의 메뉴얼에 따라 하도록 고객님께 부탁드려야 해요.\n",
    "\"정말 안타깝습니다\" 보다는 \"정말 죄송합니다\"로 작성해야 해요.\n",
    "\n",
    "\"\"\"\n",
    "prompt = ChatPromptTemplate.from_template(template)\n",
    "\n",
    "llm = ChatGoogleGenerativeAI(model=\"gemini-1.5-flash\", temperature=0)\n",
    "\n",
    "def merge_pages(pages):\n",
    "    merged = \"\\n\\n\".join(page.page_content for page in pages)\n",
    "    return merged\n",
    "\n",
    "chain = (\n",
    "    {\"query\": RunnablePassthrough(), \"context\": retriever | merge_pages}\n",
    "    | prompt\n",
    "    | llm\n",
    "    | StrOutputParser()\n",
    ")\n",
    "\n",
    "\n",
    "query = '배송 중 달걀이 깨졌어요. 다른 상품까지 오염되었어요.'\n",
    "results = database.similarity_search_with_score(query=query, k=3)\n",
    "pprint(results)\n",
    "    \n",
    "print()    \n",
    "answer = chain.invoke(query).replace('  ', ' ').split('.')\n",
    "print(query)\n",
    "print(\"Answer : \", end='')\n",
    "for ans in answer:\n",
    "    print(ans + '.')\n",
    "    "
   ]
  },
  {
   "cell_type": "code",
   "execution_count": null,
   "id": "a85500367870cbbe",
   "metadata": {},
   "outputs": [],
   "source": []
  }
 ],
 "metadata": {
  "kernelspec": {
   "display_name": "llm-env",
   "language": "python",
   "name": "python3"
  },
  "language_info": {
   "codemirror_mode": {
    "name": "ipython",
    "version": 3
   },
   "file_extension": ".py",
   "mimetype": "text/x-python",
   "name": "python",
   "nbconvert_exporter": "python",
   "pygments_lexer": "ipython3",
   "version": "3.10.0"
  }
 },
 "nbformat": 4,
 "nbformat_minor": 5
}
