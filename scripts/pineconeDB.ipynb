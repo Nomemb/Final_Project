{
 "cells": [
  {
   "cell_type": "code",
   "id": "initial_id",
   "metadata": {
    "collapsed": true,
    "ExecuteTime": {
     "end_time": "2025-01-04T06:31:59.018855Z",
     "start_time": "2025-01-04T06:31:56.103248Z"
    }
   },
   "source": [
    "import pandas as pd\n",
    "%pip install langchain langchain-core langchain-community langchain-text-splitters langchain-openai langchain-pinecone docx2txt"
   ],
   "outputs": [
    {
     "name": "stdout",
     "output_type": "stream",
     "text": [
      "Requirement already satisfied: langchain in c:\\users\\admin\\anaconda3\\envs\\chroma_db_test\\lib\\site-packages (0.3.13)\n",
      "Requirement already satisfied: langchain-core in c:\\users\\admin\\anaconda3\\envs\\chroma_db_test\\lib\\site-packages (0.3.28)\n",
      "Requirement already satisfied: langchain-community in c:\\users\\admin\\anaconda3\\envs\\chroma_db_test\\lib\\site-packages (0.3.13)\n",
      "Requirement already satisfied: langchain-text-splitters in c:\\users\\admin\\anaconda3\\envs\\chroma_db_test\\lib\\site-packages (0.3.4)\n",
      "Requirement already satisfied: langchain-openai in c:\\users\\admin\\anaconda3\\envs\\chroma_db_test\\lib\\site-packages (0.2.14)\n",
      "Requirement already satisfied: langchain-pinecone in c:\\users\\admin\\anaconda3\\envs\\chroma_db_test\\lib\\site-packages (0.2.0)\n",
      "Collecting docx2txt\n",
      "  Using cached docx2txt-0.8-py3-none-any.whl\n",
      "Requirement already satisfied: PyYAML>=5.3 in c:\\users\\admin\\anaconda3\\envs\\chroma_db_test\\lib\\site-packages (from langchain) (6.0.2)\n",
      "Requirement already satisfied: SQLAlchemy<3,>=1.4 in c:\\users\\admin\\anaconda3\\envs\\chroma_db_test\\lib\\site-packages (from langchain) (2.0.36)\n",
      "Requirement already satisfied: aiohttp<4.0.0,>=3.8.3 in c:\\users\\admin\\anaconda3\\envs\\chroma_db_test\\lib\\site-packages (from langchain) (3.9.5)\n",
      "Requirement already satisfied: async-timeout<5.0.0,>=4.0.0 in c:\\users\\admin\\anaconda3\\envs\\chroma_db_test\\lib\\site-packages (from langchain) (4.0.3)\n",
      "Requirement already satisfied: langsmith<0.3,>=0.1.17 in c:\\users\\admin\\anaconda3\\envs\\chroma_db_test\\lib\\site-packages (from langchain) (0.2.4)\n",
      "Requirement already satisfied: numpy<2,>=1.22.4 in c:\\users\\admin\\anaconda3\\envs\\chroma_db_test\\lib\\site-packages (from langchain) (1.26.4)\n",
      "Requirement already satisfied: pydantic<3.0.0,>=2.7.4 in c:\\users\\admin\\anaconda3\\envs\\chroma_db_test\\lib\\site-packages (from langchain) (2.9.2)\n",
      "Requirement already satisfied: requests<3,>=2 in c:\\users\\admin\\anaconda3\\envs\\chroma_db_test\\lib\\site-packages (from langchain) (2.32.3)\n",
      "Requirement already satisfied: tenacity!=8.4.0,<10,>=8.1.0 in c:\\users\\admin\\anaconda3\\envs\\chroma_db_test\\lib\\site-packages (from langchain) (8.5.0)\n",
      "Requirement already satisfied: jsonpatch<2.0,>=1.33 in c:\\users\\admin\\anaconda3\\envs\\chroma_db_test\\lib\\site-packages (from langchain-core) (1.33)\n",
      "Requirement already satisfied: packaging<25,>=23.2 in c:\\users\\admin\\anaconda3\\envs\\chroma_db_test\\lib\\site-packages (from langchain-core) (24.2)\n",
      "Requirement already satisfied: typing-extensions>=4.7 in c:\\users\\admin\\anaconda3\\envs\\chroma_db_test\\lib\\site-packages (from langchain-core) (4.12.2)\n",
      "Requirement already satisfied: dataclasses-json<0.7,>=0.5.7 in c:\\users\\admin\\anaconda3\\envs\\chroma_db_test\\lib\\site-packages (from langchain-community) (0.6.7)\n",
      "Requirement already satisfied: httpx-sse<0.5.0,>=0.4.0 in c:\\users\\admin\\anaconda3\\envs\\chroma_db_test\\lib\\site-packages (from langchain-community) (0.4.0)\n",
      "Requirement already satisfied: pydantic-settings<3.0.0,>=2.4.0 in c:\\users\\admin\\anaconda3\\envs\\chroma_db_test\\lib\\site-packages (from langchain-community) (2.7.0)\n",
      "Requirement already satisfied: openai<2.0.0,>=1.58.1 in c:\\users\\admin\\anaconda3\\envs\\chroma_db_test\\lib\\site-packages (from langchain-openai) (1.58.1)\n",
      "Requirement already satisfied: tiktoken<1,>=0.7 in c:\\users\\admin\\anaconda3\\envs\\chroma_db_test\\lib\\site-packages (from langchain-openai) (0.8.0)\n",
      "Requirement already satisfied: pinecone-client<6.0.0,>=5.0.0 in c:\\users\\admin\\anaconda3\\envs\\chroma_db_test\\lib\\site-packages (from langchain-pinecone) (5.0.1)\n",
      "Requirement already satisfied: aiosignal>=1.1.2 in c:\\users\\admin\\anaconda3\\envs\\chroma_db_test\\lib\\site-packages (from aiohttp<4.0.0,>=3.8.3->langchain) (1.3.2)\n",
      "Requirement already satisfied: attrs>=17.3.0 in c:\\users\\admin\\anaconda3\\envs\\chroma_db_test\\lib\\site-packages (from aiohttp<4.0.0,>=3.8.3->langchain) (24.3.0)\n",
      "Requirement already satisfied: frozenlist>=1.1.1 in c:\\users\\admin\\anaconda3\\envs\\chroma_db_test\\lib\\site-packages (from aiohttp<4.0.0,>=3.8.3->langchain) (1.5.0)\n",
      "Requirement already satisfied: multidict<7.0,>=4.5 in c:\\users\\admin\\anaconda3\\envs\\chroma_db_test\\lib\\site-packages (from aiohttp<4.0.0,>=3.8.3->langchain) (6.1.0)\n",
      "Requirement already satisfied: yarl<2.0,>=1.0 in c:\\users\\admin\\anaconda3\\envs\\chroma_db_test\\lib\\site-packages (from aiohttp<4.0.0,>=3.8.3->langchain) (1.18.3)\n",
      "Requirement already satisfied: marshmallow<4.0.0,>=3.18.0 in c:\\users\\admin\\anaconda3\\envs\\chroma_db_test\\lib\\site-packages (from dataclasses-json<0.7,>=0.5.7->langchain-community) (3.23.2)\n",
      "Requirement already satisfied: typing-inspect<1,>=0.4.0 in c:\\users\\admin\\anaconda3\\envs\\chroma_db_test\\lib\\site-packages (from dataclasses-json<0.7,>=0.5.7->langchain-community) (0.9.0)\n",
      "Requirement already satisfied: jsonpointer>=1.9 in c:\\users\\admin\\anaconda3\\envs\\chroma_db_test\\lib\\site-packages (from jsonpatch<2.0,>=1.33->langchain-core) (3.0.0)\n",
      "Requirement already satisfied: httpx<1,>=0.23.0 in c:\\users\\admin\\anaconda3\\envs\\chroma_db_test\\lib\\site-packages (from langsmith<0.3,>=0.1.17->langchain) (0.27.0)\n",
      "Requirement already satisfied: orjson<4.0.0,>=3.9.14 in c:\\users\\admin\\anaconda3\\envs\\chroma_db_test\\lib\\site-packages (from langsmith<0.3,>=0.1.17->langchain) (3.10.12)\n",
      "Requirement already satisfied: requests-toolbelt<2.0.0,>=1.0.0 in c:\\users\\admin\\anaconda3\\envs\\chroma_db_test\\lib\\site-packages (from langsmith<0.3,>=0.1.17->langchain) (1.0.0)\n",
      "Requirement already satisfied: anyio<5,>=3.5.0 in c:\\users\\admin\\anaconda3\\envs\\chroma_db_test\\lib\\site-packages (from openai<2.0.0,>=1.58.1->langchain-openai) (4.7.0)\n",
      "Requirement already satisfied: distro<2,>=1.7.0 in c:\\users\\admin\\anaconda3\\envs\\chroma_db_test\\lib\\site-packages (from openai<2.0.0,>=1.58.1->langchain-openai) (1.9.0)\n",
      "Requirement already satisfied: jiter<1,>=0.4.0 in c:\\users\\admin\\anaconda3\\envs\\chroma_db_test\\lib\\site-packages (from openai<2.0.0,>=1.58.1->langchain-openai) (0.8.2)\n",
      "Requirement already satisfied: sniffio in c:\\users\\admin\\anaconda3\\envs\\chroma_db_test\\lib\\site-packages (from openai<2.0.0,>=1.58.1->langchain-openai) (1.3.1)\n",
      "Requirement already satisfied: tqdm>4 in c:\\users\\admin\\anaconda3\\envs\\chroma_db_test\\lib\\site-packages (from openai<2.0.0,>=1.58.1->langchain-openai) (4.67.1)\n",
      "Requirement already satisfied: certifi>=2019.11.17 in c:\\users\\admin\\anaconda3\\envs\\chroma_db_test\\lib\\site-packages (from pinecone-client<6.0.0,>=5.0.0->langchain-pinecone) (2024.12.14)\n",
      "Collecting pinecone-plugin-inference<2.0.0,>=1.0.3 (from pinecone-client<6.0.0,>=5.0.0->langchain-pinecone)\n",
      "  Using cached pinecone_plugin_inference-1.1.0-py3-none-any.whl.metadata (2.2 kB)\n",
      "Requirement already satisfied: pinecone-plugin-interface<0.0.8,>=0.0.7 in c:\\users\\admin\\anaconda3\\envs\\chroma_db_test\\lib\\site-packages (from pinecone-client<6.0.0,>=5.0.0->langchain-pinecone) (0.0.7)\n",
      "Requirement already satisfied: urllib3>=1.26.0 in c:\\users\\admin\\anaconda3\\envs\\chroma_db_test\\lib\\site-packages (from pinecone-client<6.0.0,>=5.0.0->langchain-pinecone) (2.2.3)\n",
      "Requirement already satisfied: annotated-types>=0.6.0 in c:\\users\\admin\\anaconda3\\envs\\chroma_db_test\\lib\\site-packages (from pydantic<3.0.0,>=2.7.4->langchain) (0.7.0)\n",
      "Requirement already satisfied: pydantic-core==2.23.4 in c:\\users\\admin\\anaconda3\\envs\\chroma_db_test\\lib\\site-packages (from pydantic<3.0.0,>=2.7.4->langchain) (2.23.4)\n",
      "Requirement already satisfied: python-dotenv>=0.21.0 in c:\\users\\admin\\anaconda3\\envs\\chroma_db_test\\lib\\site-packages (from pydantic-settings<3.0.0,>=2.4.0->langchain-community) (1.0.1)\n",
      "Requirement already satisfied: charset-normalizer<4,>=2 in c:\\users\\admin\\anaconda3\\envs\\chroma_db_test\\lib\\site-packages (from requests<3,>=2->langchain) (3.4.0)\n",
      "Requirement already satisfied: idna<4,>=2.5 in c:\\users\\admin\\anaconda3\\envs\\chroma_db_test\\lib\\site-packages (from requests<3,>=2->langchain) (3.10)\n",
      "Requirement already satisfied: greenlet!=0.4.17 in c:\\users\\admin\\anaconda3\\envs\\chroma_db_test\\lib\\site-packages (from SQLAlchemy<3,>=1.4->langchain) (3.1.1)\n",
      "Requirement already satisfied: regex>=2022.1.18 in c:\\users\\admin\\anaconda3\\envs\\chroma_db_test\\lib\\site-packages (from tiktoken<1,>=0.7->langchain-openai) (2024.11.6)\n",
      "Requirement already satisfied: exceptiongroup>=1.0.2 in c:\\users\\admin\\anaconda3\\envs\\chroma_db_test\\lib\\site-packages (from anyio<5,>=3.5.0->openai<2.0.0,>=1.58.1->langchain-openai) (1.2.2)\n",
      "Requirement already satisfied: httpcore==1.* in c:\\users\\admin\\anaconda3\\envs\\chroma_db_test\\lib\\site-packages (from httpx<1,>=0.23.0->langsmith<0.3,>=0.1.17->langchain) (1.0.7)\n",
      "Requirement already satisfied: h11<0.15,>=0.13 in c:\\users\\admin\\anaconda3\\envs\\chroma_db_test\\lib\\site-packages (from httpcore==1.*->httpx<1,>=0.23.0->langsmith<0.3,>=0.1.17->langchain) (0.14.0)\n",
      "Requirement already satisfied: colorama in c:\\users\\admin\\anaconda3\\envs\\chroma_db_test\\lib\\site-packages (from tqdm>4->openai<2.0.0,>=1.58.1->langchain-openai) (0.4.6)\n",
      "Requirement already satisfied: mypy-extensions>=0.3.0 in c:\\users\\admin\\anaconda3\\envs\\chroma_db_test\\lib\\site-packages (from typing-inspect<1,>=0.4.0->dataclasses-json<0.7,>=0.5.7->langchain-community) (1.0.0)\n",
      "Requirement already satisfied: propcache>=0.2.0 in c:\\users\\admin\\anaconda3\\envs\\chroma_db_test\\lib\\site-packages (from yarl<2.0,>=1.0->aiohttp<4.0.0,>=3.8.3->langchain) (0.2.1)\n",
      "Using cached pinecone_plugin_inference-1.1.0-py3-none-any.whl (85 kB)\n",
      "Installing collected packages: docx2txt, pinecone-plugin-inference\n",
      "  Attempting uninstall: pinecone-plugin-inference\n",
      "    Found existing installation: pinecone-plugin-inference 3.1.0\n",
      "    Uninstalling pinecone-plugin-inference-3.1.0:\n",
      "      Successfully uninstalled pinecone-plugin-inference-3.1.0\n",
      "Successfully installed docx2txt-0.8 pinecone-plugin-inference-1.1.0\n",
      "Note: you may need to restart the kernel to use updated packages.\n"
     ]
    },
    {
     "name": "stderr",
     "output_type": "stream",
     "text": [
      "ERROR: pip's dependency resolver does not currently take into account all the packages that are installed. This behaviour is the source of the following dependency conflicts.\n",
      "pinecone 5.4.2 requires pinecone-plugin-inference<4.0.0,>=2.0.0, but you have pinecone-plugin-inference 1.1.0 which is incompatible.\n"
     ]
    }
   ],
   "execution_count": 1
  },
  {
   "metadata": {
    "ExecuteTime": {
     "end_time": "2025-01-07T00:43:49.508748Z",
     "start_time": "2025-01-07T00:43:47.719980Z"
    }
   },
   "cell_type": "code",
   "source": [
    "import os\n",
    "from langchain_upstage import UpstageEmbeddings\n",
    "from langchain_text_splitters import RecursiveCharacterTextSplitter\n",
    "from langchain_community.document_loaders.csv_loader import CSVLoader\n",
    "from dotenv import load_dotenv\n",
    "from pprint import pprint\n",
    "\n",
    "load_dotenv()\n",
    "\n",
    "GPT_API_KEY = os.environ[\"GPT_API_KEY\"]\n",
    "PINECONE_API_KEY = os.environ[\"PINECONE_API_KEY\"]\n",
    "UPSTAGE_API_KEY = os.environ[\"UPSTAGE_API_KEY\"]\n",
    "\n",
    "text_splitter = RecursiveCharacterTextSplitter(\n",
    "    chunk_size=1500,\n",
    "    chunk_overlap=200,\n",
    ")"
   ],
   "id": "10da07f7226e7b6",
   "outputs": [],
   "execution_count": 1
  },
  {
   "metadata": {
    "ExecuteTime": {
     "end_time": "2025-01-06T06:19:08.079367Z",
     "start_time": "2025-01-06T06:19:08.064959Z"
    }
   },
   "cell_type": "code",
   "source": "folder_path = '../data'",
   "id": "c493976160090709",
   "outputs": [],
   "execution_count": 10
  },
  {
   "metadata": {
    "ExecuteTime": {
     "end_time": "2025-01-04T06:42:14.783092Z",
     "start_time": "2025-01-04T06:42:14.757620Z"
    }
   },
   "cell_type": "code",
   "source": [
    "document_list = []\n",
    "\n",
    "for file in os.listdir(folder_path):\n",
    "    print(file)\n",
    "    temp_loader = CSVLoader(file_path=f\"{folder_path}/{file}\", encoding='utf-8-sig')\n",
    "    temp_document_list = temp_loader.load_and_split(text_splitter=text_splitter)\n",
    "    \n",
    "    document_list.extend(temp_document_list)\n",
    "\n",
    "print(len(document_list))"
   ],
   "id": "86175e1843b29943",
   "outputs": [
    {
     "name": "stdout",
     "output_type": "stream",
     "text": [
      "CANCEL_main_qna_list.csv\n",
      "DELIVERY_main_qna_list.csv\n",
      "ORDER_main_qna_list.csv\n",
      "REFUND_main_qna_list.csv\n",
      "SUB_qna_list.csv\n",
      "309\n"
     ]
    }
   ],
   "execution_count": 21
  },
  {
   "metadata": {
    "ExecuteTime": {
     "end_time": "2025-01-07T00:43:49.908330Z",
     "start_time": "2025-01-07T00:43:49.508748Z"
    }
   },
   "cell_type": "code",
   "source": [
    "# Upstage 에서 제공하는 Embedding Model을 활용\n",
    "embedding = UpstageEmbeddings(model=\"solar-embedding-1-large\",\n",
    "                              api_key=UPSTAGE_API_KEY)"
   ],
   "id": "7719061b6dab8d39",
   "outputs": [],
   "execution_count": 2
  },
  {
   "metadata": {
    "ExecuteTime": {
     "end_time": "2025-01-07T00:43:50.289142Z",
     "start_time": "2025-01-07T00:43:49.908330Z"
    }
   },
   "cell_type": "code",
   "source": [
    "from langchain_pinecone import PineconeVectorStore\n",
    "\n",
    "\n",
    "index_name = 'upstage-index'"
   ],
   "id": "5888d34b4e41a2d8",
   "outputs": [],
   "execution_count": 3
  },
  {
   "metadata": {
    "ExecuteTime": {
     "end_time": "2025-01-04T06:43:07.085294Z",
     "start_time": "2025-01-04T06:42:20.799952Z"
    }
   },
   "cell_type": "code",
   "source": [
    "# DB 처음 만들 때\n",
    "database = PineconeVectorStore.from_documents(document_list, embedding, index_name=index_name)\n"
   ],
   "id": "23399523e40f7306",
   "outputs": [],
   "execution_count": 24
  },
  {
   "metadata": {
    "ExecuteTime": {
     "end_time": "2025-01-07T00:43:52.727967Z",
     "start_time": "2025-01-07T00:43:50.289142Z"
    }
   },
   "cell_type": "code",
   "source": [
    "# 만들어 놓은 DB가 있을 때\n",
    "database = PineconeVectorStore.from_existing_index(index_name=index_name, embedding=embedding)"
   ],
   "id": "3e740ffcf8368014",
   "outputs": [],
   "execution_count": 4
  },
  {
   "metadata": {},
   "cell_type": "markdown",
   "source": "# Vectorstore 유사도 검색",
   "id": "41e7d72561431bf2"
  },
  {
   "metadata": {
    "ExecuteTime": {
     "end_time": "2025-01-06T06:20:39.357924Z",
     "start_time": "2025-01-06T06:20:35.772445Z"
    }
   },
   "cell_type": "code",
   "source": [
    "query = '결제 후 주문 취소가 가능한가요?'\n",
    "\n",
    "results = database.similarity_search_with_score(query=query, k=3)\n",
    "for doc, score in results:\n",
    "    print(f\"* [SIM={score:3f}] {doc.page_content} [{doc.metadata}]\")\n",
    "    "
   ],
   "id": "e86e50ac276f7496",
   "outputs": [
    {
     "name": "stdout",
     "output_type": "stream",
     "text": [
      "* [SIM=0.498854] : 8\n",
      "Question: Q[결제수단] 이미 주문했는데 결제 수단을 변경할 수 있나요?\n",
      "Answer: 아니요. 상품을 주문/결제한 후에는 결제 수단 변경이 불가합니다. 상품이 아직 배송 전이라면 주문목록에서 주문을 취소한 후 원하는 결제 수단으로 다시 주문/결제해 주시기 바랍니다. 상품이 이미 배송을 시작했다면 배송 완료 후 반품을 접수해 주시기 바랍니다. 단 상품 배송 이후 단순 변심으로 반품할 경우 왕복 배송비가 부과될 수 있습니다.\n",
      " 주문 취소하기\n",
      "마이쿠팡 → 주문목록 → 상품선택 → [주문취소] \n",
      "이후 각 단계에 해당하는 항목을 선택하여 취소를 완료합니다.\n",
      " 쿠페이 결제수단 관리하기\n",
      "마이쿠팡 → 결제수단∙쿠페이 → [결제수단 관리] \n",
      "이후 원하는 결제수단을 등록 및 삭제합니다.\n",
      " 단순 변심 반품 비용 (클릭)\n",
      "keywords: ORDER\n",
      "count: 0 [{'row': 8.0, 'source': '../data/ORDER_main_qna_list.csv'}]\n",
      "* [SIM=0.498341] : 9\n",
      "Question: Q[취소 철회] 주문취소 신청을 철회(취소)하고 싶어요.\n",
      "Answer: 배송 상품은 주문을 취소하면 바로 결제 취소가 적용되어 이후 주문취소를 철회(취소) 할 수 없습니다. 이미 주문취소를 하셨다면 재구매를 부탁드립니다.\n",
      "keywords: CANCEL\n",
      "count: 0 [{'row': 9.0, 'source': '../data/CANCEL_main_qna_list.csv'}]\n",
      "* [SIM=0.484310] : 44\n",
      "Question: Q[취소] 신용카드로 결제한 주문을 취소했는데 카드대금이 청구되었습니다.\n",
      "Answer: 신용카드로 결제한 주문을 취소하면 신용카드 승인 취소도 자동으로 진행됩니다. 그런데 만약 취소한 주문에 대해 카드대금 청구를 받으셨다면 이는 주문이 취소되기 전에 카드사에서 이미 청구서를 작성했기 때문입니다. 이 경우 청구된 카드대금이 취소되기까지는 특정 시간이 소요되며 이는 각 카드사마다 다릅니다. 매입된 카드 승인의 취소는 카드사와 결제대행사의 확인 절차를 거치는 관계로 보통 주문취소 후 평일 기준 3~7일 정도가 소요됩니다. (주말 및 공휴일 제외) 보다 자세한 환불 방법과 환불 일자를 확인하고 싶으시다면 해당 카드사로 직접 문의해 주시기 바랍니다.\n",
      "keywords: CANCEL\n",
      "count: 0 [{'row': 44.0, 'source': '../data/CANCEL_main_qna_list.csv'}]\n"
     ]
    }
   ],
   "execution_count": 17
  },
  {
   "metadata": {},
   "cell_type": "markdown",
   "source": "# LLM 질의 테스트",
   "id": "f9e6e31fe66017cf"
  },
  {
   "metadata": {
    "ExecuteTime": {
     "end_time": "2025-01-07T02:37:44.614173Z",
     "start_time": "2025-01-07T02:37:38.478690Z"
    }
   },
   "cell_type": "code",
   "source": [
    "from langchain.prompts import ChatPromptTemplate\n",
    "from langchain_google_genai import ChatGoogleGenerativeAI\n",
    "from langchain_core.output_parsers import StrOutputParser\n",
    "from langchain_core.runnables import RunnablePassthrough\n",
    "\n",
    "retriever = database.as_retriever(\n",
    "    search_type=\"mmr\", search_kwargs={\"k\": 3, \"fetch_k\": 5}\n",
    ")\n",
    "\n",
    "template = \"\"\"\n",
    "[context]: {context}\n",
    "---\n",
    "[질의]: {query}\n",
    "\n",
    "7년 이상의 경력을 가진 상담사라고 생각하고, 위의 [context] 정보 내에서 [질의]에 대해 상담사 입장에서 사용자가 만족할 수 있을 정도로 성의있게 답해주세요.\n",
    "최대한 문장을 쉼표로 끊어서 대답하기 보다는 온점으로 문장을 끊어주세요. \n",
    "문장의 마무리는 '~요' 보다는 '~다'로 끝나는 쪽이 전문적으로 보입니다.\n",
    "\n",
    "또한, 상담사는 가능한 선에서 직접 확인+안내+해결을 도와주는 직원이므로 직접 확인 후 해결까지 돕는 방향으로 작성해 주세요.\n",
    "그리고, 사용자의 편의를 위해 서비스 특성 상 쿠션어를 사용하시면 좋습니다.\n",
    "쿠션어의 예시는 다음과 같습니다.\n",
    "예시)\n",
    "불편을 드려 죄송합니다.\n",
    "번거로우시겠지만~\n",
    "~하는 점 양해 부탁드립니다.\n",
    "~할 예정입니다.\n",
    "~를 부탁드립니다.\n",
    "\n",
    "위 사항들을 종합해서 2~3줄로 상담사가 활용하기 좋게 대본을 만들어 주세요.\n",
    "\n",
    "만약, 조건별로 안내 내용이 다른 경우\n",
    "1차 응대 (양해멘트 or 1차 안내 등) + 정보 확인 멘트로 대본을 구성하면 됩니다.\n",
    "정보 확인 멘트는 \"정확한 상담을 위해 주문하신 주문 번호 확인 부탁드립니다.\" 입니다.\n",
    "문서의 아래에 각 조건별 대응 방법을 기술해 주세요.\n",
    "\n",
    "단, 제일 중요한 것은 [context] 정보에 없는 내용을 답해서는 안됩니다. [context]에 정보가 없거나 문서들의 유사성이 0.2 이하로 떨어질 경우, \"문의주신 내용은 확인이 필요하여 지금 답변드리기 어려울 것 같습니다. 번거로우시겠지만 확인 후에 다시 연락드려도 괜찮을까요?\" 라고 답해주세요.\n",
    "\"\"\"\n",
    "\n",
    "prompt = ChatPromptTemplate.from_template(template)\n",
    "\n",
    "llm = ChatGoogleGenerativeAI(model=\"gemini-1.5-flash\", temperature=0)\n",
    "\n",
    "def merge_pages(pages):\n",
    "    merged = \"\".join(page.page_content for page in pages)\n",
    "    return merged\n",
    "\n",
    "chain = (\n",
    "    {\"query\": RunnablePassthrough(), \"context\": retriever | merge_pages}\n",
    "    | prompt\n",
    "    | llm\n",
    "    | StrOutputParser()\n",
    ")\n",
    "\n",
    "    "
   ],
   "id": "35eeee402a11d206",
   "outputs": [
    {
     "name": "stdout",
     "output_type": "stream",
     "text": [
      "[(Document(id='e238a1b7-8a4a-414a-a98c-bd78492cd51b', metadata={'row': 71.0, 'source': '../data/DELIVERY_main_qna_list.csv'}, page_content=': 71\\nQuestion: Q[상품분실] 택배사에서 상품을 분실했다는데 어떻게 해야 하나요?\\nAnswer: 택배사에서 분실한 상품에 대해서는 판매자 또는 택배사에 문의해 주시기 바랍니다. 분실한 상품의 재배송 및 환불은 판매자와 계약한 택배사의 확인 후 처리가 가능합니다.\\n 상품 유형별 판매자 문의처\\n• 로켓배송 로켓프레시 로켓모바일 로켓직구는 쿠팡 고객센터로 문의\\n• 판매자 배송 상품은 아래의 경로를 통해 해당 판매자에게 직접 문의\\n 판매자에 문의하기\\n• 마이쿠팡 → 주문목록 → 상품선택 → [‘판매자명’에 문의하기]\\n• 버튼 클릭 후 판매자 연락처 확인 및 문의 가능\\n 택배사에 문의하기\\n• 마이쿠팡 → 주문목록 → 상품선택 → [택배 배송기사에게 전화하기]\\n• 택배기사 연락처 확인 불가 시 배송조회 후 택배사로 문의 가능\\nkeywords: DELIVERY\\ncount: 0'),\n",
      "  0.493532956),\n",
      " (Document(id='e1b9146d-b5fd-4db5-9de2-75e44e18beaa', metadata={'row': 23.0, 'source': '../data/SUB_qna_list.csv'}, page_content='Question: 판매자 배송 상품을 받지 못한 경우\\nAnswer: 택배사에 문의하기\\n• 마이쿠팡 → 주문목록 → 상품선택 → [택배 배송기사에게 전화하기]\\n• 택배기사 연락처는 배송완료 직후까지만 확인할 수 있습니다.\\n 판매자에 문의하기\\n• 마이쿠팡 → 주문목록 → 상품선택 → [‘판매자명’에 문의하기]\\n• 상품 상세페이지 내 배송/교환/반품/판매자 안내에서 판매자 연락처 확인 가능\\nkeywords: SUB\\ncount: 0'),\n",
      "  0.391397089),\n",
      " (Document(id='897ce5a2-b8e0-44fa-a163-e5890f9f9d89', metadata={'row': 38.0, 'source': '../data/CANCEL_main_qna_list.csv'}, page_content=': 38\\nQuestion: Q[교환] 교환을 위해 상품을 반송했는데 새 상품이 오지 않아요.\\nAnswer: 반송한 상품이 판매자에게 도착한 후 새 상품이 발송됩니다. 반송한 상품이 판매자에게 도착하지 않은 경우에는 교환이 지연될 수 있습니다. 아래의 경로를 통해 회수 현황을 확인해 주시기 바랍니다.\\n 회수 현황 확인하기\\n• 마이쿠팡 → 취소/반품/교환/환불내역 → 상품선택 → [반품상세] \\n• 단 판매자 배송 상품 등 일부는 모바일 앱에서만 확인이 가능합니다.\\nkeywords: CANCEL\\ncount: 0'),\n",
      "  0.370542973)]\n",
      "\n",
      "Answer : 네, 안녕하세요.\n",
      " 쿠팡 고객센터입니다.\n",
      " 판매자 분실로 표기된 부분에 대해 안내해 드리겠습니다.\n",
      " 불편을 드린 점 진심으로 사과드립니다.\n",
      " 정확한 상담을 위해 주문하신 주문 번호 확인 부탁드립니다.\n",
      " 확인 후, 상품의 유형(로켓배송인지 판매자 배송인지)에 따라 분실 처리 절차 및 환불, 재배송 안내를 자세히 드리겠습니다.\n",
      "\n",
      "\n",
      "\n",
      "**조건별 대응 방법**\n",
      "\n",
      "* **로켓배송 상품:** 주문번호 확인 후 쿠팡 고객센터에 직접 연결하여 분실 사유 확인 및 환불/재배송 절차를 안내해 드립니다.\n",
      " 쿠팡 고객센터 상담원이 분실 확인 후 처리 과정을 안내하고, 빠른 해결을 위해 최선을 다하겠습니다.\n",
      "\n",
      "\n",
      "* **판매자 배송 상품:** 주문번호 확인 후 마이쿠팡 > 주문목록 > 상품선택 > [‘판매자명’에 문의하기]를 통해 판매자에게 직접 문의하도록 안내합니다.\n",
      " 판매자 연락처를 찾는 데 어려움이 있을 경우, 제가 직접 찾아 안내해 드리겠습니다.\n",
      " 판매자와의 소통 과정에서 어려움이 발생하면 다시 저에게 문의해주시면 도움을 드리겠습니다.\n",
      "\n",
      "\n",
      "* **주문번호 확인 불가 시:** 주문번호 확인이 어려울 경우, 고객님께서 기억하시는 주문 관련 정보(예: 주문일자, 상품명, 수령인 정보 등)를 알려주시면 제가 최대한 찾아보도록 노력하겠습니다.\n",
      " 하지만, 정확한 정보 없이는 상담이 어려울 수 있다는 점 양해 부탁드립니다.\n",
      "\n",
      ".\n"
     ]
    }
   ],
   "execution_count": 15
  },
  {
   "metadata": {
    "ExecuteTime": {
     "end_time": "2025-01-07T02:44:19.195858Z",
     "start_time": "2025-01-07T02:44:15.491952Z"
    }
   },
   "cell_type": "code",
   "source": [
    "# 유사도 보기\n",
    "# results = database.similarity_search_with_score(query=query, k=3)\n",
    "# pprint(results)\n",
    "query = '결제 시 카드 정보는 어떻게 보호되나요?'\n",
    "results = database.similarity_search_with_score(query=query, k=3)\n",
    "pprint(results)\n",
    "\n",
    "print()\n",
    "answer = chain.invoke(query).replace('  ', ' ').split('.')\n",
    "print(\"Answer : \", end='')\n",
    "for ans in answer:  \n",
    "    print(ans + '.')"
   ],
   "id": "fd7c1c56c4eb846e",
   "outputs": [
    {
     "name": "stdout",
     "output_type": "stream",
     "text": [
      "[(Document(id='4625c9d1-561e-488f-949d-6d3cff3d281f', metadata={'row': 67.0, 'source': '../data/ORDER_main_qna_list.csv'}, page_content=': 67\\nQuestion: Q[결제수단] 인터넷안전결제(ISP) 서비스란 무엇인가요?\\nAnswer: 인터넷안전결제(ISP)란 카드 결제 시 카드번호를 직접 입력하지 않고 카드사에서 발급하는 가상의 인터넷안전결제(ISP) 비밀번호만으로 안전한 전자상거래를 할 수 있는 서비스입니다. 단 거래 금액이 30만원 이상일 때에는 공인 인증 과정이 필요합니다. 카드사별로 인터넷안전결제(ISP) 지원 여부가 상이하므로 자세한 내용은 사용하는 카드사로 문의해 주시기 바랍니다.\\nkeywords: ORDER\\ncount: 0'),\n",
      "  0.377247423),\n",
      " (Document(id='3dc8309d-bc2c-4243-807e-09ba6d53c694', metadata={'row': 95.0, 'source': '../data/ORDER_main_qna_list.csv'}, page_content=': 95\\nQuestion: Q[결제] 토스카드/카카오페이 카드는 어떻게 결제하나요?\\nAnswer: 신용/체크카드에서 ‘BC카드’를 선택한 후 [결제하기]를 클릭하면 카드 정보를 입력하여 결제할 수 있습니다.\\n 단 토스유스카드는 일반 결제 시 ‘KB국민카드’로 선택하여 결제할 수 있습니다.\\nkeywords: ORDER\\ncount: 0'),\n",
      "  0.363984585),\n",
      " (Document(id='656549d2-7b87-41d9-98be-90527f986d2c', metadata={'row': 66.0, 'source': '../data/ORDER_main_qna_list.csv'}, page_content=': 66\\nQuestion: Q[안심클릭] 안심클릭 서비스란 무엇인가요?\\nAnswer: 인터넷 쇼핑 시 고객님의 카드에 미리 설정한 전자상거래용 별도 비밀번호를 입력하여 카드 사용자 본인을 확인함으로써 온라인상에서 카드의 무단 도용을 방지하는 서비스입니다. 카드사별로 이용 방법이 상이하므로 자세한 내용은 사용하는 카드사로 문의해 주시기 바랍니다.\\nkeywords: ORDER\\ncount: 0'),\n",
      "  0.359168291)]\n",
      "\n",
      "Answer : 고객님, 결제 정보 보호에 대해 문의주셨네요.\n",
      " 안전한 결제를 위해 최선을 다하고 있습니다.\n",
      " 우선, ISP(인터넷안전결제) 서비스를 이용하시면 카드번호를 직접 입력하지 않고 가상 비밀번호로 결제하실 수 있습니다.\n",
      " 단, 30만원 이상 결제 시에는 공인인증서가 필요할 수 있으니 참고 부탁드립니다.\n",
      " 토스카드나 카카오페이 카드는 BC카드 또는 KB국민카드로 결제 가능하며, 쿠페이는 별도의 공인인증서나 보안카드 없이 비밀번호만으로 결제 가능합니다.\n",
      " 더 자세한 내용은 사용하시는 카드사에 문의하시는 것이 좋습니다.\n",
      "\n",
      "\n",
      "\n",
      "**조건별 대응 방법:**\n",
      "\n",
      "(해당 질문은 제공된 context 내에서 충분히 답변 가능하며, 추가적인 정보 확인이 필요하지 않습니다.\n",
      ")\n",
      ".\n"
     ]
    }
   ],
   "execution_count": 19
  },
  {
   "metadata": {},
   "cell_type": "markdown",
   "source": "# OLLAMA TEST",
   "id": "c9e7a2eeafaadb8f"
  },
  {
   "metadata": {
    "ExecuteTime": {
     "end_time": "2025-01-06T08:33:42.606608Z",
     "start_time": "2025-01-06T08:33:31.647199Z"
    }
   },
   "cell_type": "code",
   "source": [
    "from langchain.prompts import ChatPromptTemplate\n",
    "from langchain_google_genai import ChatGoogleGenerativeAI\n",
    "from langchain_core.output_parsers import StrOutputParser\n",
    "from langchain_core.runnables import RunnablePassthrough\n",
    "from langchain_ollama import ChatOllama\n",
    "\n",
    "retriever = database.as_retriever(\n",
    "    search_type=\"mmr\", search_kwargs={\"k\": 3, \"fetch_k\": 5}\n",
    ")\n",
    "\n",
    "template = \"\"\"\n",
    "[context]: {context}\n",
    "---\n",
    "[질의]: {query}\n",
    "\n",
    "7년 이상의 경력을 가진 상담사라고 생각하고, 위의 [context] 정보 내에서 [질의]에 대해 상담사 입장에서 사용자가 만족할 수 있을 정도로 성의있게 답해주세요.\n",
    "최대한 문장을 쉼표로 끊어서 대답하기 보다는 온점으로 문장을 끊어주세요. \n",
    "문장의 마무리는 '~요' 보다는 '~다'로 끝나는 쪽이 전문적으로 보입니다.\n",
    "또한, 상담사는 가능한 선에서 직접 확인+안내+해결을 도와주는 직원이므로 직접 확인 후 해결까지 돕는 방향으로 작성해 주세요.\n",
    "그리고, 사용자의 편의를 위해 서비스 특성 상 쿠션어를 사용하시면 좋습니다.\n",
    "\n",
    "쿠션어의 예시는 다음과 같습니다.\n",
    "예시)\n",
    "불편을 드려 죄송합니다.\n",
    "번거로우시겠지만~\n",
    "~하는 점 양해 부탁드립니다.\n",
    "~할 예정입니다.\n",
    "~를 부탁드립니다.\n",
    "\n",
    "위 사항들을 종합해서 2~3줄로 상담사가 활용하기 좋게 대본을 만들어 주세요.\n",
    "\n",
    "단, 제일 중요한 것은 [context] 정보에 없는 내용을 답해서는 안됩니다. [context]에 정보가 없거나 문서들의 유사성이 0.2 이하로 떨어질 경우, \"문의주신 내용은 확인이 필요하여 지금 답변드리기 어려울 것 같습니다. 번거로우시겠지만 확인 후에 다시 연락드려도 괜찮을까요?\" 라고 답해주세요.\n",
    "\"\"\"\n",
    "\n",
    "prompt = ChatPromptTemplate.from_template(template)\n",
    "\n",
    "llm = ChatOllama(\n",
    "    model=\"llama3.1:8b\"\n",
    ")\n",
    "\n",
    "def merge_pages(pages):\n",
    "    merged = \"\".join(page.page_content for page in pages)\n",
    "    return merged\n",
    "\n",
    "chain = (\n",
    "    {\"query\": RunnablePassthrough(), \"context\": retriever | merge_pages}\n",
    "    | prompt\n",
    "    | llm\n",
    "    | StrOutputParser()\n",
    ")\n",
    "# 유사도 보기\n",
    "# results = database.similarity_search_with_score(query=query, k=3)\n",
    "# pprint(results)\n",
    "query = '결제 후 주문 취소가 가능한가요?'\n",
    "results = database.similarity_search_with_score(query=query, k=3)\n",
    "pprint(results)\n",
    "\n",
    "print()\n",
    "answer = chain.invoke(query).replace('  ', ' ').split('.')\n",
    "print(\"Answer : \", end='')\n",
    "for ans in answer:  \n",
    "    print(ans + '.')\n",
    "    "
   ],
   "id": "a85500367870cbbe",
   "outputs": [
    {
     "name": "stdout",
     "output_type": "stream",
     "text": [
      "[(Document(id='afdbc8cb-ff9e-45e7-ac3c-c599f5c7ece1', metadata={'row': 8.0, 'source': '../data/ORDER_main_qna_list.csv'}, page_content=': 8\\nQuestion: Q[결제수단] 이미 주문했는데 결제 수단을 변경할 수 있나요?\\nAnswer: 아니요. 상품을 주문/결제한 후에는 결제 수단 변경이 불가합니다. 상품이 아직 배송 전이라면 주문목록에서 주문을 취소한 후 원하는 결제 수단으로 다시 주문/결제해 주시기 바랍니다. 상품이 이미 배송을 시작했다면 배송 완료 후 반품을 접수해 주시기 바랍니다. 단 상품 배송 이후 단순 변심으로 반품할 경우 왕복 배송비가 부과될 수 있습니다.\\n 주문 취소하기\\n마이쿠팡 → 주문목록 → 상품선택 → [주문취소] \\n이후 각 단계에 해당하는 항목을 선택하여 취소를 완료합니다.\\n 쿠페이 결제수단 관리하기\\n마이쿠팡 → 결제수단∙쿠페이 → [결제수단 관리] \\n이후 원하는 결제수단을 등록 및 삭제합니다.\\n 단순 변심 반품 비용 (클릭)\\nkeywords: ORDER\\ncount: 0'),\n",
      "  0.498710096),\n",
      " (Document(id='87b51c87-546d-4efd-b32d-faf856d09f93', metadata={'row': 9.0, 'source': '../data/CANCEL_main_qna_list.csv'}, page_content=': 9\\nQuestion: Q[취소 철회] 주문취소 신청을 철회(취소)하고 싶어요.\\nAnswer: 배송 상품은 주문을 취소하면 바로 결제 취소가 적용되어 이후 주문취소를 철회(취소) 할 수 없습니다. 이미 주문취소를 하셨다면 재구매를 부탁드립니다.\\nkeywords: CANCEL\\ncount: 0'),\n",
      "  0.49833414),\n",
      " (Document(id='92fba495-0129-4ec4-be5c-052016971ecf', metadata={'row': 44.0, 'source': '../data/CANCEL_main_qna_list.csv'}, page_content=': 44\\nQuestion: Q[취소] 신용카드로 결제한 주문을 취소했는데 카드대금이 청구되었습니다.\\nAnswer: 신용카드로 결제한 주문을 취소하면 신용카드 승인 취소도 자동으로 진행됩니다. 그런데 만약 취소한 주문에 대해 카드대금 청구를 받으셨다면 이는 주문이 취소되기 전에 카드사에서 이미 청구서를 작성했기 때문입니다. 이 경우 청구된 카드대금이 취소되기까지는 특정 시간이 소요되며 이는 각 카드사마다 다릅니다. 매입된 카드 승인의 취소는 카드사와 결제대행사의 확인 절차를 거치는 관계로 보통 주문취소 후 평일 기준 3~7일 정도가 소요됩니다. (주말 및 공휴일 제외) 보다 자세한 환불 방법과 환불 일자를 확인하고 싶으시다면 해당 카드사로 직접 문의해 주시기 바랍니다.\\nkeywords: CANCEL\\ncount: 0'),\n",
      "  0.484296173)]\n",
      "\n",
      "Answer : **대본 1**\n",
      "\n",
      "\"불편을 드려 죄송합니다.\n",
      " 주문 취소가 가능한가요?라는 질문은 많은 회원님들이 물어보는 내용 중 하나입니다.\n",
      " 만약 상품이 아직 배송 전이라면 주문목록에서 주문을 취소한 후 원하는 결제 수단으로 다시 주문/결제해 주시기 바랍니다.\n",
      " 혹시 도움이 필요하신 점을 알려주시면 확인 후에 답변드리겠습니다.\n",
      "\"\n",
      "\n",
      "**대본 2**\n",
      "\n",
      "\"번거로우시겠지만, 주문취소를 하신 이후 재구매를 부탁드립니다.\n",
      " 주문 취소하기는 마이쿠팡 → 주문목록 → 상품선택 → [주문취소]에서 확인하실 수 있습니다.\n",
      " 혹시 도움이 필요하신 점을 알려주시면 확인 후에 답변드리겠습니다.\n",
      "\"\n",
      "\n",
      "**대본 3**\n",
      "\n",
      "\"만약 배송 완료가 된 후에 취소를 원하신다면 배송 완료 후 반품을 접수해 주세요.\n",
      " 단, 상품 배송 이후 단순 변심으로 반품할 경우 왕복 배송비가 부과될 수 있습니다.\n",
      " 문의주신 내용은 확인이 필요하여 지금 답변드리기 어려울 것 같습니다.\n",
      " 번거로우시겠지만 확인 후에 다시 연락드려도 괜찮을까요?\".\n"
     ]
    }
   ],
   "execution_count": 65
  },
  {
   "metadata": {},
   "cell_type": "code",
   "outputs": [],
   "execution_count": null,
   "source": "",
   "id": "803d0ee732187d11"
  }
 ],
 "metadata": {
  "kernelspec": {
   "display_name": "Python 3",
   "language": "python",
   "name": "python3"
  },
  "language_info": {
   "codemirror_mode": {
    "name": "ipython",
    "version": 2
   },
   "file_extension": ".py",
   "mimetype": "text/x-python",
   "name": "python",
   "nbconvert_exporter": "python",
   "pygments_lexer": "ipython2",
   "version": "2.7.6"
  }
 },
 "nbformat": 4,
 "nbformat_minor": 5
}
