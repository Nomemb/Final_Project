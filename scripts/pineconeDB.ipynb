{
 "cells": [
  {
   "cell_type": "code",
   "execution_count": 1,
   "id": "initial_id",
   "metadata": {
    "ExecuteTime": {
     "end_time": "2024-12-18T05:16:58.088720Z",
     "start_time": "2024-12-18T05:16:55.790626Z"
    },
    "collapsed": true
   },
   "outputs": [
    {
     "name": "stdout",
     "output_type": "stream",
     "text": [
      "Requirement already satisfied: langchain in c:\\users\\admin\\anaconda3\\envs\\final_p\\lib\\site-packages (0.3.14)Note: you may need to restart the kernel to use updated packages.\n",
      "\n",
      "Requirement already satisfied: langchain-core in c:\\users\\admin\\anaconda3\\envs\\final_p\\lib\\site-packages (0.3.29)\n",
      "Requirement already satisfied: langchain-community in c:\\users\\admin\\anaconda3\\envs\\final_p\\lib\\site-packages (0.3.14)\n",
      "Requirement already satisfied: langchain-text-splitters in c:\\users\\admin\\anaconda3\\envs\\final_p\\lib\\site-packages (0.3.4)\n",
      "Requirement already satisfied: langchain-openai in c:\\users\\admin\\anaconda3\\envs\\final_p\\lib\\site-packages (0.2.14)\n",
      "Requirement already satisfied: langchain-pinecone in c:\\users\\admin\\anaconda3\\envs\\final_p\\lib\\site-packages (0.2.0)\n",
      "Requirement already satisfied: docx2txt in c:\\users\\admin\\anaconda3\\envs\\final_p\\lib\\site-packages (0.8)\n",
      "Requirement already satisfied: PyYAML>=5.3 in c:\\users\\admin\\anaconda3\\envs\\final_p\\lib\\site-packages (from langchain) (6.0.2)\n",
      "Requirement already satisfied: SQLAlchemy<3,>=1.4 in c:\\users\\admin\\anaconda3\\envs\\final_p\\lib\\site-packages (from langchain) (2.0.36)\n",
      "Requirement already satisfied: aiohttp<4.0.0,>=3.8.3 in c:\\users\\admin\\anaconda3\\envs\\final_p\\lib\\site-packages (from langchain) (3.9.5)\n",
      "Requirement already satisfied: async-timeout<5.0.0,>=4.0.0 in c:\\users\\admin\\anaconda3\\envs\\final_p\\lib\\site-packages (from langchain) (4.0.3)\n",
      "Requirement already satisfied: langsmith<0.3,>=0.1.17 in c:\\users\\admin\\anaconda3\\envs\\final_p\\lib\\site-packages (from langchain) (0.2.10)\n",
      "Requirement already satisfied: numpy<2,>=1.22.4 in c:\\users\\admin\\anaconda3\\envs\\final_p\\lib\\site-packages (from langchain) (1.26.4)\n",
      "Requirement already satisfied: pydantic<3.0.0,>=2.7.4 in c:\\users\\admin\\anaconda3\\envs\\final_p\\lib\\site-packages (from langchain) (2.10.4)\n",
      "Requirement already satisfied: requests<3,>=2 in c:\\users\\admin\\anaconda3\\envs\\final_p\\lib\\site-packages (from langchain) (2.32.3)\n",
      "Requirement already satisfied: tenacity!=8.4.0,<10,>=8.1.0 in c:\\users\\admin\\anaconda3\\envs\\final_p\\lib\\site-packages (from langchain) (9.0.0)\n",
      "Requirement already satisfied: jsonpatch<2.0,>=1.33 in c:\\users\\admin\\anaconda3\\envs\\final_p\\lib\\site-packages (from langchain-core) (1.33)\n",
      "Requirement already satisfied: packaging<25,>=23.2 in c:\\users\\admin\\anaconda3\\envs\\final_p\\lib\\site-packages (from langchain-core) (24.2)\n",
      "Requirement already satisfied: typing-extensions>=4.7 in c:\\users\\admin\\anaconda3\\envs\\final_p\\lib\\site-packages (from langchain-core) (4.12.2)\n",
      "Requirement already satisfied: dataclasses-json<0.7,>=0.5.7 in c:\\users\\admin\\anaconda3\\envs\\final_p\\lib\\site-packages (from langchain-community) (0.6.7)\n",
      "Requirement already satisfied: httpx-sse<0.5.0,>=0.4.0 in c:\\users\\admin\\anaconda3\\envs\\final_p\\lib\\site-packages (from langchain-community) (0.4.0)\n",
      "Requirement already satisfied: pydantic-settings<3.0.0,>=2.4.0 in c:\\users\\admin\\anaconda3\\envs\\final_p\\lib\\site-packages (from langchain-community) (2.7.1)\n",
      "Requirement already satisfied: openai<2.0.0,>=1.58.1 in c:\\users\\admin\\anaconda3\\envs\\final_p\\lib\\site-packages (from langchain-openai) (1.59.3)\n",
      "Requirement already satisfied: tiktoken<1,>=0.7 in c:\\users\\admin\\anaconda3\\envs\\final_p\\lib\\site-packages (from langchain-openai) (0.8.0)\n",
      "Requirement already satisfied: pinecone-client<6.0.0,>=5.0.0 in c:\\users\\admin\\anaconda3\\envs\\final_p\\lib\\site-packages (from langchain-pinecone) (5.0.1)\n",
      "Requirement already satisfied: aiosignal>=1.1.2 in c:\\users\\admin\\anaconda3\\envs\\final_p\\lib\\site-packages (from aiohttp<4.0.0,>=3.8.3->langchain) (1.3.2)\n",
      "Requirement already satisfied: attrs>=17.3.0 in c:\\users\\admin\\anaconda3\\envs\\final_p\\lib\\site-packages (from aiohttp<4.0.0,>=3.8.3->langchain) (24.3.0)\n",
      "Requirement already satisfied: frozenlist>=1.1.1 in c:\\users\\admin\\anaconda3\\envs\\final_p\\lib\\site-packages (from aiohttp<4.0.0,>=3.8.3->langchain) (1.5.0)\n",
      "Requirement already satisfied: multidict<7.0,>=4.5 in c:\\users\\admin\\anaconda3\\envs\\final_p\\lib\\site-packages (from aiohttp<4.0.0,>=3.8.3->langchain) (6.1.0)\n",
      "Requirement already satisfied: yarl<2.0,>=1.0 in c:\\users\\admin\\anaconda3\\envs\\final_p\\lib\\site-packages (from aiohttp<4.0.0,>=3.8.3->langchain) (1.18.3)\n",
      "Requirement already satisfied: marshmallow<4.0.0,>=3.18.0 in c:\\users\\admin\\anaconda3\\envs\\final_p\\lib\\site-packages (from dataclasses-json<0.7,>=0.5.7->langchain-community) (3.23.3)\n",
      "Requirement already satisfied: typing-inspect<1,>=0.4.0 in c:\\users\\admin\\anaconda3\\envs\\final_p\\lib\\site-packages (from dataclasses-json<0.7,>=0.5.7->langchain-community) (0.9.0)\n",
      "Requirement already satisfied: jsonpointer>=1.9 in c:\\users\\admin\\anaconda3\\envs\\final_p\\lib\\site-packages (from jsonpatch<2.0,>=1.33->langchain-core) (3.0.0)\n",
      "Requirement already satisfied: httpx<1,>=0.23.0 in c:\\users\\admin\\anaconda3\\envs\\final_p\\lib\\site-packages (from langsmith<0.3,>=0.1.17->langchain) (0.28.1)\n",
      "Requirement already satisfied: orjson<4.0.0,>=3.9.14 in c:\\users\\admin\\anaconda3\\envs\\final_p\\lib\\site-packages (from langsmith<0.3,>=0.1.17->langchain) (3.10.13)\n",
      "Requirement already satisfied: requests-toolbelt<2.0.0,>=1.0.0 in c:\\users\\admin\\anaconda3\\envs\\final_p\\lib\\site-packages (from langsmith<0.3,>=0.1.17->langchain) (1.0.0)\n",
      "Requirement already satisfied: anyio<5,>=3.5.0 in c:\\users\\admin\\anaconda3\\envs\\final_p\\lib\\site-packages (from openai<2.0.0,>=1.58.1->langchain-openai) (4.7.0)\n",
      "Requirement already satisfied: distro<2,>=1.7.0 in c:\\users\\admin\\anaconda3\\envs\\final_p\\lib\\site-packages (from openai<2.0.0,>=1.58.1->langchain-openai) (1.9.0)\n",
      "Requirement already satisfied: jiter<1,>=0.4.0 in c:\\users\\admin\\anaconda3\\envs\\final_p\\lib\\site-packages (from openai<2.0.0,>=1.58.1->langchain-openai) (0.8.2)\n",
      "Requirement already satisfied: sniffio in c:\\users\\admin\\anaconda3\\envs\\final_p\\lib\\site-packages (from openai<2.0.0,>=1.58.1->langchain-openai) (1.3.1)\n",
      "Requirement already satisfied: tqdm>4 in c:\\users\\admin\\anaconda3\\envs\\final_p\\lib\\site-packages (from openai<2.0.0,>=1.58.1->langchain-openai) (4.67.1)\n",
      "Requirement already satisfied: certifi>=2019.11.17 in c:\\users\\admin\\anaconda3\\envs\\final_p\\lib\\site-packages (from pinecone-client<6.0.0,>=5.0.0->langchain-pinecone) (2024.12.14)\n",
      "Requirement already satisfied: pinecone-plugin-inference<2.0.0,>=1.0.3 in c:\\users\\admin\\anaconda3\\envs\\final_p\\lib\\site-packages (from pinecone-client<6.0.0,>=5.0.0->langchain-pinecone) (1.1.0)\n",
      "Requirement already satisfied: pinecone-plugin-interface<0.0.8,>=0.0.7 in c:\\users\\admin\\anaconda3\\envs\\final_p\\lib\\site-packages (from pinecone-client<6.0.0,>=5.0.0->langchain-pinecone) (0.0.7)\n",
      "Requirement already satisfied: urllib3>=1.26.0 in c:\\users\\admin\\anaconda3\\envs\\final_p\\lib\\site-packages (from pinecone-client<6.0.0,>=5.0.0->langchain-pinecone) (2.3.0)\n",
      "Requirement already satisfied: annotated-types>=0.6.0 in c:\\users\\admin\\anaconda3\\envs\\final_p\\lib\\site-packages (from pydantic<3.0.0,>=2.7.4->langchain) (0.7.0)\n",
      "Requirement already satisfied: pydantic-core==2.27.2 in c:\\users\\admin\\anaconda3\\envs\\final_p\\lib\\site-packages (from pydantic<3.0.0,>=2.7.4->langchain) (2.27.2)\n",
      "Requirement already satisfied: python-dotenv>=0.21.0 in c:\\users\\admin\\anaconda3\\envs\\final_p\\lib\\site-packages (from pydantic-settings<3.0.0,>=2.4.0->langchain-community) (1.0.1)\n",
      "Requirement already satisfied: charset-normalizer<4,>=2 in c:\\users\\admin\\anaconda3\\envs\\final_p\\lib\\site-packages (from requests<3,>=2->langchain) (3.4.1)\n",
      "Requirement already satisfied: idna<4,>=2.5 in c:\\users\\admin\\anaconda3\\envs\\final_p\\lib\\site-packages (from requests<3,>=2->langchain) (3.10)\n",
      "Requirement already satisfied: greenlet!=0.4.17 in c:\\users\\admin\\anaconda3\\envs\\final_p\\lib\\site-packages (from SQLAlchemy<3,>=1.4->langchain) (3.1.1)\n",
      "Requirement already satisfied: regex>=2022.1.18 in c:\\users\\admin\\anaconda3\\envs\\final_p\\lib\\site-packages (from tiktoken<1,>=0.7->langchain-openai) (2024.11.6)\n",
      "Requirement already satisfied: exceptiongroup>=1.0.2 in c:\\users\\admin\\anaconda3\\envs\\final_p\\lib\\site-packages (from anyio<5,>=3.5.0->openai<2.0.0,>=1.58.1->langchain-openai) (1.2.2)\n",
      "Requirement already satisfied: httpcore==1.* in c:\\users\\admin\\anaconda3\\envs\\final_p\\lib\\site-packages (from httpx<1,>=0.23.0->langsmith<0.3,>=0.1.17->langchain) (1.0.7)\n",
      "Requirement already satisfied: h11<0.15,>=0.13 in c:\\users\\admin\\anaconda3\\envs\\final_p\\lib\\site-packages (from httpcore==1.*->httpx<1,>=0.23.0->langsmith<0.3,>=0.1.17->langchain) (0.14.0)\n",
      "Requirement already satisfied: colorama in c:\\users\\admin\\anaconda3\\envs\\final_p\\lib\\site-packages (from tqdm>4->openai<2.0.0,>=1.58.1->langchain-openai) (0.4.6)\n",
      "Requirement already satisfied: mypy-extensions>=0.3.0 in c:\\users\\admin\\anaconda3\\envs\\final_p\\lib\\site-packages (from typing-inspect<1,>=0.4.0->dataclasses-json<0.7,>=0.5.7->langchain-community) (1.0.0)\n",
      "Requirement already satisfied: propcache>=0.2.0 in c:\\users\\admin\\anaconda3\\envs\\final_p\\lib\\site-packages (from yarl<2.0,>=1.0->aiohttp<4.0.0,>=3.8.3->langchain) (0.2.1)\n"
     ]
    }
   ],
   "source": [
    "%pip install langchain langchain-core langchain-community langchain-text-splitters langchain-openai langchain-pinecone docx2txt"
   ]
  },
  {
   "cell_type": "code",
   "execution_count": 2,
   "id": "4f6218586b0a150d",
   "metadata": {},
   "outputs": [
    {
     "data": {
      "text/plain": [
       "True"
      ]
     },
     "execution_count": 2,
     "metadata": {},
     "output_type": "execute_result"
    }
   ],
   "source": [
    "import os\n",
    "import dotenv\n",
    "\n",
    "dotenv.load_dotenv()"
   ]
  },
  {
   "cell_type": "code",
   "execution_count": 3,
   "id": "10da07f7226e7b6",
   "metadata": {
    "ExecuteTime": {
     "end_time": "2025-01-04T01:09:00.377569Z",
     "start_time": "2025-01-04T01:08:58.775239Z"
    }
   },
   "outputs": [],
   "source": [
    "import os\n",
    "import pandas as pd\n",
    "from langchain_upstage import UpstageEmbeddings\n",
    "from langchain_text_splitters import RecursiveCharacterTextSplitter\n",
    "from langchain_community.document_loaders.csv_loader import CSVLoader\n",
    "from pprint import pprint\n",
    "\n",
    "# os.environ[\"GPT_API_KEY\"] = GPT_API_KEY\n",
    "UPSTAGE_API_KEY = os.environ.get(\"UPSTAGE_API_KEY\")\n",
    "PINECONE_API_KEY = os.environ.get(\"PINECONE_API_KEY\")\n",
    "\n",
    "text_splitter = RecursiveCharacterTextSplitter(\n",
    "    chunk_size=1500,\n",
    "    chunk_overlap=200,\n",
    ")\n"
   ]
  },
  {
   "cell_type": "code",
   "execution_count": 4,
   "id": "c493976160090709",
   "metadata": {
    "ExecuteTime": {
     "end_time": "2024-12-30T10:01:56.718761Z",
     "start_time": "2024-12-30T10:01:56.704649Z"
    }
   },
   "outputs": [],
   "source": [
    "folder_path = '../data'"
   ]
  },
  {
   "cell_type": "code",
   "execution_count": 5,
   "id": "86175e1843b29943",
   "metadata": {
    "ExecuteTime": {
     "end_time": "2024-12-30T10:02:01.024673Z",
     "start_time": "2024-12-30T10:02:01.000327Z"
    }
   },
   "outputs": [
    {
     "name": "stdout",
     "output_type": "stream",
     "text": [
      "CANCEL_main_qna_list.csv\n",
      "DELIVERY_main_qna_list.csv\n",
      "ORDER_main_qna_list.csv\n",
      "REFUND_main_qna_list.csv\n",
      "SUB_qna_list.csv\n",
      "309\n"
     ]
    }
   ],
   "source": [
    "document_list = []\n",
    "\n",
    "for file in os.listdir(folder_path):\n",
    "    print(file)\n",
    "    temp_loader = CSVLoader(file_path=f\"{folder_path}/{file}\", encoding='utf-8-sig')\n",
    "    temp_document_list = temp_loader.load_and_split(text_splitter=text_splitter)\n",
    "    \n",
    "    document_list.extend(temp_document_list)\n",
    "\n",
    "print(len(document_list))"
   ]
  },
  {
   "cell_type": "code",
   "execution_count": 6,
   "id": "7719061b6dab8d39",
   "metadata": {
    "ExecuteTime": {
     "end_time": "2025-01-04T01:09:06.448010Z",
     "start_time": "2025-01-04T01:09:05.936470Z"
    }
   },
   "outputs": [],
   "source": [
    "# Upstage 에서 제공하는 Embedding Model을 활용\n",
    "embedding = UpstageEmbeddings(model=\"solar-embedding-1-large\",\n",
    "                              api_key=UPSTAGE_API_KEY)"
   ]
  },
  {
   "cell_type": "code",
   "execution_count": 7,
   "id": "5888d34b4e41a2d8",
   "metadata": {
    "ExecuteTime": {
     "end_time": "2025-01-04T01:09:11.978940Z",
     "start_time": "2025-01-04T01:09:11.524428Z"
    }
   },
   "outputs": [
    {
     "name": "stderr",
     "output_type": "stream",
     "text": [
      "c:\\Users\\Admin\\anaconda3\\envs\\final_P\\lib\\site-packages\\pinecone\\data\\index.py:1: TqdmWarning: IProgress not found. Please update jupyter and ipywidgets. See https://ipywidgets.readthedocs.io/en/stable/user_install.html\n",
      "  from tqdm.autonotebook import tqdm\n"
     ]
    }
   ],
   "source": [
    "from langchain_pinecone import PineconeVectorStore\n",
    "\n",
    "\n",
    "index_name = 'upstage-index'"
   ]
  },
  {
   "cell_type": "code",
   "execution_count": 8,
   "id": "23399523e40f7306",
   "metadata": {},
   "outputs": [],
   "source": [
    "# # DB 처음 만들 때\n",
    "# database = PineconeVectorStore.from_documents(document_list, embedding, index_name=index_name)\n"
   ]
  },
  {
   "cell_type": "code",
   "execution_count": 8,
   "id": "3e740ffcf8368014",
   "metadata": {
    "ExecuteTime": {
     "end_time": "2025-01-04T01:09:15.404288Z",
     "start_time": "2025-01-04T01:09:13.088429Z"
    }
   },
   "outputs": [],
   "source": [
    "# 만들어 놓은 DB가 있을 때\n",
    "database = PineconeVectorStore.from_existing_index(index_name=index_name, embedding=embedding)"
   ]
  },
  {
   "cell_type": "markdown",
   "id": "41e7d72561431bf2",
   "metadata": {},
   "source": [
    "# Vectorstore 유사도 검색"
   ]
  },
  {
   "cell_type": "code",
   "execution_count": 9,
   "id": "e86e50ac276f7496",
   "metadata": {
    "ExecuteTime": {
     "end_time": "2025-01-04T01:41:19.846034Z",
     "start_time": "2025-01-04T01:41:17.991659Z"
    }
   },
   "outputs": [
    {
     "name": "stdout",
     "output_type": "stream",
     "text": [
      "* [SIM=0.484761] : 3\n",
      "Question: Q[반품비] 반품 비용은 누가 부담하나요?\n",
      "Answer: 귀책사유에 따라 반품 비용의 부담 주체가 다릅니다. 상품 불량/파손/오배송 등 판매자의 귀책인 경우에는 고객에게 교환/반품 비용이 발생하지 않습니다. 그러나 구매자의 단순 변심인 경우에는 고객에게 반품 비용이 부담될 수 있습니다.\n",
      " 구매자 단순 변심의 경우 (클릭)\n",
      " 반품 비용 확인 방법 (클릭)\n",
      "keywords: CANCEL\n",
      "count: 0 [{'row': 3.0, 'source': '../data/CANCEL_main_qna_list.csv'}]\n",
      "* [SIM=0.480641] Question: 단순 변심 반품 비용\n",
      "Answer: 로켓배송 상품\n",
      "• 와우 멤버십 회원 : 무료\n",
      "• 와우 멤버십 비회원\n",
      "ㆍ총 주문금액 - 반품 상품금액 = 19800원 미만인 경우 반품비 5000원 차감 후 환불\n",
      "ㆍ총 주문금액 - 반품 상품금액 = 19800원 이상인 경우 반품비 2500원 차감 후 환불\n",
      " 로켓직구 상품\n",
      "• 와우 멤버십 회원 : 5000원 (미국 직구 2600원)\n",
      "• 와우 멤버십 비회원\n",
      "ㆍ총 주문금액 - 반품 상품금액 = 29800원 미만인 경우 반품비 5000원 차감 후 환불 (미국 직구 2600원)\n",
      "ㆍ총 주문금액 - 반품 상품금액 = 29800원 이상인 경우 반품비 2500원 차감 후 환불 (미국 직구 2500원)\n",
      "• 단 TV 및 일부 전자기기와 같은 특정 제품(다이슨 로봇청소기 등)은 2600원/5000원 보다 높은 교환/반품비가 적용될 수 있음\n",
      " 판매자 배송 상품\n",
      "• 배송 시작 이후 최초 배송비를 포함한 왕복 배송비 차감 후 환불\n",
      "• 반품비는 판매자 및 상품에 따라 상이함\n",
      "• 도서산간 지역 설치 상품 업체에서 직접 배송하는 상품의 경우 반품비가 추가될 수 있음\n",
      "keywords: SUB\n",
      "count: 0 [{'row': 15.0, 'source': '../data/SUB_qna_list.csv'}]\n",
      "* [SIM=0.475614] : 10\n",
      "Question: Q[교환/반품] 교환/반품 비용 결제는 어떻게 하나요?\n",
      "Answer: 상품 문제 혹은 배송 지연 등 판매자 사유로 교환/반품을 하는 경우에는 비용이 발생하지 않습니다. 단 구매자의 단순 변심으로 교환/반품을 하는 경우에는 아래와 같이 비용이 발생합니다.\n",
      " 단순 변심 교환의 경우 (클릭)\n",
      " 단순 변심 반품의 경우 (클릭)\n",
      " 판매자 정보 확인하기 (클릭)\n",
      "keywords: CANCEL\n",
      "count: 0 [{'row': 10.0, 'source': '../data/CANCEL_main_qna_list.csv'}]\n"
     ]
    }
   ],
   "source": [
    "query = '반품 비용은 얼마인가요?'\n",
    "\n",
    "results = database.similarity_search_with_score(query=query, k=3)\n",
    "for doc, score in results:\n",
    "    print(f\"* [SIM={score:3f}] {doc.page_content} [{doc.metadata}]\")\n",
    "    "
   ]
  },
  {
   "cell_type": "markdown",
   "id": "f9e6e31fe66017cf",
   "metadata": {},
   "source": [
    "# LLM 질의 테스트"
   ]
  },
  {
   "cell_type": "code",
   "execution_count": 15,
   "id": "d08409b5",
   "metadata": {},
   "outputs": [
    {
     "name": "stdout",
     "output_type": "stream",
     "text": [
      "Requirement already satisfied: pymongo in c:\\users\\admin\\anaconda3\\envs\\final_p\\lib\\site-packages (4.10.1)\n",
      "Requirement already satisfied: pytz in c:\\users\\admin\\anaconda3\\envs\\final_p\\lib\\site-packages (2024.2)\n",
      "Requirement already satisfied: dnspython<3.0.0,>=1.16.0 in c:\\users\\admin\\anaconda3\\envs\\final_p\\lib\\site-packages (from pymongo) (2.7.0)\n",
      "Note: you may need to restart the kernel to use updated packages.\n"
     ]
    }
   ],
   "source": [
    "%pip install pymongo pytz"
   ]
  },
  {
   "cell_type": "code",
   "execution_count": 16,
   "id": "35eeee402a11d206",
   "metadata": {
    "ExecuteTime": {
     "end_time": "2025-01-04T01:50:56.945106Z",
     "start_time": "2025-01-04T01:50:51.756239Z"
    }
   },
   "outputs": [
    {
     "name": "stdout",
     "output_type": "stream",
     "text": [
      "* [SIM=0.484761] : 3\n",
      "Question: Q[반품비] 반품 비용은 누가 부담하나요?\n",
      "Answer: 귀책사유에 따라 반품 비용의 부담 주체가 다릅니다. 상품 불량/파손/오배송 등 판매자의 귀책인 경우에는 고객에게 교환/반품 비용이 발생하지 않습니다. 그러나 구매자의 단순 변심인 경우에는 고객에게 반품 비용이 부담될 수 있습니다.\n",
      " 구매자 단순 변심의 경우 (클릭)\n",
      " 반품 비용 확인 방법 (클릭)\n",
      "keywords: CANCEL\n",
      "count: 0 [{'row': 3.0, 'source': '../data/CANCEL_main_qna_list.csv'}]\n",
      "* [SIM=0.480641] Question: 단순 변심 반품 비용\n",
      "Answer: 로켓배송 상품\n",
      "• 와우 멤버십 회원 : 무료\n",
      "• 와우 멤버십 비회원\n",
      "ㆍ총 주문금액 - 반품 상품금액 = 19800원 미만인 경우 반품비 5000원 차감 후 환불\n",
      "ㆍ총 주문금액 - 반품 상품금액 = 19800원 이상인 경우 반품비 2500원 차감 후 환불\n",
      " 로켓직구 상품\n",
      "• 와우 멤버십 회원 : 5000원 (미국 직구 2600원)\n",
      "• 와우 멤버십 비회원\n",
      "ㆍ총 주문금액 - 반품 상품금액 = 29800원 미만인 경우 반품비 5000원 차감 후 환불 (미국 직구 2600원)\n",
      "ㆍ총 주문금액 - 반품 상품금액 = 29800원 이상인 경우 반품비 2500원 차감 후 환불 (미국 직구 2500원)\n",
      "• 단 TV 및 일부 전자기기와 같은 특정 제품(다이슨 로봇청소기 등)은 2600원/5000원 보다 높은 교환/반품비가 적용될 수 있음\n",
      " 판매자 배송 상품\n",
      "• 배송 시작 이후 최초 배송비를 포함한 왕복 배송비 차감 후 환불\n",
      "• 반품비는 판매자 및 상품에 따라 상이함\n",
      "• 도서산간 지역 설치 상품 업체에서 직접 배송하는 상품의 경우 반품비가 추가될 수 있음\n",
      "keywords: SUB\n",
      "count: 0 [{'row': 15.0, 'source': '../data/SUB_qna_list.csv'}]\n",
      "* [SIM=0.475614] : 10\n",
      "Question: Q[교환/반품] 교환/반품 비용 결제는 어떻게 하나요?\n",
      "Answer: 상품 문제 혹은 배송 지연 등 판매자 사유로 교환/반품을 하는 경우에는 비용이 발생하지 않습니다. 단 구매자의 단순 변심으로 교환/반품을 하는 경우에는 아래와 같이 비용이 발생합니다.\n",
      " 단순 변심 교환의 경우 (클릭)\n",
      " 단순 변심 반품의 경우 (클릭)\n",
      " 판매자 정보 확인하기 (클릭)\n",
      "keywords: CANCEL\n",
      "count: 0 [{'row': 10.0, 'source': '../data/CANCEL_main_qna_list.csv'}]\n",
      "Answer : 네, 고객님.\n",
      " 반품 비용에 대해 문의주셨군요.\n",
      " 확인해본 결과, 반품 비용은 반품 사유에 따라 달라집니다.\n",
      " 상품의 불량이나 파손, 오배송 등 판매자의 책임이 있는 경우에는 반품 비용이 발생하지 않습니다.\n",
      "\n",
      "\n",
      "하지만 고객님의 단순 변심으로 인한 반품인 경우에는 비용이 발생할 수 있으며, 로켓배송, 로켓직구, 판매자 배송 상품 등 상품 종류와 와우 멤버십 가입 여부, 총 주문 금액에 따라 비용이 다르게 적용됩니다.\n",
      " 좀 더 자세한 내용은 단순 변심 반품 비용 안내를 참고해주시면 좋을 것 같습니다.\n",
      "\n",
      "\n",
      "구체적인 비용을 안내해 드리려면, 어떤 상품을 반품하시는지, 와우 멤버십 회원 여부, 총 주문 금액 등을 알려주시면 더 정확하게 안내해 드릴 수 있습니다.\n",
      "\n",
      ".\n"
     ]
    }
   ],
   "source": [
    "from langchain.prompts import ChatPromptTemplate\n",
    "from langchain_google_genai import ChatGoogleGenerativeAI\n",
    "from langchain_core.output_parsers import StrOutputParser\n",
    "from langchain_core.runnables import RunnablePassthrough\n",
    "\n",
    "retriever = database.as_retriever(\n",
    "    search_type=\"mmr\", search_kwargs={\"k\": 3, \"fetch_k\": 5}\n",
    ")\n",
    "\n",
    "query = '반품 비용은 얼마인가요?'\n",
    "\n",
    "results = database.similarity_search_with_score(query=query, k=3)\n",
    "for doc, score in results:\n",
    "    print(f\"* [SIM={score:3f}] {doc.page_content} [{doc.metadata}]\")\n",
    "\n",
    "\n",
    "\n",
    "template = \"\"\"\n",
    "[context]: {context}\n",
    "----\n",
    "\n",
    "당신은 고객센터 상담사로서 고객의 문의에 답변하는 역할을 합니다. 항상 부드럽고 공손한 어조로 응대하며, 다음 지침을 따라주세요:\n",
    "\n",
    "1. [context]에서 제공된 상위 3개의 정보를 바탕으로 고객에게 안내하세요.\n",
    "   - 질문과 가장 적합한 정보를 우선적으로 선택하되, 나머지 정보도 필요에 따라 참조하여 답변에 포함하세요.\n",
    "   - 답변은 구체적이고 부드러운 구어체로 작성합니다.\n",
    "   - 상담사가 실제 대화에서 사용하는 것처럼, **\"확인해본 결과\"**, **\"안내드리겠습니다\"** 등의 문구를 활용하세요.\n",
    "\n",
    "2. 항상 고객을 환영하거나 공감하는 **쿠션어**로 시작하세요.\n",
    "   - 예: \"네, 고객님. 문의 주셔서 감사합니다.\", \"네, 고객님. 확인해본 결과 ~\"\n",
    "\n",
    "3. **중요**: 모든 문장을 너무 짧거나 단조롭게 작성하지 말고, 부드럽게 연결하여 대화의 흐름을 유지하세요.\n",
    "   - 질문에 가장 적합한 정보를 핵심으로 전달하며, 필요한 경우 다른 정보를 추가적으로 참조합니다.\n",
    "   - 딱딱한 느낌을 피하고, 구체적인 정보를 자연스럽게 전달합니다.\n",
    "\n",
    "4. 필요할 경우에만 추가 정보를 요청하세요.\n",
    "   - 예: \"정확한 안내를 위해 [필요 정보]를 확인 부탁드립니다.\"\n",
    "\n",
    "5. 모든 답변은 2~3줄로 작성하되, 문장은 온점으로 구분하고 연결감을 유지합니다.\n",
    "\n",
    "6. 답변이 없을 경우[SIM<=0.4], \"해당 내용에 대한 정확한 정보를 찾을 수 없어 지금 답변 드리기 어려운 점 양해 부탁드립니다. 확인 해보고 연락드리겠습니다.\"라고 안내하세요.\n",
    "\n",
    "### 참고 예시:\n",
    "[context]: \n",
    "1. 미사용 상품에 한하여 교환/반품이 가능합니다. 상품을 회수한 후 검수 단계에서 문제가 발견될 시 고객님께 연락을 드릴 수 있습니다.\n",
    "2. 파손/불량/오배송 등(판매자 귀책)의 경우 물품을 수령한 날부터 3개월 이내 또는 그 사실을 알거나 알 수 있었던 날부터 30일 이내 교환/반품이 가능합니다.\n",
    "3. 로켓배송 상품은 배송 완료 후 30일 이내, 로켓모바일 상품은 주문일 포함 14일 이내에 교환/반품이 가능합니다.\n",
    "\n",
    "질문: 반품 가능 기간이 어떻게 되나요?\n",
    "답변: 네, 고객님. 문의 주셔서 감사합니다. 확인해본 결과, 단순 변심의 경우 로켓배송 상품은 배송 완료 후 30일 이내에 반품 신청이 가능합니다. 로켓모바일 상품은 주문일 포함 14일 이내에 가능합니다. 또한, 파손/불량 등 판매자 귀책의 경우 물품 수령 후 3개월 이내에 교환/반품이 가능합니다. 더 궁금한 점 있으시면 말씀 부탁드립니다!\n",
    "\n",
    "---\n",
    "[질의]: {query}\n",
    "\n",
    "위의 [context] 정보 내에서 [질의]에 대해 상담사 입장에서 가장 관련성이 높은 메인 답변을 제공합니다.  \n",
    "1. 쿠션어로 시작하여 자연스럽고 연결감 있는 구어체로 작성합니다.  \n",
    "2. 항상 관련성이 높은 정보를 우선적으로 안내하되, 나머지 정보를 필요에 따라 참조합니다.  \n",
    "3. 필요할 경우에만 추가 요청을 포함하며, 문장은 온점으로 구분하여 간결하게 작성합니다.\n",
    "\n",
    "\"\"\"\n",
    "\n",
    "prompt = ChatPromptTemplate.from_template(template)\n",
    "\n",
    "llm = ChatGoogleGenerativeAI(model=\"gemini-1.5-flash\", temperature=0)\n",
    "\n",
    "def merge_pages(pages):\n",
    "    merged = \"\\n\\n\".join(page.page_content for page in pages)\n",
    "    return merged\n",
    "\n",
    "chain = (\n",
    "    {\"query\": RunnablePassthrough(), \"context\": retriever | merge_pages}\n",
    "    | prompt\n",
    "    | llm\n",
    "    | StrOutputParser()\n",
    ")\n",
    "\n",
    "answer = chain.invoke(query).replace('  ', ' ').split('.')\n",
    "print(\"Answer : \", end='')\n",
    "for ans in answer:\n",
    "    print(ans + '.')\n",
    "    "
   ]
  }
 ],
 "metadata": {
  "kernelspec": {
   "display_name": "final_P",
   "language": "python",
   "name": "python3"
  },
  "language_info": {
   "codemirror_mode": {
    "name": "ipython",
    "version": 3
   },
   "file_extension": ".py",
   "mimetype": "text/x-python",
   "name": "python",
   "nbconvert_exporter": "python",
   "pygments_lexer": "ipython3",
   "version": "3.10.0"
  }
 },
 "nbformat": 4,
 "nbformat_minor": 5
}
