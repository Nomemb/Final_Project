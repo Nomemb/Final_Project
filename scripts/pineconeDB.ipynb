{
 "cells": [
  {
   "cell_type": "code",
   "id": "initial_id",
   "metadata": {
    "collapsed": true,
    "ExecuteTime": {
     "end_time": "2024-12-18T05:16:58.088720Z",
     "start_time": "2024-12-18T05:16:55.790626Z"
    }
   },
   "source": [
    "import pandas as pd\n",
    "%pip install langchain langchain-core langchain-community langchain-text-splitters langchain-openai langchain-pinecone docx2txt"
   ],
   "outputs": [
    {
     "name": "stdout",
     "output_type": "stream",
     "text": [
      "Requirement already satisfied: langchain in c:\\users\\admin\\pycharmprojects\\chroma_db_test\\python310.venv\\lib\\site-packages (0.3.11)\n",
      "Requirement already satisfied: langchain-core in c:\\users\\admin\\pycharmprojects\\chroma_db_test\\python310.venv\\lib\\site-packages (0.3.25)\n",
      "Requirement already satisfied: langchain-community in c:\\users\\admin\\pycharmprojects\\chroma_db_test\\python310.venv\\lib\\site-packages (0.3.11)\n",
      "Requirement already satisfied: langchain-text-splitters in c:\\users\\admin\\pycharmprojects\\chroma_db_test\\python310.venv\\lib\\site-packages (0.3.3)\n",
      "Requirement already satisfied: langchain-openai in c:\\users\\admin\\pycharmprojects\\chroma_db_test\\python310.venv\\lib\\site-packages (0.2.12)\n",
      "Collecting langchain-pinecone\n",
      "  Downloading langchain_pinecone-0.2.0-py3-none-any.whl.metadata (1.7 kB)\n",
      "Requirement already satisfied: docx2txt in c:\\users\\admin\\pycharmprojects\\chroma_db_test\\python310.venv\\lib\\site-packages (0.8)\n",
      "Requirement already satisfied: PyYAML>=5.3 in c:\\users\\admin\\pycharmprojects\\chroma_db_test\\python310.venv\\lib\\site-packages (from langchain) (6.0.2)\n",
      "Requirement already satisfied: SQLAlchemy<3,>=1.4 in c:\\users\\admin\\pycharmprojects\\chroma_db_test\\python310.venv\\lib\\site-packages (from langchain) (2.0.36)\n",
      "Requirement already satisfied: aiohttp<4.0.0,>=3.8.3 in c:\\users\\admin\\pycharmprojects\\chroma_db_test\\python310.venv\\lib\\site-packages (from langchain) (3.11.10)\n",
      "Requirement already satisfied: async-timeout<5.0.0,>=4.0.0 in c:\\users\\admin\\pycharmprojects\\chroma_db_test\\python310.venv\\lib\\site-packages (from langchain) (4.0.3)\n",
      "Requirement already satisfied: langsmith<0.3,>=0.1.17 in c:\\users\\admin\\pycharmprojects\\chroma_db_test\\python310.venv\\lib\\site-packages (from langchain) (0.2.3)\n",
      "Requirement already satisfied: numpy<2,>=1.22.4 in c:\\users\\admin\\pycharmprojects\\chroma_db_test\\python310.venv\\lib\\site-packages (from langchain) (1.26.4)\n",
      "Requirement already satisfied: pydantic<3.0.0,>=2.7.4 in c:\\users\\admin\\pycharmprojects\\chroma_db_test\\python310.venv\\lib\\site-packages (from langchain) (2.10.3)\n",
      "Requirement already satisfied: requests<3,>=2 in c:\\users\\admin\\pycharmprojects\\chroma_db_test\\python310.venv\\lib\\site-packages (from langchain) (2.32.3)\n",
      "Requirement already satisfied: tenacity!=8.4.0,<10,>=8.1.0 in c:\\users\\admin\\pycharmprojects\\chroma_db_test\\python310.venv\\lib\\site-packages (from langchain) (9.0.0)\n",
      "Requirement already satisfied: jsonpatch<2.0,>=1.33 in c:\\users\\admin\\pycharmprojects\\chroma_db_test\\python310.venv\\lib\\site-packages (from langchain-core) (1.33)\n",
      "Requirement already satisfied: packaging<25,>=23.2 in c:\\users\\admin\\pycharmprojects\\chroma_db_test\\python310.venv\\lib\\site-packages (from langchain-core) (24.2)\n",
      "Requirement already satisfied: typing-extensions>=4.7 in c:\\users\\admin\\pycharmprojects\\chroma_db_test\\python310.venv\\lib\\site-packages (from langchain-core) (4.12.2)\n",
      "Requirement already satisfied: dataclasses-json<0.7,>=0.5.7 in c:\\users\\admin\\pycharmprojects\\chroma_db_test\\python310.venv\\lib\\site-packages (from langchain-community) (0.6.7)\n",
      "Requirement already satisfied: httpx-sse<0.5.0,>=0.4.0 in c:\\users\\admin\\pycharmprojects\\chroma_db_test\\python310.venv\\lib\\site-packages (from langchain-community) (0.4.0)\n",
      "Requirement already satisfied: pydantic-settings<3.0.0,>=2.4.0 in c:\\users\\admin\\pycharmprojects\\chroma_db_test\\python310.venv\\lib\\site-packages (from langchain-community) (2.6.1)\n",
      "Requirement already satisfied: openai<2.0.0,>=1.55.3 in c:\\users\\admin\\pycharmprojects\\chroma_db_test\\python310.venv\\lib\\site-packages (from langchain-openai) (1.57.3)\n",
      "Requirement already satisfied: tiktoken<1,>=0.7 in c:\\users\\admin\\pycharmprojects\\chroma_db_test\\python310.venv\\lib\\site-packages (from langchain-openai) (0.8.0)\n",
      "Collecting aiohttp<4.0.0,>=3.8.3 (from langchain)\n",
      "  Downloading aiohttp-3.9.5-cp310-cp310-win_amd64.whl.metadata (7.7 kB)\n",
      "Requirement already satisfied: pinecone-client<6.0.0,>=5.0.0 in c:\\users\\admin\\pycharmprojects\\chroma_db_test\\python310.venv\\lib\\site-packages (from langchain-pinecone) (5.0.1)\n",
      "Requirement already satisfied: aiosignal>=1.1.2 in c:\\users\\admin\\pycharmprojects\\chroma_db_test\\python310.venv\\lib\\site-packages (from aiohttp<4.0.0,>=3.8.3->langchain) (1.3.1)\n",
      "Requirement already satisfied: attrs>=17.3.0 in c:\\users\\admin\\pycharmprojects\\chroma_db_test\\python310.venv\\lib\\site-packages (from aiohttp<4.0.0,>=3.8.3->langchain) (24.2.0)\n",
      "Requirement already satisfied: frozenlist>=1.1.1 in c:\\users\\admin\\pycharmprojects\\chroma_db_test\\python310.venv\\lib\\site-packages (from aiohttp<4.0.0,>=3.8.3->langchain) (1.5.0)\n",
      "Requirement already satisfied: multidict<7.0,>=4.5 in c:\\users\\admin\\pycharmprojects\\chroma_db_test\\python310.venv\\lib\\site-packages (from aiohttp<4.0.0,>=3.8.3->langchain) (6.1.0)\n",
      "Requirement already satisfied: yarl<2.0,>=1.0 in c:\\users\\admin\\pycharmprojects\\chroma_db_test\\python310.venv\\lib\\site-packages (from aiohttp<4.0.0,>=3.8.3->langchain) (1.18.3)\n",
      "Requirement already satisfied: marshmallow<4.0.0,>=3.18.0 in c:\\users\\admin\\pycharmprojects\\chroma_db_test\\python310.venv\\lib\\site-packages (from dataclasses-json<0.7,>=0.5.7->langchain-community) (3.23.1)\n",
      "Requirement already satisfied: typing-inspect<1,>=0.4.0 in c:\\users\\admin\\pycharmprojects\\chroma_db_test\\python310.venv\\lib\\site-packages (from dataclasses-json<0.7,>=0.5.7->langchain-community) (0.9.0)\n",
      "Requirement already satisfied: jsonpointer>=1.9 in c:\\users\\admin\\pycharmprojects\\chroma_db_test\\python310.venv\\lib\\site-packages (from jsonpatch<2.0,>=1.33->langchain-core) (3.0.0)\n",
      "Requirement already satisfied: httpx<1,>=0.23.0 in c:\\users\\admin\\pycharmprojects\\chroma_db_test\\python310.venv\\lib\\site-packages (from langsmith<0.3,>=0.1.17->langchain) (0.28.1)\n",
      "Requirement already satisfied: orjson<4.0.0,>=3.9.14 in c:\\users\\admin\\pycharmprojects\\chroma_db_test\\python310.venv\\lib\\site-packages (from langsmith<0.3,>=0.1.17->langchain) (3.10.12)\n",
      "Requirement already satisfied: requests-toolbelt<2.0.0,>=1.0.0 in c:\\users\\admin\\pycharmprojects\\chroma_db_test\\python310.venv\\lib\\site-packages (from langsmith<0.3,>=0.1.17->langchain) (1.0.0)\n",
      "Requirement already satisfied: anyio<5,>=3.5.0 in c:\\users\\admin\\pycharmprojects\\chroma_db_test\\python310.venv\\lib\\site-packages (from openai<2.0.0,>=1.55.3->langchain-openai) (4.7.0)\n",
      "Requirement already satisfied: distro<2,>=1.7.0 in c:\\users\\admin\\pycharmprojects\\chroma_db_test\\python310.venv\\lib\\site-packages (from openai<2.0.0,>=1.55.3->langchain-openai) (1.9.0)\n",
      "Requirement already satisfied: jiter<1,>=0.4.0 in c:\\users\\admin\\pycharmprojects\\chroma_db_test\\python310.venv\\lib\\site-packages (from openai<2.0.0,>=1.55.3->langchain-openai) (0.8.2)\n",
      "Requirement already satisfied: sniffio in c:\\users\\admin\\pycharmprojects\\chroma_db_test\\python310.venv\\lib\\site-packages (from openai<2.0.0,>=1.55.3->langchain-openai) (1.3.1)\n",
      "Requirement already satisfied: tqdm>4 in c:\\users\\admin\\pycharmprojects\\chroma_db_test\\python310.venv\\lib\\site-packages (from openai<2.0.0,>=1.55.3->langchain-openai) (4.67.1)\n",
      "Requirement already satisfied: certifi>=2019.11.17 in c:\\users\\admin\\pycharmprojects\\chroma_db_test\\python310.venv\\lib\\site-packages (from pinecone-client<6.0.0,>=5.0.0->langchain-pinecone) (2024.8.30)\n",
      "Requirement already satisfied: pinecone-plugin-inference<2.0.0,>=1.0.3 in c:\\users\\admin\\pycharmprojects\\chroma_db_test\\python310.venv\\lib\\site-packages (from pinecone-client<6.0.0,>=5.0.0->langchain-pinecone) (1.1.0)\n",
      "Requirement already satisfied: pinecone-plugin-interface<0.0.8,>=0.0.7 in c:\\users\\admin\\pycharmprojects\\chroma_db_test\\python310.venv\\lib\\site-packages (from pinecone-client<6.0.0,>=5.0.0->langchain-pinecone) (0.0.7)\n",
      "Requirement already satisfied: urllib3>=1.26.0 in c:\\users\\admin\\pycharmprojects\\chroma_db_test\\python310.venv\\lib\\site-packages (from pinecone-client<6.0.0,>=5.0.0->langchain-pinecone) (2.2.3)\n",
      "Requirement already satisfied: annotated-types>=0.6.0 in c:\\users\\admin\\pycharmprojects\\chroma_db_test\\python310.venv\\lib\\site-packages (from pydantic<3.0.0,>=2.7.4->langchain) (0.7.0)\n",
      "Requirement already satisfied: pydantic-core==2.27.1 in c:\\users\\admin\\pycharmprojects\\chroma_db_test\\python310.venv\\lib\\site-packages (from pydantic<3.0.0,>=2.7.4->langchain) (2.27.1)\n",
      "Requirement already satisfied: python-dotenv>=0.21.0 in c:\\users\\admin\\pycharmprojects\\chroma_db_test\\python310.venv\\lib\\site-packages (from pydantic-settings<3.0.0,>=2.4.0->langchain-community) (1.0.1)\n",
      "Requirement already satisfied: charset-normalizer<4,>=2 in c:\\users\\admin\\pycharmprojects\\chroma_db_test\\python310.venv\\lib\\site-packages (from requests<3,>=2->langchain) (3.4.0)\n",
      "Requirement already satisfied: idna<4,>=2.5 in c:\\users\\admin\\pycharmprojects\\chroma_db_test\\python310.venv\\lib\\site-packages (from requests<3,>=2->langchain) (3.10)\n",
      "Requirement already satisfied: greenlet!=0.4.17 in c:\\users\\admin\\pycharmprojects\\chroma_db_test\\python310.venv\\lib\\site-packages (from SQLAlchemy<3,>=1.4->langchain) (3.1.1)\n",
      "Requirement already satisfied: regex>=2022.1.18 in c:\\users\\admin\\pycharmprojects\\chroma_db_test\\python310.venv\\lib\\site-packages (from tiktoken<1,>=0.7->langchain-openai) (2024.11.6)\n",
      "Requirement already satisfied: exceptiongroup>=1.0.2 in c:\\users\\admin\\pycharmprojects\\chroma_db_test\\python310.venv\\lib\\site-packages (from anyio<5,>=3.5.0->openai<2.0.0,>=1.55.3->langchain-openai) (1.2.2)\n",
      "Requirement already satisfied: httpcore==1.* in c:\\users\\admin\\pycharmprojects\\chroma_db_test\\python310.venv\\lib\\site-packages (from httpx<1,>=0.23.0->langsmith<0.3,>=0.1.17->langchain) (1.0.7)\n",
      "Requirement already satisfied: h11<0.15,>=0.13 in c:\\users\\admin\\pycharmprojects\\chroma_db_test\\python310.venv\\lib\\site-packages (from httpcore==1.*->httpx<1,>=0.23.0->langsmith<0.3,>=0.1.17->langchain) (0.14.0)\n",
      "Requirement already satisfied: colorama in c:\\users\\admin\\pycharmprojects\\chroma_db_test\\python310.venv\\lib\\site-packages (from tqdm>4->openai<2.0.0,>=1.55.3->langchain-openai) (0.4.6)\n",
      "Requirement already satisfied: mypy-extensions>=0.3.0 in c:\\users\\admin\\pycharmprojects\\chroma_db_test\\python310.venv\\lib\\site-packages (from typing-inspect<1,>=0.4.0->dataclasses-json<0.7,>=0.5.7->langchain-community) (1.0.0)\n",
      "Requirement already satisfied: propcache>=0.2.0 in c:\\users\\admin\\pycharmprojects\\chroma_db_test\\python310.venv\\lib\\site-packages (from yarl<2.0,>=1.0->aiohttp<4.0.0,>=3.8.3->langchain) (0.2.1)\n",
      "Downloading langchain_pinecone-0.2.0-py3-none-any.whl (11 kB)\n",
      "Downloading aiohttp-3.9.5-cp310-cp310-win_amd64.whl (370 kB)\n",
      "Installing collected packages: aiohttp, langchain-pinecone\n",
      "  Attempting uninstall: aiohttp\n",
      "    Found existing installation: aiohttp 3.11.10\n",
      "    Uninstalling aiohttp-3.11.10:\n",
      "      Successfully uninstalled aiohttp-3.11.10\n",
      "Successfully installed aiohttp-3.9.5 langchain-pinecone-0.2.0\n",
      "Note: you may need to restart the kernel to use updated packages.\n"
     ]
    }
   ],
   "execution_count": 1
  },
  {
   "metadata": {},
   "cell_type": "code",
   "outputs": [],
   "execution_count": 1,
   "source": [
<<<<<<< HEAD
    "GPT_API_KEY = 'your_gpt_api_key'\n",
=======
>>>>>>> abfe557868bbb8ec1d2a4e2ffe60f962a7293199
    "UPSTAGE_API_KEY = 'your_upstage_api_key'\n",
    "PINECONE_API_KEY = 'your_pinecone_api_key'"
   ],
   "id": "4f6218586b0a150d"
  },
  {
   "metadata": {
    "ExecuteTime": {
     "end_time": "2025-01-04T01:09:00.377569Z",
     "start_time": "2025-01-04T01:08:58.775239Z"
    }
   },
   "cell_type": "code",
   "source": [
    "import os\n",
    "from langchain_upstage import UpstageEmbeddings\n",
    "from langchain_text_splitters import RecursiveCharacterTextSplitter\n",
    "from langchain_community.document_loaders.csv_loader import CSVLoader\n",
    "from pprint import pprint\n",
    "\n",
<<<<<<< HEAD
    "os.environ[\"GPT_API_KEY\"] = GPT_API_KEY\n",
=======
    "\n",
>>>>>>> abfe557868bbb8ec1d2a4e2ffe60f962a7293199
    "os.environ[\"UPSTAGE_API_KEY\"] = UPSTAGE_API_KEY\n",
    "os.environ[\"PINECONE_API_KEY\"] = PINECONE_API_KEY\n",
    "\n",
    "text_splitter = RecursiveCharacterTextSplitter(\n",
    "    chunk_size=1500,\n",
    "    chunk_overlap=200,\n",
    ")"
   ],
   "id": "10da07f7226e7b6",
   "outputs": [],
   "execution_count": 2
  },
  {
   "metadata": {
    "ExecuteTime": {
<<<<<<< HEAD
=======
     "end_time": "2025-01-04T01:09:00.393765Z",
     "start_time": "2025-01-04T01:09:00.378571Z"
    }
   },
   "cell_type": "code",
   "source": "os.getenv(\"PINECONE_API_KEY\")",
   "id": "6984d6cc7df14210",
   "outputs": [
    {
     "data": {
      "text/plain": [
       "'pcsk_4HNQCj_CZzYY8UkqVpPCjzPN5FJsa7BbP88nJtbn5pU6XR9odGL32CGTAA2Hmn7DGSYZHN'"
      ]
     },
     "execution_count": 3,
     "metadata": {},
     "output_type": "execute_result"
    }
   ],
   "execution_count": 3
  },
  {
   "metadata": {
    "ExecuteTime": {
>>>>>>> abfe557868bbb8ec1d2a4e2ffe60f962a7293199
     "end_time": "2024-12-30T10:01:56.718761Z",
     "start_time": "2024-12-30T10:01:56.704649Z"
    }
   },
   "cell_type": "code",
   "source": "folder_path = '../data'",
   "id": "c493976160090709",
   "outputs": [],
   "execution_count": 13
  },
  {
   "metadata": {
    "ExecuteTime": {
     "end_time": "2024-12-30T10:02:01.024673Z",
     "start_time": "2024-12-30T10:02:01.000327Z"
    }
   },
   "cell_type": "code",
   "source": [
    "document_list = []\n",
    "\n",
    "for file in os.listdir(folder_path):\n",
    "    print(file)\n",
    "    temp_loader = CSVLoader(file_path=f\"{folder_path}/{file}\", encoding='utf-8-sig')\n",
    "    temp_document_list = temp_loader.load_and_split(text_splitter=text_splitter)\n",
    "    \n",
    "    document_list.extend(temp_document_list)\n",
    "\n",
    "print(len(document_list))"
   ],
   "id": "86175e1843b29943",
   "outputs": [
    {
     "name": "stdout",
     "output_type": "stream",
     "text": [
      "CANCEL_main_qna_list.csv\n",
      "DELIVERY_main_qna_list.csv\n",
      "ORDER_main_qna_list.csv\n",
      "REFUND_main_qna_list.csv\n",
      "SUB_qna_list.csv\n",
      "309\n"
     ]
    }
   ],
   "execution_count": 14
  },
  {
   "metadata": {
    "ExecuteTime": {
     "end_time": "2025-01-04T01:09:06.448010Z",
     "start_time": "2025-01-04T01:09:05.936470Z"
    }
   },
   "cell_type": "code",
   "source": [
    "# Upstage 에서 제공하는 Embedding Model을 활용\n",
    "embedding = UpstageEmbeddings(model=\"solar-embedding-1-large\",\n",
    "                              api_key=UPSTAGE_API_KEY)"
   ],
   "id": "7719061b6dab8d39",
   "outputs": [],
   "execution_count": 4
  },
  {
   "metadata": {
    "ExecuteTime": {
     "end_time": "2025-01-04T01:09:11.978940Z",
     "start_time": "2025-01-04T01:09:11.524428Z"
    }
   },
   "cell_type": "code",
   "source": [
    "from langchain_pinecone import PineconeVectorStore\n",
    "\n",
    "\n",
    "index_name = 'upstage-index'"
   ],
   "id": "5888d34b4e41a2d8",
   "outputs": [],
   "execution_count": 6
  },
  {
   "metadata": {},
   "cell_type": "code",
   "outputs": [],
   "execution_count": null,
   "source": [
    "# DB 처음 만들 때\n",
    "database = PineconeVectorStore.from_documents(document_list, embedding, index_name=index_name)\n"
   ],
   "id": "23399523e40f7306"
  },
  {
   "metadata": {
    "ExecuteTime": {
     "end_time": "2025-01-04T01:09:15.404288Z",
     "start_time": "2025-01-04T01:09:13.088429Z"
    }
   },
   "cell_type": "code",
   "source": [
    "# 만들어 놓은 DB가 있을 때\n",
    "database = PineconeVectorStore.from_existing_index(index_name=index_name, embedding=embedding)"
   ],
   "id": "3e740ffcf8368014",
   "outputs": [],
   "execution_count": 7
  },
  {
   "metadata": {},
   "cell_type": "markdown",
   "source": "# Vectorstore 유사도 검색",
   "id": "41e7d72561431bf2"
  },
  {
   "metadata": {
    "ExecuteTime": {
     "end_time": "2025-01-04T01:41:19.846034Z",
     "start_time": "2025-01-04T01:41:17.991659Z"
    }
   },
   "cell_type": "code",
   "source": [
    "query = ('회수가 불필요한 상품')\n",
    "\n",
    "results = database.similarity_search_with_score(query=query, k=3)\n",
    "for doc, score in results:\n",
    "    print(f\"* [SIM={score:3f}] {doc.page_content} [{doc.metadata}]\")\n",
    "    "
   ],
   "id": "e86e50ac276f7496",
   "outputs": [
    {
     "name": "stdout",
     "output_type": "stream",
     "text": [
      "* [SIM=0.325260] : 1\n",
      "Question: Q[반품] 상품의 포장을 훼손했는데 반품할 수 있나요?\n",
      "Answer: 상품의 포장도 상품의 가치 중 하나로 인정받는 상품이 있습니다. 이러한 상품의 포장이 훼손되어 상품의 가치가 감소했다면 단순 변심에 의한 반품이 불가합니다. 예를 들어 의류의 태그 신발의 박스 전자제품의 박스와 비닐이 훼손 및 누락된 경우 등이 해당합니다. 상품 회수 후 검수 단계에서 이러한 문제가 발견되면 고객님께 연락을 드릴 수 있으며 반품이 불가한 상품은 다시 반송해 드립니다. 상품별 반품 세부내용은 상품 상세페이지를 확인해 주시기 바랍니다.\n",
      " 이와 별도로 상품의 포장이 아닌 택배의 박스나 비닐이 훼손된 경우 배송직원 또는 택배기사가 상품을 회수할 수 있도록 다른 박스에 재포장하여 반품해 주시기 바랍니다.\n",
      " 반품 신청하기\n",
      "마이쿠팡 → 주문목록 → 상품선택 → [교환 반품 신청] \n",
      "이후 각 단계에 해당하는 항목을 선택하여 신청을 완료합니다.\n",
      " 교환/반품 제한사항 (클릭)\n",
      "keywords: CANCEL\n",
      "count: 0 [{'row': 1.0, 'source': '../data/CANCEL_main_qna_list.csv'}]\n",
      "* [SIM=0.321732] : 32\n",
      "Question: Q[회수] 교환/반품 회수지를 변경하고 싶습니다.\n",
      "Answer: 교환/반품 신청 후\n",
      "교환/반품 신청을 완료한 후에는 회수지 변경이 불가합니다. 단 교환/반품이 아직 진행되지 않았다면 먼저 교환/반품 신청을 철회해 주세요. 그다음 교환/반품을 다시 신청하면서 회수지를 변경하면 됩니다.  \n",
      " ※ 교환/반품 철회하기\n",
      "마이쿠팡 → 취소/반품/교환/환불내역 → 상품선택 → [반품 상세] → [반품 철회]\n",
      " 교환/반품 신청 전\n",
      "마이쿠팡에서 교환/반품을 신청할 때 상품 회수지를 직접 변경할 수 있습니다.\n",
      "keywords: CANCEL\n",
      "count: 0 [{'row': 32.0, 'source': '../data/CANCEL_main_qna_list.csv'}]\n",
      "* [SIM=0.316488] : 29\n",
      "Question: Q[회수] 회수 예정일을 지정할 수 있나요?\n",
      "Answer: 회수 예정일 선택 및 지정 여부는 상품 유형과 접수 경로에 따라 다릅니다. 반품 신청 및 접수 단계에서 회수 예정일을 선택할 수 있는 옵션이 노출되는 경우에만 날짜를 지정할 수 있습니다. 이외에는 회수 예정일을 선택 및 지정할 수 없습니다.\n",
      " 로켓배송 상품\n",
      "• 고객센터를 통해 접수할 경우 : 회수 예정일 선택 불가\n",
      "• 마이쿠팡을 통해 직접 접수할 경우 : 회수 예정일 선택 가능\n",
      " ※ 회수 예정일 선택 시 유의사항\n",
      "－옵션에 노출되는 날짜 이내에만 선택 가능 \n",
      "－반품 시에만 선택 가능 (교환은 불가)\n",
      "－도서산간 지역 등 일부 지역은 불가\n",
      " 로켓직구 판매자 배송 상품\n",
      "회수 예정일을 선택 및 지정할 수 없습니다.\n",
      " 반품 접수 후 회수 일정 안내 (클릭)\n",
      "keywords: CANCEL\n",
      "count: 0 [{'row': 29.0, 'source': '../data/CANCEL_main_qna_list.csv'}]\n"
     ]
    }
   ],
   "execution_count": 18
  },
  {
   "metadata": {},
   "cell_type": "markdown",
   "source": "# LLM 질의 테스트",
   "id": "f9e6e31fe66017cf"
  },
  {
   "metadata": {
    "ExecuteTime": {
     "end_time": "2025-01-04T01:50:56.945106Z",
     "start_time": "2025-01-04T01:50:51.756239Z"
    }
   },
   "cell_type": "code",
   "source": [
    "from langchain.prompts import ChatPromptTemplate\n",
    "from langchain_google_genai import ChatGoogleGenerativeAI\n",
    "from langchain_core.output_parsers import StrOutputParser\n",
    "from langchain_core.runnables import RunnablePassthrough\n",
    "\n",
    "retriever = database.as_retriever(\n",
    "    search_type=\"mmr\", search_kwargs={\"k\": 3, \"fetch_k\": 5}\n",
    ")\n",
    "\n",
    "template = \"\"\"\n",
    "[context]: {context}\n",
    "---\n",
    "[질의]: {query}\n",
    "\n",
    "위의 [context] 정보 내에서 [질의]에 대해 상담사 입장에서 사용자가 만족할 수 있을 정도로 성의있게 답하세요.\n",
    "단, [context] 정보에 없는 내용을 답해서는 안됩니다. 최대한 문장을 쉼표로 끊어서 대답하기 보다는, 온점으로 문장을 끊어주세요.\n",
    "이 모든 정보를 종합해서 2~3줄의 구어체로 답해주세요.\n",
    "\n",
    "\"\"\"\n",
    "prompt = ChatPromptTemplate.from_template(template)\n",
    "\n",
    "llm = ChatGoogleGenerativeAI(model=\"gemini-1.5-flash\", temperature=0)\n",
    "\n",
    "def merge_pages(pages):\n",
    "    merged = \"\\n\\n\".join(page.page_content for page in pages)\n",
    "    return merged\n",
    "\n",
    "chain = (\n",
    "    {\"query\": RunnablePassthrough(), \"context\": retriever | merge_pages}\n",
    "    | prompt\n",
    "    | llm\n",
    "    | StrOutputParser()\n",
    ")\n",
    "\n",
    "answer = chain.invoke(\"상품의 상태를 확인\").replace('  ', ' ').split('.')\n",
    "print(\"Answer : \", end='')\n",
    "for ans in answer:\n",
    "    print(ans + '.')"
   ],
   "id": "35eeee402a11d206",
   "outputs": [
    {
     "name": "stdout",
     "output_type": "stream",
     "text": [
      "Answer : 상품의 상태는 주문 종류에 따라 다르게 확인할 수 있어요.\n",
      " 배송 상품이라면 주문 목록에서 '배송조회'를 통해 결제완료부터 배송완료까지 단계별로 확인 가능하고, 티켓 상품이라면 '미사용', '사용완료', '유효기간만료' 중 어떤 상태인지 확인할 수 있답니다.\n",
      " 반품하신 상품의 경우에는 마이쿠팡에서 취소/반품/교환/환불 내역을 통해 회수 현황을 확인하실 수 있어요.\n",
      "\n",
      ".\n"
     ]
    }
   ],
   "execution_count": 21
  },
  {
   "metadata": {},
   "cell_type": "code",
   "outputs": [],
   "execution_count": null,
   "source": "",
   "id": "a85500367870cbbe"
  }
 ],
 "metadata": {
  "kernelspec": {
   "display_name": "Python 3",
   "language": "python",
   "name": "python3"
  },
  "language_info": {
   "codemirror_mode": {
    "name": "ipython",
    "version": 2
   },
   "file_extension": ".py",
   "mimetype": "text/x-python",
   "name": "python",
   "nbconvert_exporter": "python",
   "pygments_lexer": "ipython2",
   "version": "2.7.6"
  }
 },
 "nbformat": 4,
 "nbformat_minor": 5
}
