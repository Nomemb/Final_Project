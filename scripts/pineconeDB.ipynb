{
 "cells": [
  {
   "cell_type": "code",
   "execution_count": null,
   "id": "initial_id",
   "metadata": {
    "ExecuteTime": {
     "end_time": "2024-12-18T05:16:58.088720Z",
     "start_time": "2024-12-18T05:16:55.790626Z"
    },
    "collapsed": true
   },
   "outputs": [],
   "source": [
    "%pip install pandas langchain langchain-core langchain-community langchain-text-splitters langchain-openai langchain-pinecone docx2txt langchain_upstage"
   ]
  },
  {
   "cell_type": "code",
   "id": "b9f0fbfbfdd1f0ad",
   "metadata": {
    "ExecuteTime": {
     "end_time": "2025-01-09T01:24:06.432441Z",
     "start_time": "2025-01-09T01:24:05.466607Z"
    }
   },
   "source": [
    "import os\n",
    "import pandas as pd\n",
    "from langchain_upstage import UpstageEmbeddings\n",
    "from langchain_text_splitters import RecursiveCharacterTextSplitter\n",
    "from langchain_community.document_loaders.csv_loader import CSVLoader\n",
    "from dotenv import load_dotenv\n",
    "from pprint import pprint\n",
    "\n",
    "load_dotenv()\n",
    "\n",
    "GPT_API_KEY = os.environ[\"GPT_API_KEY\"]\n",
    "PINECONE_API_KEY = os.environ[\"PINECONE_API_KEY\"]\n",
    "UPSTAGE_API_KEY = os.environ[\"UPSTAGE_API_KEY\"]\n",
    "\n",
    "text_splitter = RecursiveCharacterTextSplitter(\n",
    "    chunk_size=1500,\n",
    "    chunk_overlap=200,\n",
    ")"
   ],
   "outputs": [],
   "execution_count": 2
  },
  {
   "metadata": {},
   "cell_type": "code",
   "outputs": [],
   "execution_count": null,
   "source": "folder_path = '../data'",
   "id": "6c19289eb785cad9"
  },
  {
   "metadata": {},
   "cell_type": "code",
   "outputs": [],
   "execution_count": null,
   "source": [
    "document_list = []\n",
    "\n",
    "for file in os.listdir(folder_path):\n",
    "    print(file)\n",
    "    temp_loader = CSVLoader(file_path=f\"{folder_path}/{file}\", encoding='utf-8-sig')\n",
    "    temp_document_list = temp_loader.load_and_split(text_splitter=text_splitter)\n",
    "    \n",
    "    document_list.extend(temp_document_list)\n",
    "\n",
    "print(len(document_list))"
   ],
   "id": "6f380ad09762a365"
  },
  {
   "metadata": {
    "ExecuteTime": {
     "end_time": "2025-01-09T01:24:08.864434Z",
     "start_time": "2025-01-09T01:24:08.347655Z"
    }
   },
   "cell_type": "code",
   "source": [
    "# Upstage 에서 제공하는 Embedding Model을 활용\n",
    "embedding = UpstageEmbeddings(model=\"solar-embedding-1-large\",\n",
    "                              api_key=UPSTAGE_API_KEY)"
   ],
   "id": "be17f5a512b2346f",
   "outputs": [],
   "execution_count": 3
  },
  {
   "metadata": {
    "ExecuteTime": {
     "end_time": "2025-01-09T01:24:09.883155Z",
     "start_time": "2025-01-09T01:24:09.779843Z"
    }
   },
   "cell_type": "code",
   "source": [
    "from langchain_pinecone import PineconeVectorStore\n",
    "\n",
    "index_name = 'upstage-index'"
   ],
   "id": "c5d07f02320146c3",
   "outputs": [],
   "execution_count": 4
  },
  {
   "cell_type": "code",
   "execution_count": null,
   "id": "5dfc1d543ad32080",
   "metadata": {},
   "outputs": [],
   "source": [
    "# DB 처음 만들 때\n",
    "database = PineconeVectorStore.from_documents(document_list, embedding, index_name=index_name)\n"
   ]
  },
  {
   "metadata": {
    "ExecuteTime": {
     "end_time": "2025-01-09T01:24:12.993868Z",
     "start_time": "2025-01-09T01:24:11.183014Z"
    }
   },
   "cell_type": "code",
   "source": [
    "# 만들어 놓은 DB가 있을 때\n",
    "database = PineconeVectorStore.from_existing_index(index_name=index_name, embedding=embedding)"
   ],
   "id": "9d9c8e1799dea064",
   "outputs": [],
   "execution_count": 5
  },
  {
   "cell_type": "markdown",
   "source": "# Vectorstore 유사도 검색",
   "id": "f9b901d1c08e69c0",
   "metadata": {}
  },
  {
   "metadata": {},
   "cell_type": "code",
   "outputs": [],
   "execution_count": null,
   "source": [
    "query = '결제 후 주문 취소가 가능한가요?'\n",
    "\n",
    "results = database.similarity_search_with_score(query=query, k=3)\n",
    "for doc, score in results:\n",
    "    print(f\"* [SIM={score:3f}] {doc.page_content} [{doc.metadata}]\")\n",
    "    "
   ],
   "id": "130715d5f45c8266"
  },
  {
   "metadata": {},
   "cell_type": "code",
   "outputs": [],
   "execution_count": null,
   "source": [
    "legacy_template = \"\"\"\n",
    "[context]: {context}\n",
    "---\n",
    "[질의]: {query}\n",
    "위의 [context] 정보 내에서 [질의]에 대해 상담사 입장에서 사용자가 만족할 수 있을 정도로 성의있게 답하세요.\n",
    "단, [context] 정보에 없는 내용을 답해서는 안됩니다. 최대한 문장을 쉼표로 끊어서 대답하기 보다는, 온점으로 문장을 끊어주세요.\n",
    "이 모든 정보를 종합해서 2~3줄의 구어체로 답해주세요.\n",
    "\"\"\""
   ],
   "id": "3478616db13fabeb"
  },
  {
   "cell_type": "markdown",
   "source": "# LLM 질의 테스트",
   "id": "b4b635c5c5602fb0",
   "metadata": {}
  },
  {
   "metadata": {
    "ExecuteTime": {
     "end_time": "2025-01-09T01:34:09.035871Z",
     "start_time": "2025-01-09T01:34:08.982874Z"
    }
   },
   "cell_type": "code",
   "source": [
    "from langchain.prompts import ChatPromptTemplate\n",
    "from langchain_google_genai import ChatGoogleGenerativeAI\n",
    "from langchain_core.output_parsers import StrOutputParser\n",
    "from langchain_core.runnables import RunnablePassthrough\n",
    "\n",
    "retriever = database.as_retriever(\n",
    "    search_type=\"mmr\", search_kwargs={\"k\": 3, \"fetch_k\": 5}\n",
    ")\n",
    "\n",
    "template = \"\"\"\n",
    "[context]: {context}\n",
    "---\n",
    "[질의]: {query}\n",
    "\n",
    "7년 이상의 경력을 가진 상담사라고 생각하고, 위의 [context] 정보 내에서 [질의]에 대해 상담사 입장에서 사용자가 만족할 수 있을 정도로 성의있게 답해주세요.\n",
    "최대한 문장을 쉼표로 끊어서 대답하기 보다는 온점으로 문장을 끊어주세요. \n",
    "문장의 마무리는 '~요' 보다는 '~다'로 끝나는 쪽이 전문적으로 보입니다.\n",
    "\n",
    "또한, 상담사는 가능한 선에서 직접 확인+안내+해결을 도와주는 직원이므로 직접 확인 후 해결까지 돕는 방향으로 작성해 주세요.\n",
    "그리고, 사용자의 편의를 위해 서비스 특성 상 쿠션어를 사용하시면 좋습니다.\n",
    "쿠션어의 예시는 다음과 같습니다.\n",
    "예시)\n",
    "불편을 드려 죄송합니다.\n",
    "번거로우시겠지만~\n",
    "~하는 점 양해 부탁드립니다.\n",
    "~할 예정입니다.\n",
    "~를 부탁드립니다.\n",
    "\n",
    "위 사항들을 종합해서 2~3줄로 상담사가 활용하기 좋게 대본을 만들어 주세요.\n",
    "\n",
    "만약, 조건별로 안내 내용이 다른 경우\n",
    "1차 응대 (양해멘트 or 1차 안내 등) + 정보 확인 멘트로 대본을 구성하면 됩니다.\n",
    "정보 확인 멘트는 \"정확한 상담을 위해 주문하신 주문 번호 확인 부탁드립니다.\" 입니다.\n",
    "문서의 아래에 각 조건별 대응 방법을 기술해 주세요.\n",
    "\n",
    "단, 제일 중요한 것은 [context] 정보에 없는 내용을 답해서는 안됩니다. [context]에 정보가 없거나 문서들의 유사성이 0.2 이하로 떨어질 경우, \n",
    "\"문의주신 내용은 확인이 필요하여 지금 답변드리기 어려울 것 같습니다. 번거로우시겠지만 확인 후에 다시 연락드려도 괜찮을까요?\" 라고 답해주세요.\n",
    "\"\"\"\n",
    "\n",
    "prompt = ChatPromptTemplate.from_template(template)\n",
    "\n",
    "llm = ChatGoogleGenerativeAI(model=\"gemini-1.5-flash\", temperature=0)\n",
    "\n",
    "def merge_pages(pages):\n",
    "    merged = \"\\n\".join(page.page_content for page in pages)\n",
    "    return merged\n",
    "\n",
    "chain = (\n",
    "    {\"query\": RunnablePassthrough(), \"context\": retriever | merge_pages}\n",
    "    | prompt\n",
    "    | llm\n",
    "    | StrOutputParser()\n",
    ")\n",
    "\n",
    "    "
   ],
   "id": "7149543ec13c8e5f",
   "outputs": [],
   "execution_count": 22
  },
  {
   "metadata": {
    "ExecuteTime": {
     "end_time": "2025-01-09T01:29:11.029976Z",
     "start_time": "2025-01-09T01:29:06.270514Z"
    }
   },
   "cell_type": "code",
   "source": [
    "# 챗봇에 질의\n",
    "query = '박스가 파손되어 배송되었습니다.'\n",
    "\n",
    "answer = chain.invoke(query).replace('  ', ' ').split('.')\n",
    "print(\"Answer : \", end='')\n",
    "for ans in answer:  \n",
    "    print(ans + '.')"
   ],
   "id": "735da33e50d3439f",
   "outputs": [
    {
     "name": "stdout",
     "output_type": "stream",
     "text": [
      "Answer : 죄송합니다.\n",
      " 박스 파손으로 배송된 상품에 대해 불편을 드린 점 사과드립니다.\n",
      " 정확한 상담을 위해 주문하신 주문 번호 확인 부탁드립니다.\n",
      " 파손 정도와 사진을 첨부하여 마이쿠팡을 통해 교환/반품 신청을 도와드리겠습니다.\n",
      "\n",
      "\n",
      "\n",
      "**조건별 대응 방법:**\n",
      "\n",
      "* **파손 정도가 심하고 상품에도 손상이 있는 경우:** 고객님께서 촬영하신 사진과 함께 주문번호를 확인하여 마이쿠팡 교환/반품 신청을 안내하고, 신청이 어려울 경우 고객센터 연결을 통해 직접 신청을 지원합니다.\n",
      " 빠른 교환/반품 절차를 진행하여 불편을 최소화하도록 노력하겠습니다.\n",
      "\n",
      "\n",
      "* **파손 정도가 경미하고 상품에는 문제가 없는 경우:** 고객님께서 사진을 보내주시면 파손 정도를 확인하고, 교환/반품이 아닌 부분적인 배송비 할인 등의 보상 방안을 제시합니다.\n",
      " (단, [context]에 명시된 교환/반품 기준에 따라 교환/반품이 불가능할 수 있습니다.\n",
      ")\n",
      "\n",
      "* **파손 정도 확인이 어려운 경우:** 고객님께 사진 첨부를 요청하고, 사진 확인 후 위 두 가지 경우 중 하나의 대응 방안을 선택하여 안내합니다.\n",
      "\n",
      ".\n"
     ]
    }
   ],
   "execution_count": 17
  },
  {
   "metadata": {
    "ExecuteTime": {
     "end_time": "2025-01-09T01:34:12.206317Z",
     "start_time": "2025-01-09T01:34:11.279562Z"
    }
   },
   "cell_type": "code",
   "source": [
    "retriever_chain = (\n",
    "    retriever | merge_pages\n",
    ")\n",
    "\n",
    "ret = retriever_chain.invoke(query)\n",
    "print(f\"Answer: \", end='')\n",
    "print(ret)"
   ],
   "id": "a1a5b560bc10e386",
   "outputs": [
    {
     "name": "stdout",
     "output_type": "stream",
     "text": [
      "Answer: : 5\n",
      "Question: Q[상품파손] 배송 받은 상품이 파손되었어요.\n",
      "Answer: 상품이 파손되어 배송된 경우 정해진 기간 내에 교환 및 반품이 가능합니다. 마이쿠팡을 통해 교환 및 반품을 직접 신청해 주시거나 신청이 불가한 경우 고객센터로 연락 주시기 바랍니다. \n",
      " 교환/반품하기\n",
      "마이쿠팡 → 주문목록 → 상품선택 → [교환 반품신청] 클릭\n",
      "이후 각 단계에 해당하는 항목을 선택하여 신청을 완료합니다.\n",
      " 교환/반품 안내사항 (클릭)\n",
      " 파손에 의한 교환/반품 가능 기간 (클릭)\n",
      "keywords: DELIVERY\n",
      "count: 0\n",
      ": 60\n",
      "Question: Q[프레시백] 프레시백으로 주문했지만 박스나 비닐 포장으로 배송되는 경우도 있나요?\n",
      "Answer: 네 수박 계란 등 프레시백에 담기 어려운 상품은 박스나 비닐로 포장되어 배송될 수 있습니다.\n",
      "keywords: DELIVERY\n",
      "count: 0\n",
      "Question: 교환/반품 제한사항\n",
      "Answer: 공통사항\n",
      "• 주문제작 상품의 상품 제작이 이미 진행된 경우\n",
      "• 고객의 사용 시간 경과 일부 소비에 의하여 상품의 가치가 현저히 감소한 경우\n",
      "• 세트 상품 일부 사용 구성품을 분실하였거나 취급 부주의로 인한 파손/고장/오염으로 재판매 불가한 경우\n",
      "• 모니터 해상도의 차이로 인해 색상이나 이미지가 실제와 다르다고 고객의 단순 변심으로 무료 교환/반품을 요청하는 경우\n",
      "• 제조사의 사정(신모델 출시 부품가격 변동 등)에 의해 무료 교환/반품을 요청하는 경우\n",
      "• 해외배송 상품이 세관에 걸려있을 경우 (상품 수령 후 가능)\n",
      "• 해외배송 상품의 현지 사정이나 판매에 대한 가격 정책 등에 따라 제품의 가격 변동 사유로 인한 경우\n",
      " 의류/잡화/수입명품/계절상품/식품/화장품\n",
      "• 상품의 택(TAG) 및 라벨의 멸실 또는 훼손 상품의 사용 또는 훼손 구성품 누락으로 상품의 가치가 현저히 감소된 경우 \n",
      "• 신선/냉장/냉동 상품의 단순 변심의 경우\n",
      "• 뷰티 상품 이용 시 트러블(알레르기 붉은 반점 가려움 따가움 등)이 발생한 경우 진료 확인서 및 소견서 등을 증빙하면 환불이 가능(단 제반 비용 고객 부담)\n",
      " 전자/가전/설치상품\n",
      "• 설치 또는 사용하여 재판매가 어려운 경우\n",
      "• 원 상품의 박스(포장재)가 사용할 수 없는 정도로 파손이 된 경우\n",
      "• 개인 계정(Apple ID 등)으로 잠금을 해 두어 초기화가 불가능한 경우\n",
      "• 상품의 시리얼 넘버 유출로 내장된 소프트웨어의 가치가 감소한 경우(내비게이션 OS 시리얼이 적힌 PMP)\n",
      "• 홀로그램 등을 분리 분실 훼손하여 상품의 가치가 현저히 감소하여 재판매가 불가한 경우(노트북 데스크톱 PC 등)\n",
      " CD/DVD/게임/도서\n",
      "• 복제가 가능한 상품의 포장 등을 훼손한 경우\n",
      " 자동차용품\n",
      "• 상품을 개봉하여 장착한 이후 단순 변심인 경우\n",
      "keywords: SUB\n",
      "count: 0\n"
     ]
    }
   ],
   "execution_count": 23
  },
  {
   "metadata": {
    "ExecuteTime": {
     "end_time": "2025-01-09T01:34:48.572402Z",
     "start_time": "2025-01-09T01:34:48.564752Z"
    }
   },
   "cell_type": "code",
   "source": "print(ret)",
   "id": "9f39d2aea889ecd8",
   "outputs": [
    {
     "name": "stdout",
     "output_type": "stream",
     "text": [
      ": 5\n",
      "Question: Q[상품파손] 배송 받은 상품이 파손되었어요.\n",
      "Answer: 상품이 파손되어 배송된 경우 정해진 기간 내에 교환 및 반품이 가능합니다. 마이쿠팡을 통해 교환 및 반품을 직접 신청해 주시거나 신청이 불가한 경우 고객센터로 연락 주시기 바랍니다. \n",
      " 교환/반품하기\n",
      "마이쿠팡 → 주문목록 → 상품선택 → [교환 반품신청] 클릭\n",
      "이후 각 단계에 해당하는 항목을 선택하여 신청을 완료합니다.\n",
      " 교환/반품 안내사항 (클릭)\n",
      " 파손에 의한 교환/반품 가능 기간 (클릭)\n",
      "keywords: DELIVERY\n",
      "count: 0\n",
      ": 60\n",
      "Question: Q[프레시백] 프레시백으로 주문했지만 박스나 비닐 포장으로 배송되는 경우도 있나요?\n",
      "Answer: 네 수박 계란 등 프레시백에 담기 어려운 상품은 박스나 비닐로 포장되어 배송될 수 있습니다.\n",
      "keywords: DELIVERY\n",
      "count: 0\n",
      "Question: 교환/반품 제한사항\n",
      "Answer: 공통사항\n",
      "• 주문제작 상품의 상품 제작이 이미 진행된 경우\n",
      "• 고객의 사용 시간 경과 일부 소비에 의하여 상품의 가치가 현저히 감소한 경우\n",
      "• 세트 상품 일부 사용 구성품을 분실하였거나 취급 부주의로 인한 파손/고장/오염으로 재판매 불가한 경우\n",
      "• 모니터 해상도의 차이로 인해 색상이나 이미지가 실제와 다르다고 고객의 단순 변심으로 무료 교환/반품을 요청하는 경우\n",
      "• 제조사의 사정(신모델 출시 부품가격 변동 등)에 의해 무료 교환/반품을 요청하는 경우\n",
      "• 해외배송 상품이 세관에 걸려있을 경우 (상품 수령 후 가능)\n",
      "• 해외배송 상품의 현지 사정이나 판매에 대한 가격 정책 등에 따라 제품의 가격 변동 사유로 인한 경우\n",
      " 의류/잡화/수입명품/계절상품/식품/화장품\n",
      "• 상품의 택(TAG) 및 라벨의 멸실 또는 훼손 상품의 사용 또는 훼손 구성품 누락으로 상품의 가치가 현저히 감소된 경우 \n",
      "• 신선/냉장/냉동 상품의 단순 변심의 경우\n",
      "• 뷰티 상품 이용 시 트러블(알레르기 붉은 반점 가려움 따가움 등)이 발생한 경우 진료 확인서 및 소견서 등을 증빙하면 환불이 가능(단 제반 비용 고객 부담)\n",
      " 전자/가전/설치상품\n",
      "• 설치 또는 사용하여 재판매가 어려운 경우\n",
      "• 원 상품의 박스(포장재)가 사용할 수 없는 정도로 파손이 된 경우\n",
      "• 개인 계정(Apple ID 등)으로 잠금을 해 두어 초기화가 불가능한 경우\n",
      "• 상품의 시리얼 넘버 유출로 내장된 소프트웨어의 가치가 감소한 경우(내비게이션 OS 시리얼이 적힌 PMP)\n",
      "• 홀로그램 등을 분리 분실 훼손하여 상품의 가치가 현저히 감소하여 재판매가 불가한 경우(노트북 데스크톱 PC 등)\n",
      " CD/DVD/게임/도서\n",
      "• 복제가 가능한 상품의 포장 등을 훼손한 경우\n",
      " 자동차용품\n",
      "• 상품을 개봉하여 장착한 이후 단순 변심인 경우\n",
      "keywords: SUB\n",
      "count: 0\n"
     ]
    }
   ],
   "execution_count": 25
  },
  {
   "metadata": {},
   "cell_type": "markdown",
   "source": "# OLLAMA TEST",
   "id": "363722a47ac16cc9"
  },
  {
   "metadata": {},
   "cell_type": "code",
   "outputs": [],
   "execution_count": null,
   "source": [
    "from langchain.prompts import ChatPromptTemplate\n",
    "from langchain_google_genai import ChatGoogleGenerativeAI\n",
    "from langchain_core.output_parsers import StrOutputParser\n",
    "from langchain_core.runnables import RunnablePassthrough\n",
    "from langchain_ollama import ChatOllama\n",
    "\n",
    "retriever = database.as_retriever(\n",
    "    search_type=\"mmr\", search_kwargs={\"k\": 3, \"fetch_k\": 5}\n",
    ")\n",
    "\n",
    "template = \"\"\"\n",
    "[context]: {context}\n",
    "---\n",
    "[질의]: {query}\n",
    "\n",
    "7년 이상의 경력을 가진 상담사라고 생각하고, 위의 [context] 정보 내에서 [질의]에 대해 상담사 입장에서 사용자가 만족할 수 있을 정도로 성의있게 답해주세요.\n",
    "최대한 문장을 쉼표로 끊어서 대답하기 보다는 온점으로 문장을 끊어주세요. \n",
    "문장의 마무리는 '~요' 보다는 '~다'로 끝나는 쪽이 전문적으로 보입니다.\n",
    "또한, 상담사는 가능한 선에서 직접 확인+안내+해결을 도와주는 직원이므로 직접 확인 후 해결까지 돕는 방향으로 작성해 주세요.\n",
    "그리고, 사용자의 편의를 위해 서비스 특성 상 쿠션어를 사용하시면 좋습니다.\n",
    "\n",
    "쿠션어의 예시는 다음과 같습니다.\n",
    "예시)\n",
    "불편을 드려 죄송합니다.\n",
    "번거로우시겠지만~\n",
    "~하는 점 양해 부탁드립니다.\n",
    "~할 예정입니다.\n",
    "~를 부탁드립니다.\n",
    "\n",
    "위 사항들을 종합해서 2~3줄로 상담사가 활용하기 좋게 대본을 만들어 주세요.\n",
    "\n",
    "단, 제일 중요한 것은 [context] 정보에 없는 내용을 답해서는 안됩니다. [context]에 정보가 없거나 문서들의 유사성이 0.2 이하로 떨어질 경우, \"문의주신 내용은 확인이 필요하여 지금 답변드리기 어려울 것 같습니다. 번거로우시겠지만 확인 후에 다시 연락드려도 괜찮을까요?\" 라고 답해주세요.\n",
    "\"\"\"\n",
    "\n",
    "prompt = ChatPromptTemplate.from_template(template)\n",
    "\n",
    "llm = ChatOllama(\n",
    "    model=\"llama3.1:8b\"\n",
    ")\n",
    "\n",
    "def merge_pages(pages):\n",
    "    merged = \"\".join(page.page_content for page in pages)\n",
    "    return merged\n",
    "\n",
    "chain = (\n",
    "    {\"query\": RunnablePassthrough(), \"context\": retriever | merge_pages}\n",
    "    | prompt\n",
    "    | llm\n",
    "    | StrOutputParser()\n",
    ")\n",
    "# 유사도 보기\n",
    "# results = database.similarity_search_with_score(query=query, k=3)\n",
    "# pprint(results)\n",
    "query = '결제 후 주문 취소가 가능한가요?'\n",
    "results = database.similarity_search_with_score(query=query, k=3)\n",
    "pprint(results)\n",
    "\n",
    "print()\n",
    "answer = chain.invoke(query).replace('  ', ' ').split('.')\n",
    "print(\"Answer : \", end='')\n",
    "for ans in answer:  \n",
    "    print(ans + '.')\n",
    "    "
   ],
   "id": "cb7be6f438b8b0c"
  },
  {
   "metadata": {},
   "cell_type": "code",
   "outputs": [],
   "execution_count": null,
   "source": "",
   "id": "a85500367870cbbe"
  }
 ],
 "metadata": {
  "kernelspec": {
   "display_name": "llm-env",
   "language": "python",
   "name": "python3"
  },
  "language_info": {
   "codemirror_mode": {
    "name": "ipython",
    "version": 3
   },
   "file_extension": ".py",
   "mimetype": "text/x-python",
   "name": "python",
   "nbconvert_exporter": "python",
   "pygments_lexer": "ipython3",
   "version": "3.10.0"
  }
 },
 "nbformat": 4,
 "nbformat_minor": 5
}
