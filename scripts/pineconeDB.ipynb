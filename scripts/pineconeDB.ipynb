{
 "cells": [
  {
   "cell_type": "code",
   "execution_count": 3,
   "id": "initial_id",
   "metadata": {
    "ExecuteTime": {
     "end_time": "2024-12-18T05:16:58.088720Z",
     "start_time": "2024-12-18T05:16:55.790626Z"
    },
    "collapsed": true
   },
   "outputs": [
    {
     "name": "stdout",
     "output_type": "stream",
     "text": [
      "Requirement already satisfied: langchain in c:\\users\\admin\\anaconda3\\envs\\project_final\\lib\\site-packages (0.3.14)\n",
      "Requirement already satisfied: langchain-core in c:\\users\\admin\\anaconda3\\envs\\project_final\\lib\\site-packages (0.3.29)\n",
      "Requirement already satisfied: langchain-community in c:\\users\\admin\\anaconda3\\envs\\project_final\\lib\\site-packages (0.3.14)\n",
      "Requirement already satisfied: langchain-text-splitters in c:\\users\\admin\\anaconda3\\envs\\project_final\\lib\\site-packages (0.3.4)\n",
      "Requirement already satisfied: langchain-openai in c:\\users\\admin\\anaconda3\\envs\\project_final\\lib\\site-packages (0.2.14)\n",
      "Requirement already satisfied: langchain-pinecone in c:\\users\\admin\\anaconda3\\envs\\project_final\\lib\\site-packages (0.2.0)\n",
      "Requirement already satisfied: docx2txt in c:\\users\\admin\\anaconda3\\envs\\project_final\\lib\\site-packages (0.8)\n",
      "Requirement already satisfied: PyYAML>=5.3 in c:\\users\\admin\\anaconda3\\envs\\project_final\\lib\\site-packages (from langchain) (6.0.2)\n",
      "Requirement already satisfied: SQLAlchemy<3,>=1.4 in c:\\users\\admin\\anaconda3\\envs\\project_final\\lib\\site-packages (from langchain) (2.0.36)\n",
      "Requirement already satisfied: aiohttp<4.0.0,>=3.8.3 in c:\\users\\admin\\anaconda3\\envs\\project_final\\lib\\site-packages (from langchain) (3.9.5)\n",
      "Requirement already satisfied: async-timeout<5.0.0,>=4.0.0 in c:\\users\\admin\\anaconda3\\envs\\project_final\\lib\\site-packages (from langchain) (4.0.3)\n",
      "Requirement already satisfied: langsmith<0.3,>=0.1.17 in c:\\users\\admin\\anaconda3\\envs\\project_final\\lib\\site-packages (from langchain) (0.2.10)\n",
      "Requirement already satisfied: numpy<2,>=1.22.4 in c:\\users\\admin\\anaconda3\\envs\\project_final\\lib\\site-packages (from langchain) (1.26.4)\n",
      "Requirement already satisfied: pydantic<3.0.0,>=2.7.4 in c:\\users\\admin\\anaconda3\\envs\\project_final\\lib\\site-packages (from langchain) (2.10.4)\n",
      "Requirement already satisfied: requests<3,>=2 in c:\\users\\admin\\anaconda3\\envs\\project_final\\lib\\site-packages (from langchain) (2.32.3)\n",
      "Requirement already satisfied: tenacity!=8.4.0,<10,>=8.1.0 in c:\\users\\admin\\anaconda3\\envs\\project_final\\lib\\site-packages (from langchain) (9.0.0)\n",
      "Requirement already satisfied: jsonpatch<2.0,>=1.33 in c:\\users\\admin\\anaconda3\\envs\\project_final\\lib\\site-packages (from langchain-core) (1.33)\n",
      "Requirement already satisfied: packaging<25,>=23.2 in c:\\users\\admin\\anaconda3\\envs\\project_final\\lib\\site-packages (from langchain-core) (24.2)\n",
      "Requirement already satisfied: typing-extensions>=4.7 in c:\\users\\admin\\anaconda3\\envs\\project_final\\lib\\site-packages (from langchain-core) (4.12.2)\n",
      "Requirement already satisfied: dataclasses-json<0.7,>=0.5.7 in c:\\users\\admin\\anaconda3\\envs\\project_final\\lib\\site-packages (from langchain-community) (0.6.7)\n",
      "Requirement already satisfied: httpx-sse<0.5.0,>=0.4.0 in c:\\users\\admin\\anaconda3\\envs\\project_final\\lib\\site-packages (from langchain-community) (0.4.0)\n",
      "Requirement already satisfied: pydantic-settings<3.0.0,>=2.4.0 in c:\\users\\admin\\anaconda3\\envs\\project_final\\lib\\site-packages (from langchain-community) (2.7.1)\n",
      "Requirement already satisfied: openai<2.0.0,>=1.58.1 in c:\\users\\admin\\anaconda3\\envs\\project_final\\lib\\site-packages (from langchain-openai) (1.59.3)\n",
      "Requirement already satisfied: tiktoken<1,>=0.7 in c:\\users\\admin\\anaconda3\\envs\\project_final\\lib\\site-packages (from langchain-openai) (0.8.0)\n",
      "Requirement already satisfied: pinecone-client<6.0.0,>=5.0.0 in c:\\users\\admin\\anaconda3\\envs\\project_final\\lib\\site-packages (from langchain-pinecone) (5.0.1)\n",
      "Requirement already satisfied: aiosignal>=1.1.2 in c:\\users\\admin\\anaconda3\\envs\\project_final\\lib\\site-packages (from aiohttp<4.0.0,>=3.8.3->langchain) (1.3.2)\n",
      "Requirement already satisfied: attrs>=17.3.0 in c:\\users\\admin\\anaconda3\\envs\\project_final\\lib\\site-packages (from aiohttp<4.0.0,>=3.8.3->langchain) (24.3.0)\n",
      "Requirement already satisfied: frozenlist>=1.1.1 in c:\\users\\admin\\anaconda3\\envs\\project_final\\lib\\site-packages (from aiohttp<4.0.0,>=3.8.3->langchain) (1.5.0)\n",
      "Requirement already satisfied: multidict<7.0,>=4.5 in c:\\users\\admin\\anaconda3\\envs\\project_final\\lib\\site-packages (from aiohttp<4.0.0,>=3.8.3->langchain) (6.1.0)\n",
      "Requirement already satisfied: yarl<2.0,>=1.0 in c:\\users\\admin\\anaconda3\\envs\\project_final\\lib\\site-packages (from aiohttp<4.0.0,>=3.8.3->langchain) (1.18.3)\n",
      "Requirement already satisfied: marshmallow<4.0.0,>=3.18.0 in c:\\users\\admin\\anaconda3\\envs\\project_final\\lib\\site-packages (from dataclasses-json<0.7,>=0.5.7->langchain-community) (3.23.3)\n",
      "Requirement already satisfied: typing-inspect<1,>=0.4.0 in c:\\users\\admin\\anaconda3\\envs\\project_final\\lib\\site-packages (from dataclasses-json<0.7,>=0.5.7->langchain-community) (0.9.0)\n",
      "Requirement already satisfied: jsonpointer>=1.9 in c:\\users\\admin\\anaconda3\\envs\\project_final\\lib\\site-packages (from jsonpatch<2.0,>=1.33->langchain-core) (3.0.0)\n",
      "Requirement already satisfied: httpx<1,>=0.23.0 in c:\\users\\admin\\anaconda3\\envs\\project_final\\lib\\site-packages (from langsmith<0.3,>=0.1.17->langchain) (0.28.1)\n",
      "Requirement already satisfied: orjson<4.0.0,>=3.9.14 in c:\\users\\admin\\anaconda3\\envs\\project_final\\lib\\site-packages (from langsmith<0.3,>=0.1.17->langchain) (3.10.13)\n",
      "Requirement already satisfied: requests-toolbelt<2.0.0,>=1.0.0 in c:\\users\\admin\\anaconda3\\envs\\project_final\\lib\\site-packages (from langsmith<0.3,>=0.1.17->langchain) (1.0.0)\n",
      "Requirement already satisfied: anyio<5,>=3.5.0 in c:\\users\\admin\\anaconda3\\envs\\project_final\\lib\\site-packages (from openai<2.0.0,>=1.58.1->langchain-openai) (4.7.0)\n",
      "Requirement already satisfied: distro<2,>=1.7.0 in c:\\users\\admin\\anaconda3\\envs\\project_final\\lib\\site-packages (from openai<2.0.0,>=1.58.1->langchain-openai) (1.9.0)\n",
      "Requirement already satisfied: jiter<1,>=0.4.0 in c:\\users\\admin\\anaconda3\\envs\\project_final\\lib\\site-packages (from openai<2.0.0,>=1.58.1->langchain-openai) (0.8.2)\n",
      "Requirement already satisfied: sniffio in c:\\users\\admin\\anaconda3\\envs\\project_final\\lib\\site-packages (from openai<2.0.0,>=1.58.1->langchain-openai) (1.3.1)\n",
      "Requirement already satisfied: tqdm>4 in c:\\users\\admin\\anaconda3\\envs\\project_final\\lib\\site-packages (from openai<2.0.0,>=1.58.1->langchain-openai) (4.67.1)\n",
      "Requirement already satisfied: certifi>=2019.11.17 in c:\\users\\admin\\anaconda3\\envs\\project_final\\lib\\site-packages (from pinecone-client<6.0.0,>=5.0.0->langchain-pinecone) (2024.12.14)\n",
      "Requirement already satisfied: pinecone-plugin-inference<2.0.0,>=1.0.3 in c:\\users\\admin\\anaconda3\\envs\\project_final\\lib\\site-packages (from pinecone-client<6.0.0,>=5.0.0->langchain-pinecone) (1.1.0)\n",
      "Requirement already satisfied: pinecone-plugin-interface<0.0.8,>=0.0.7 in c:\\users\\admin\\anaconda3\\envs\\project_final\\lib\\site-packages (from pinecone-client<6.0.0,>=5.0.0->langchain-pinecone) (0.0.7)\n",
      "Requirement already satisfied: urllib3>=1.26.0 in c:\\users\\admin\\anaconda3\\envs\\project_final\\lib\\site-packages (from pinecone-client<6.0.0,>=5.0.0->langchain-pinecone) (2.3.0)\n",
      "Requirement already satisfied: annotated-types>=0.6.0 in c:\\users\\admin\\anaconda3\\envs\\project_final\\lib\\site-packages (from pydantic<3.0.0,>=2.7.4->langchain) (0.7.0)\n",
      "Requirement already satisfied: pydantic-core==2.27.2 in c:\\users\\admin\\anaconda3\\envs\\project_final\\lib\\site-packages (from pydantic<3.0.0,>=2.7.4->langchain) (2.27.2)\n",
      "Requirement already satisfied: python-dotenv>=0.21.0 in c:\\users\\admin\\anaconda3\\envs\\project_final\\lib\\site-packages (from pydantic-settings<3.0.0,>=2.4.0->langchain-community) (1.0.1)\n",
      "Requirement already satisfied: charset-normalizer<4,>=2 in c:\\users\\admin\\anaconda3\\envs\\project_final\\lib\\site-packages (from requests<3,>=2->langchain) (3.4.1)\n",
      "Requirement already satisfied: idna<4,>=2.5 in c:\\users\\admin\\anaconda3\\envs\\project_final\\lib\\site-packages (from requests<3,>=2->langchain) (3.10)\n",
      "Requirement already satisfied: greenlet!=0.4.17 in c:\\users\\admin\\anaconda3\\envs\\project_final\\lib\\site-packages (from SQLAlchemy<3,>=1.4->langchain) (3.1.1)\n",
      "Requirement already satisfied: regex>=2022.1.18 in c:\\users\\admin\\anaconda3\\envs\\project_final\\lib\\site-packages (from tiktoken<1,>=0.7->langchain-openai) (2024.11.6)\n",
      "Requirement already satisfied: exceptiongroup>=1.0.2 in c:\\users\\admin\\anaconda3\\envs\\project_final\\lib\\site-packages (from anyio<5,>=3.5.0->openai<2.0.0,>=1.58.1->langchain-openai) (1.2.2)\n",
      "Requirement already satisfied: httpcore==1.* in c:\\users\\admin\\anaconda3\\envs\\project_final\\lib\\site-packages (from httpx<1,>=0.23.0->langsmith<0.3,>=0.1.17->langchain) (1.0.7)\n",
      "Requirement already satisfied: h11<0.15,>=0.13 in c:\\users\\admin\\anaconda3\\envs\\project_final\\lib\\site-packages (from httpcore==1.*->httpx<1,>=0.23.0->langsmith<0.3,>=0.1.17->langchain) (0.14.0)\n",
      "Requirement already satisfied: colorama in c:\\users\\admin\\anaconda3\\envs\\project_final\\lib\\site-packages (from tqdm>4->openai<2.0.0,>=1.58.1->langchain-openai) (0.4.6)\n",
      "Requirement already satisfied: mypy-extensions>=0.3.0 in c:\\users\\admin\\anaconda3\\envs\\project_final\\lib\\site-packages (from typing-inspect<1,>=0.4.0->dataclasses-json<0.7,>=0.5.7->langchain-community) (1.0.0)\n",
      "Requirement already satisfied: propcache>=0.2.0 in c:\\users\\admin\\anaconda3\\envs\\project_final\\lib\\site-packages (from yarl<2.0,>=1.0->aiohttp<4.0.0,>=3.8.3->langchain) (0.2.1)\n",
      "Note: you may need to restart the kernel to use updated packages.\n"
     ]
    }
   ],
   "source": [
    "import pandas as pd\n",
    "%pip install langchain langchain-core langchain-community langchain-text-splitters langchain-openai langchain-pinecone docx2txt"
   ]
  },
  {
   "cell_type": "code",
   "execution_count": 4,
   "id": "4f6218586b0a150d",
   "metadata": {},
   "outputs": [
    {
     "data": {
      "text/plain": [
       "True"
      ]
     },
     "execution_count": 4,
     "metadata": {},
     "output_type": "execute_result"
    }
   ],
   "source": [
    "import os\n",
    "import dotenv\n",
    "\n",
    "dotenv.load_dotenv()"
   ]
  },
  {
   "cell_type": "code",
   "execution_count": 5,
   "id": "423c2b21",
   "metadata": {},
   "outputs": [
    {
     "name": "stdout",
     "output_type": "stream",
     "text": [
      "Requirement already satisfied: langchain_upstage in c:\\users\\admin\\anaconda3\\envs\\project_final\\lib\\site-packages (0.4.0)\n",
      "Requirement already satisfied: langchain-core<0.4,>=0.3.0 in c:\\users\\admin\\anaconda3\\envs\\project_final\\lib\\site-packages (from langchain_upstage) (0.3.29)\n",
      "Requirement already satisfied: langchain-openai<0.3,>=0.2 in c:\\users\\admin\\anaconda3\\envs\\project_final\\lib\\site-packages (from langchain_upstage) (0.2.14)\n",
      "Requirement already satisfied: pypdf<5.0.0,>=4.2.0 in c:\\users\\admin\\anaconda3\\envs\\project_final\\lib\\site-packages (from langchain_upstage) (4.3.1)\n",
      "Requirement already satisfied: requests<3.0.0,>=2.31.0 in c:\\users\\admin\\anaconda3\\envs\\project_final\\lib\\site-packages (from langchain_upstage) (2.32.3)\n",
      "Requirement already satisfied: tokenizers<0.20.0,>=0.19.1 in c:\\users\\admin\\anaconda3\\envs\\project_final\\lib\\site-packages (from langchain_upstage) (0.19.1)\n",
      "Requirement already satisfied: PyYAML>=5.3 in c:\\users\\admin\\anaconda3\\envs\\project_final\\lib\\site-packages (from langchain-core<0.4,>=0.3.0->langchain_upstage) (6.0.2)\n",
      "Requirement already satisfied: jsonpatch<2.0,>=1.33 in c:\\users\\admin\\anaconda3\\envs\\project_final\\lib\\site-packages (from langchain-core<0.4,>=0.3.0->langchain_upstage) (1.33)\n",
      "Requirement already satisfied: langsmith<0.3,>=0.1.125 in c:\\users\\admin\\anaconda3\\envs\\project_final\\lib\\site-packages (from langchain-core<0.4,>=0.3.0->langchain_upstage) (0.2.10)\n",
      "Requirement already satisfied: packaging<25,>=23.2 in c:\\users\\admin\\anaconda3\\envs\\project_final\\lib\\site-packages (from langchain-core<0.4,>=0.3.0->langchain_upstage) (24.2)\n",
      "Requirement already satisfied: pydantic<3.0.0,>=2.5.2 in c:\\users\\admin\\anaconda3\\envs\\project_final\\lib\\site-packages (from langchain-core<0.4,>=0.3.0->langchain_upstage) (2.10.4)\n",
      "Requirement already satisfied: tenacity!=8.4.0,<10.0.0,>=8.1.0 in c:\\users\\admin\\anaconda3\\envs\\project_final\\lib\\site-packages (from langchain-core<0.4,>=0.3.0->langchain_upstage) (9.0.0)\n",
      "Requirement already satisfied: typing-extensions>=4.7 in c:\\users\\admin\\anaconda3\\envs\\project_final\\lib\\site-packages (from langchain-core<0.4,>=0.3.0->langchain_upstage) (4.12.2)\n",
      "Requirement already satisfied: openai<2.0.0,>=1.58.1 in c:\\users\\admin\\anaconda3\\envs\\project_final\\lib\\site-packages (from langchain-openai<0.3,>=0.2->langchain_upstage) (1.59.3)\n",
      "Requirement already satisfied: tiktoken<1,>=0.7 in c:\\users\\admin\\anaconda3\\envs\\project_final\\lib\\site-packages (from langchain-openai<0.3,>=0.2->langchain_upstage) (0.8.0)\n",
      "Requirement already satisfied: charset-normalizer<4,>=2 in c:\\users\\admin\\anaconda3\\envs\\project_final\\lib\\site-packages (from requests<3.0.0,>=2.31.0->langchain_upstage) (3.4.1)\n",
      "Requirement already satisfied: idna<4,>=2.5 in c:\\users\\admin\\anaconda3\\envs\\project_final\\lib\\site-packages (from requests<3.0.0,>=2.31.0->langchain_upstage) (3.10)\n",
      "Requirement already satisfied: urllib3<3,>=1.21.1 in c:\\users\\admin\\anaconda3\\envs\\project_final\\lib\\site-packages (from requests<3.0.0,>=2.31.0->langchain_upstage) (2.3.0)\n",
      "Requirement already satisfied: certifi>=2017.4.17 in c:\\users\\admin\\anaconda3\\envs\\project_final\\lib\\site-packages (from requests<3.0.0,>=2.31.0->langchain_upstage) (2024.12.14)\n",
      "Requirement already satisfied: huggingface-hub<1.0,>=0.16.4 in c:\\users\\admin\\anaconda3\\envs\\project_final\\lib\\site-packages (from tokenizers<0.20.0,>=0.19.1->langchain_upstage) (0.27.0)\n",
      "Requirement already satisfied: filelock in c:\\users\\admin\\anaconda3\\envs\\project_final\\lib\\site-packages (from huggingface-hub<1.0,>=0.16.4->tokenizers<0.20.0,>=0.19.1->langchain_upstage) (3.16.1)\n",
      "Requirement already satisfied: fsspec>=2023.5.0 in c:\\users\\admin\\anaconda3\\envs\\project_final\\lib\\site-packages (from huggingface-hub<1.0,>=0.16.4->tokenizers<0.20.0,>=0.19.1->langchain_upstage) (2024.12.0)\n",
      "Requirement already satisfied: tqdm>=4.42.1 in c:\\users\\admin\\anaconda3\\envs\\project_final\\lib\\site-packages (from huggingface-hub<1.0,>=0.16.4->tokenizers<0.20.0,>=0.19.1->langchain_upstage) (4.67.1)\n",
      "Requirement already satisfied: jsonpointer>=1.9 in c:\\users\\admin\\anaconda3\\envs\\project_final\\lib\\site-packages (from jsonpatch<2.0,>=1.33->langchain-core<0.4,>=0.3.0->langchain_upstage) (3.0.0)\n",
      "Requirement already satisfied: httpx<1,>=0.23.0 in c:\\users\\admin\\anaconda3\\envs\\project_final\\lib\\site-packages (from langsmith<0.3,>=0.1.125->langchain-core<0.4,>=0.3.0->langchain_upstage) (0.28.1)\n",
      "Requirement already satisfied: orjson<4.0.0,>=3.9.14 in c:\\users\\admin\\anaconda3\\envs\\project_final\\lib\\site-packages (from langsmith<0.3,>=0.1.125->langchain-core<0.4,>=0.3.0->langchain_upstage) (3.10.13)\n",
      "Requirement already satisfied: requests-toolbelt<2.0.0,>=1.0.0 in c:\\users\\admin\\anaconda3\\envs\\project_final\\lib\\site-packages (from langsmith<0.3,>=0.1.125->langchain-core<0.4,>=0.3.0->langchain_upstage) (1.0.0)\n",
      "Requirement already satisfied: anyio<5,>=3.5.0 in c:\\users\\admin\\anaconda3\\envs\\project_final\\lib\\site-packages (from openai<2.0.0,>=1.58.1->langchain-openai<0.3,>=0.2->langchain_upstage) (4.7.0)\n",
      "Requirement already satisfied: distro<2,>=1.7.0 in c:\\users\\admin\\anaconda3\\envs\\project_final\\lib\\site-packages (from openai<2.0.0,>=1.58.1->langchain-openai<0.3,>=0.2->langchain_upstage) (1.9.0)\n",
      "Requirement already satisfied: jiter<1,>=0.4.0 in c:\\users\\admin\\anaconda3\\envs\\project_final\\lib\\site-packages (from openai<2.0.0,>=1.58.1->langchain-openai<0.3,>=0.2->langchain_upstage) (0.8.2)\n",
      "Requirement already satisfied: sniffio in c:\\users\\admin\\anaconda3\\envs\\project_final\\lib\\site-packages (from openai<2.0.0,>=1.58.1->langchain-openai<0.3,>=0.2->langchain_upstage) (1.3.1)\n",
      "Requirement already satisfied: annotated-types>=0.6.0 in c:\\users\\admin\\anaconda3\\envs\\project_final\\lib\\site-packages (from pydantic<3.0.0,>=2.5.2->langchain-core<0.4,>=0.3.0->langchain_upstage) (0.7.0)\n",
      "Requirement already satisfied: pydantic-core==2.27.2 in c:\\users\\admin\\anaconda3\\envs\\project_final\\lib\\site-packages (from pydantic<3.0.0,>=2.5.2->langchain-core<0.4,>=0.3.0->langchain_upstage) (2.27.2)\n",
      "Requirement already satisfied: regex>=2022.1.18 in c:\\users\\admin\\anaconda3\\envs\\project_final\\lib\\site-packages (from tiktoken<1,>=0.7->langchain-openai<0.3,>=0.2->langchain_upstage) (2024.11.6)\n",
      "Requirement already satisfied: exceptiongroup>=1.0.2 in c:\\users\\admin\\anaconda3\\envs\\project_final\\lib\\site-packages (from anyio<5,>=3.5.0->openai<2.0.0,>=1.58.1->langchain-openai<0.3,>=0.2->langchain_upstage) (1.2.2)\n",
      "Requirement already satisfied: httpcore==1.* in c:\\users\\admin\\anaconda3\\envs\\project_final\\lib\\site-packages (from httpx<1,>=0.23.0->langsmith<0.3,>=0.1.125->langchain-core<0.4,>=0.3.0->langchain_upstage) (1.0.7)\n",
      "Requirement already satisfied: h11<0.15,>=0.13 in c:\\users\\admin\\anaconda3\\envs\\project_final\\lib\\site-packages (from httpcore==1.*->httpx<1,>=0.23.0->langsmith<0.3,>=0.1.125->langchain-core<0.4,>=0.3.0->langchain_upstage) (0.14.0)\n",
      "Requirement already satisfied: colorama in c:\\users\\admin\\anaconda3\\envs\\project_final\\lib\\site-packages (from tqdm>=4.42.1->huggingface-hub<1.0,>=0.16.4->tokenizers<0.20.0,>=0.19.1->langchain_upstage) (0.4.6)\n",
      "Note: you may need to restart the kernel to use updated packages.\n"
     ]
    }
   ],
   "source": [
    "%pip install langchain_upstage"
   ]
  },
  {
   "cell_type": "code",
   "execution_count": 6,
   "id": "10da07f7226e7b6",
   "metadata": {
    "ExecuteTime": {
     "end_time": "2025-01-04T01:09:00.377569Z",
     "start_time": "2025-01-04T01:08:58.775239Z"
    }
   },
   "outputs": [],
   "source": [
    "import os\n",
    "from langchain_upstage import UpstageEmbeddings\n",
    "from langchain_text_splitters import RecursiveCharacterTextSplitter\n",
    "from langchain_community.document_loaders.csv_loader import CSVLoader\n",
    "from pprint import pprint\n",
    "\n",
    "# os.environ[\"GPT_API_KEY\"] = GPT_API_KEY\n",
    "UPSTAGE_API_KEY = os.environ[\"UPSTAGE_API_KEY\"]\n",
    "PINECONE_API_KEY = os.environ[\"PINECONE_API_KEY\"]\n",
    "\n",
    "text_splitter = RecursiveCharacterTextSplitter(\n",
    "    chunk_size=1500,\n",
    "    chunk_overlap=200,\n",
    ")"
   ]
  },
  {
   "cell_type": "code",
   "execution_count": 7,
   "id": "c493976160090709",
   "metadata": {
    "ExecuteTime": {
     "end_time": "2024-12-30T10:01:56.718761Z",
     "start_time": "2024-12-30T10:01:56.704649Z"
    }
   },
   "outputs": [],
   "source": [
    "folder_path = '../data'"
   ]
  },
  {
   "cell_type": "code",
   "execution_count": 8,
   "id": "86175e1843b29943",
   "metadata": {
    "ExecuteTime": {
     "end_time": "2024-12-30T10:02:01.024673Z",
     "start_time": "2024-12-30T10:02:01.000327Z"
    }
   },
   "outputs": [
    {
     "name": "stdout",
     "output_type": "stream",
     "text": [
      "CANCEL_main_qna_list.csv\n",
      "DELIVERY_main_qna_list.csv\n",
      "ORDER_main_qna_list.csv\n",
      "REFUND_main_qna_list.csv\n",
      "SUB_qna_list.csv\n",
      "309\n"
     ]
    }
   ],
   "source": [
    "document_list = []\n",
    "\n",
    "for file in os.listdir(folder_path):\n",
    "    print(file)\n",
    "    temp_loader = CSVLoader(file_path=f\"{folder_path}/{file}\", encoding='utf-8-sig')\n",
    "    temp_document_list = temp_loader.load_and_split(text_splitter=text_splitter)\n",
    "    \n",
    "    document_list.extend(temp_document_list)\n",
    "\n",
    "print(len(document_list))"
   ]
  },
  {
   "cell_type": "code",
   "execution_count": 9,
   "id": "7719061b6dab8d39",
   "metadata": {
    "ExecuteTime": {
     "end_time": "2025-01-04T01:09:06.448010Z",
     "start_time": "2025-01-04T01:09:05.936470Z"
    }
   },
   "outputs": [],
   "source": [
    "# Upstage 에서 제공하는 Embedding Model을 활용\n",
    "embedding = UpstageEmbeddings(model=\"solar-embedding-1-large\",\n",
    "                              api_key=UPSTAGE_API_KEY)"
   ]
  },
  {
   "cell_type": "code",
   "execution_count": 10,
   "id": "5888d34b4e41a2d8",
   "metadata": {
    "ExecuteTime": {
     "end_time": "2025-01-04T01:09:11.978940Z",
     "start_time": "2025-01-04T01:09:11.524428Z"
    }
   },
   "outputs": [
    {
     "name": "stderr",
     "output_type": "stream",
     "text": [
      "c:\\Users\\Admin\\anaconda3\\envs\\project_final\\lib\\site-packages\\pinecone\\data\\index.py:1: TqdmWarning: IProgress not found. Please update jupyter and ipywidgets. See https://ipywidgets.readthedocs.io/en/stable/user_install.html\n",
      "  from tqdm.autonotebook import tqdm\n"
     ]
    }
   ],
   "source": [
    "from langchain_pinecone import PineconeVectorStore\n",
    "\n",
    "\n",
    "index_name = 'upstage-index'"
   ]
  },
  {
   "cell_type": "code",
   "execution_count": 13,
   "id": "23399523e40f7306",
   "metadata": {},
   "outputs": [],
   "source": [
    "# DB 처음 만들 때\n",
    "database = PineconeVectorStore.from_documents(document_list, embedding, index_name=index_name)\n"
   ]
  },
  {
   "cell_type": "code",
   "execution_count": 11,
   "id": "3e740ffcf8368014",
   "metadata": {
    "ExecuteTime": {
     "end_time": "2025-01-04T01:09:15.404288Z",
     "start_time": "2025-01-04T01:09:13.088429Z"
    }
   },
   "outputs": [],
   "source": [
    "# 만들어 놓은 DB가 있을 때\n",
    "database = PineconeVectorStore.from_existing_index(index_name=index_name, embedding=embedding)"
   ]
  },
  {
   "cell_type": "markdown",
   "id": "41e7d72561431bf2",
   "metadata": {},
   "source": [
    "# Vectorstore 유사도 검색"
   ]
  },
  {
   "cell_type": "code",
   "execution_count": 22,
   "id": "e86e50ac276f7496",
   "metadata": {
    "ExecuteTime": {
     "end_time": "2025-01-04T01:41:19.846034Z",
     "start_time": "2025-01-04T01:41:17.991659Z"
    }
   },
   "outputs": [
    {
     "name": "stdout",
     "output_type": "stream",
     "text": [
      "* [SIM=0.488640] Question: 단순 변심 반품 비용\n",
      "Answer: 로켓배송 상품\n",
      "• 와우 멤버십 회원 : 무료\n",
      "• 와우 멤버십 비회원\n",
      "ㆍ총 주문금액 - 반품 상품금액 = 19800원 미만인 경우 반품비 5000원 차감 후 환불\n",
      "ㆍ총 주문금액 - 반품 상품금액 = 19800원 이상인 경우 반품비 2500원 차감 후 환불\n",
      " 로켓직구 상품\n",
      "• 와우 멤버십 회원 : 5000원 (미국 직구 2600원)\n",
      "• 와우 멤버십 비회원\n",
      "ㆍ총 주문금액 - 반품 상품금액 = 29800원 미만인 경우 반품비 5000원 차감 후 환불 (미국 직구 2600원)\n",
      "ㆍ총 주문금액 - 반품 상품금액 = 29800원 이상인 경우 반품비 2500원 차감 후 환불 (미국 직구 2500원)\n",
      "• 단 TV 및 일부 전자기기와 같은 특정 제품(다이슨 로봇청소기 등)은 2600원/5000원 보다 높은 교환/반품비가 적용될 수 있음\n",
      " 판매자 배송 상품\n",
      "• 배송 시작 이후 최초 배송비를 포함한 왕복 배송비 차감 후 환불\n",
      "• 반품비는 판매자 및 상품에 따라 상이함\n",
      "• 도서산간 지역 설치 상품 업체에서 직접 배송하는 상품의 경우 반품비가 추가될 수 있음\n",
      "keywords: SUB\n",
      "count: 0 [{'row': 15.0, 'source': '../data/SUB_qna_list.csv'}]\n",
      "* [SIM=0.488591] Question: 단순 변심 반품 비용\n",
      "Answer: 로켓배송 상품\n",
      "• 와우 멤버십 회원 : 무료\n",
      "• 와우 멤버십 비회원\n",
      "ㆍ총 주문금액 - 반품 상품금액 = 19800원 미만인 경우 반품비 5000원 차감 후 환불\n",
      "ㆍ총 주문금액 - 반품 상품금액 = 19800원 이상인 경우 반품비 2500원 차감 후 환불\n",
      " 로켓직구 상품\n",
      "• 와우 멤버십 회원 : 5000원 (미국 직구 2600원)\n",
      "• 와우 멤버십 비회원\n",
      "ㆍ총 주문금액 - 반품 상품금액 = 29800원 미만인 경우 반품비 5000원 차감 후 환불 (미국 직구 2600원)\n",
      "ㆍ총 주문금액 - 반품 상품금액 = 29800원 이상인 경우 반품비 2500원 차감 후 환불 (미국 직구 2500원)\n",
      "• 단 TV 및 일부 전자기기와 같은 특정 제품(다이슨 로봇청소기 등)은 2600원/5000원 보다 높은 교환/반품비가 적용될 수 있음\n",
      " 판매자 배송 상품\n",
      "• 배송 시작 이후 최초 배송비를 포함한 왕복 배송비 차감 후 환불\n",
      "• 반품비는 판매자 및 상품에 따라 상이함\n",
      "• 도서산간 지역 설치 상품 업체에서 직접 배송하는 상품의 경우 반품비가 추가될 수 있음\n",
      "keywords: SUB\n",
      "count: 0 [{'row': 15.0, 'source': '../data/SUB_qna_list.csv'}]\n",
      "* [SIM=0.488165] Question: 단순 변심 반품의 경우\n",
      "Answer: 로켓배송 상품\n",
      "• 와우 멤버십 회원 : 무료\n",
      "• 와우 멤버십 비회원\n",
      "ㆍ총 주문금액 - 반품 상품금액 = 19800원 미만인 경우 반품비 5000원 차감 후 환불\n",
      "ㆍ총 주문금액 - 반품 상품금액 = 19800원 이상인 경우 반품비 2500원 차감 후 환불\n",
      " 로켓직구 상품\n",
      "• 와우 멤버십 회원 : 5000원 (미국 직구 2600원)\n",
      "• 와우 멤버십 비회원\n",
      "ㆍ총 주문금액 - 반품 상품금액 = 29800원 미만인 경우 반품비 5000원 차감 후 환불 (미국 직구 2600원)\n",
      "ㆍ총 주문금액 - 반품 상품금액 = 29800원 이상인 경우 반품비 2500원 차감 후 환불 (미국 직구 2500원)\n",
      "• 단 TV 및 일부 전자기기와 같은 특정 제품(다이슨 로봇청소기 등)은 2600원/5000원 보다 높은 교환/반품비가 적용될 수 있음\n",
      " 판매자 배송 상품\n",
      "• 배송 시작 이후 최초 배송비를 포함한 왕복 배송비 차감 후 환불\n",
      "• 반품비는 판매자 및 상품에 따라 상이하며 상황에 따라 별도 입금이 요청될 수 있음\n",
      "• 도서산간 지역 설치 상품 업체에서 직접 배송하는 상품의 경우 반품비가 추가될 수 있음\n",
      "keywords: SUB\n",
      "count: 0 [{'row': 10.0, 'source': '../data/SUB_qna_list.csv'}]\n"
     ]
    }
   ],
   "source": [
    "query = '반품비는 얼마인가요?'\n",
    "\n",
    "results = database.similarity_search_with_score(query=query, k=3)\n",
    "for doc, score in results:\n",
    "    print(f\"* [SIM={score:3f}] {doc.page_content} [{doc.metadata}]\")\n",
    "    "
   ]
  },
  {
   "cell_type": "markdown",
   "id": "f9e6e31fe66017cf",
   "metadata": {},
   "source": [
    "# LLM 질의 테스트"
   ]
  },
  {
   "cell_type": "code",
   "execution_count": 46,
   "id": "35eeee402a11d206",
   "metadata": {
    "ExecuteTime": {
     "end_time": "2025-01-04T01:50:56.945106Z",
     "start_time": "2025-01-04T01:50:51.756239Z"
    }
   },
   "outputs": [
    {
     "name": "stdout",
     "output_type": "stream",
     "text": [
      "* [SIM=0.538316] : 38\n",
      "Question: Q[배송지] 배송 중에 배송지 및 배송요청사항을 변경할 수 있나요?\n",
      "Answer: 아니요. 상품이 이미 출고되어 배송 중인 상태에서는 배송지 및 배송요청사항을 변경할 수 없습니다.\n",
      "keywords: DELIVERY\n",
      "count: 0 [{'row': 38.0, 'source': '../data/DELIVERY_main_qna_list.csv'}]\n",
      "* [SIM=0.538260] : 38\n",
      "Question: Q[배송지] 배송 중에 배송지 및 배송요청사항을 변경할 수 있나요?\n",
      "Answer: 아니요. 상품이 이미 출고되어 배송 중인 상태에서는 배송지 및 배송요청사항을 변경할 수 없습니다.\n",
      "keywords: DELIVERY\n",
      "count: 0 [{'row': 38.0, 'source': '../data/DELIVERY_main_qna_list.csv'}]\n",
      "* [SIM=0.510390] : 39\n",
      "Question: Q[배송지] 교환 신청 시 새 상품을 받을 배송지를 변경할 수 있나요?\n",
      "Answer: 네 마이쿠팡에서 교환 신청 시 회수지와 배송지 주소를 다르게 정할 수 있습니다.\n",
      "keywords: CANCEL\n",
      "count: 0 [{'row': 39.0, 'source': '../data/CANCEL_main_qna_list.csv'}]\n",
      "[(Document(id='18bed970-4bb3-4465-b37a-60f11e602eef', metadata={'row': 38.0, 'source': '../data/DELIVERY_main_qna_list.csv'}, page_content=': 38\\nQuestion: Q[배송지] 배송 중에 배송지 및 배송요청사항을 변경할 수 있나요?\\nAnswer: 아니요. 상품이 이미 출고되어 배송 중인 상태에서는 배송지 및 배송요청사항을 변경할 수 없습니다.\\nkeywords: DELIVERY\\ncount: 0'),\n",
      "  0.538315892),\n",
      " (Document(id='8a6afc89-6b94-43bd-a749-4b6004c6828f', metadata={'row': 38.0, 'source': '../data/DELIVERY_main_qna_list.csv'}, page_content=': 38\\nQuestion: Q[배송지] 배송 중에 배송지 및 배송요청사항을 변경할 수 있나요?\\nAnswer: 아니요. 상품이 이미 출고되어 배송 중인 상태에서는 배송지 및 배송요청사항을 변경할 수 없습니다.\\nkeywords: DELIVERY\\ncount: 0'),\n",
      "  0.538259506),\n",
      " (Document(id='70c6deea-4892-438a-810d-e35352aface6', metadata={'row': 39.0, 'source': '../data/CANCEL_main_qna_list.csv'}, page_content=': 39\\nQuestion: Q[배송지] 교환 신청 시 새 상품을 받을 배송지를 변경할 수 있나요?\\nAnswer: 네 마이쿠팡에서 교환 신청 시 회수지와 배송지 주소를 다르게 정할 수 있습니다.\\nkeywords: CANCEL\\ncount: 0'),\n",
      "  0.51039)]\n",
      "Answer : 죄송합니다만, 상품이 이미 배송 중인 경우에는 배송지 변경이 어렵습니다.\n",
      " 주문 후 결제 완료 직후에는 변경이 가능할 수 있지만, 상품의 종류나 준비 상태에 따라 다를 수 있으니 확인이 필요합니다.\n",
      " 정확한 상담을 위해 주문하신 주문 번호 확인 부탁드립니다.\n",
      "\n",
      ".\n"
     ]
    }
   ],
   "source": [
    "from langchain.prompts import ChatPromptTemplate\n",
    "from langchain_google_genai import ChatGoogleGenerativeAI\n",
    "from langchain_core.output_parsers import StrOutputParser\n",
    "from langchain_core.runnables import RunnablePassthrough\n",
    "\n",
    "retriever = database.as_retriever(\n",
    "    search_type=\"mmr\", search_kwargs={\"k\": 3, \"fetch_k\": 5}\n",
    ")\n",
    "\n",
    "template ='''\n",
    "[context]: {context}\n",
    "---\n",
    "[질의]: {query}\n",
    "\n",
    "위의 [context] 정보 내에서 [질의]에 대해 상담사 입장에서 사용자가 만족할 수 있을 정도로 성의있고 친절하게 답하세요.\n",
    "단, [context] 정보에 없는 내용을 답해서는 안됩니다. 쉼표로 끊어서 대답하기 보다는, 최대한 온점으로 문장을 끊어주세요.\n",
    "이 모든 정보를 종합해서 2~3줄의 구어체로 답해주세요. 이유는 필요없어. 상냥하고 전문적으로 응대만 해.\n",
    "\n",
    "[context]를 받고, 관련된 내용을 토대로 상담합니다. 가능한 한 직접 정보를 확인하고 해결합니다.\n",
    "고객에게 직접 확인하게 하지 말고, 직접 확인 후 안내하는 방식으로 진행합니다.\n",
    "\n",
    "양해 멘트 및 쿠션어를 많이 사용합니다.\n",
    "파손 등 부정적인 내용의 문의사항일 경우, \"불편을 드려 죄송합니다\" 같은 쿠션어를 사용해 주세요.\n",
    "고객이 직접 작업을 수행해야 하는 경우, 문장 앞에 \"번거로우시겠지만\" 같은 쿠션어를 사용해 주세요.\n",
    "\"안 된다\", \"불가능하다\" 대신 \"어렵습니다\"처럼 간접적인 부정어를 사용합니다.\n",
    "\n",
    "추가 정보가 필요할 때에는 정보 확인 멘트를 사용해서 응대합니다.\n",
    "조건별로 안내 내용이 다른 경우,양해 멘트와 정보 확인 멘트의 구성으로 답 합니다.\n",
    "정보 확인 멘트는 \"정확한 상담을 위해 주문하신 주문 번호 확인 부탁드립니다.\"라는 멘트를 사용합니다.\n",
    "\n",
    "예시\n",
    "[질의] 반품비는 얼마인가요?\n",
    "[답] (1차 안내) 귀책 사유에 따라 반품비 발생 여부나 비용에 차이가 있을 수 있습니다. (정보 확인) 정확한 상담을 위해 주문하신 주문 번호 확인 부탁드립니다.\n",
    "\n",
    "'''\n",
    "prompt = ChatPromptTemplate.from_template(template)\n",
    "\n",
    "llm = ChatGoogleGenerativeAI(model=\"gemini-1.5-flash\", temperature=0)\n",
    "\n",
    "def merge_pages(pages):\n",
    "    merged = \"\\n\\n\".join(page.page_content for page in pages)\n",
    "    return merged\n",
    "\n",
    "chain = (\n",
    "    {\"query\": RunnablePassthrough(), \"context\": retriever | merge_pages}\n",
    "    | prompt\n",
    "    | llm\n",
    "    | StrOutputParser()\n",
    ")\n",
    "\n",
    "query = '배송 중 상품을 다른 주소로 변경할 수 있나요?'\n",
    "\n",
    "results = database.similarity_search_with_score(query=query, k=3)\n",
    "for doc, score in results:\n",
    "    print(f\"* [SIM={score:3f}] {doc.page_content} [{doc.metadata}]\")\n",
    "\n",
    "pprint(results)\n",
    "\n",
    "answer = chain.invoke(query).replace('  ', ' ').split('.')\n",
    "print(\"Answer : \", end='')\n",
    "for ans in answer:\n",
    "    print(ans + '.')\n",
    "    "
   ]
  },
  {
   "cell_type": "code",
   "execution_count": null,
   "id": "a85500367870cbbe",
   "metadata": {},
   "outputs": [],
   "source": []
  }
 ],
 "metadata": {
  "kernelspec": {
   "display_name": "project_final",
   "language": "python",
   "name": "python3"
  },
  "language_info": {
   "codemirror_mode": {
    "name": "ipython",
    "version": 3
   },
   "file_extension": ".py",
   "mimetype": "text/x-python",
   "name": "python",
   "nbconvert_exporter": "python",
   "pygments_lexer": "ipython3",
   "version": "3.10.16"
  }
 },
 "nbformat": 4,
 "nbformat_minor": 5
}
